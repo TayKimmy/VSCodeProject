{
 "cells": [
  {
   "cell_type": "markdown",
   "metadata": {},
   "source": [
    "# Unit 3 Sections 12 and 13 Homework and Challenge\n",
    "- comments: true\n",
    "- toc: true"
   ]
  },
  {
   "cell_type": "markdown",
   "metadata": {},
   "source": [
    "## Notes\n",
    "\n",
    "Procedure: A named group of programming instructions that may have parameters and return values.\n",
    "- Can also be referred as method or function, depending on the language\n",
    "\n",
    "Parameters: Input values of a procedure\n",
    "\n",
    "Arguments: Specify the values of the parameters when a procedure is called\n",
    "\n",
    "Modularity: The compartmentalization and interrelation of the parts of code\n",
    "\n",
    "Procedural Abstraction: Provides a name for a process that allows a procedure to be used only knowing what it does\n",
    "- Have variable parameters\n",
    "- Code handles different situations depending on how its parameters are set/called\n",
    "- It allows a solution to a large problem based on the solutions of smaller subproblems.\n",
    "\n",
    "What are some other names for procedures?: Another name for procedures are function. Procedure names can be any name we want, i.e. decimalToBinary()\n",
    "\n",
    "Why are procedures effective?: Have the ability to alter the result without actually changing the calls to the program\n",
    "- Convenient to change the actions if there is an error in the code\n",
    "    - Able to break the code up and abstract what different part of the code does; helps identiy bugs, error, etc.\n",
    "    - Much better than reviewing code without a procedure (you would have to look at every line by line)"
   ]
  },
  {
   "attachments": {},
   "cell_type": "markdown",
   "metadata": {},
   "source": [
    "## <mark>Challenge 1</mark> below: Add the command that will **call** the procedure. "
   ]
  },
  {
   "cell_type": "code",
   "execution_count": 32,
   "metadata": {},
   "outputs": [
    {
     "name": "stdout",
     "output_type": "stream",
     "text": [
      "111"
     ]
    }
   ],
   "source": [
    "decimal = 7\n",
    "\n",
    "def convertToBinary(n):\n",
    "    if n > 1:\n",
    "        convertToBinary(n//2)\n",
    "    print(n%2, end = \"\")\n",
    "\n",
    "convertToBinary(decimal)"
   ]
  },
  {
   "attachments": {},
   "cell_type": "markdown",
   "metadata": {},
   "source": [
    "## <mark>Challenge 2</mark> below: Complete the Min and Max procedure in either JavaScript and Python using the instructions from the JavaScript page. (JavaScript will get you a extra 0.1)"
   ]
  },
  {
   "cell_type": "code",
   "execution_count": 13,
   "metadata": {
    "vscode": {
     "languageId": "javascript"
    }
   },
   "outputs": [
    {
     "name": "stdout",
     "output_type": "stream",
     "text": [
      "The maximum number of 5 and 4 is 5\n",
      "The minimum number of 5 and 4 is 4\n"
     ]
    }
   ],
   "source": [
    "function findMax(numberA, numberB){\n",
    "    if (numberA > numberB){\n",
    "        return numberA;\n",
    "    } else {\n",
    "        return numberB;\n",
    "    }\n",
    "}\n",
    "function findMin(numberA, numberB){\n",
    "    if (numberA < numberB){\n",
    "        return numberA;\n",
    "    } else {\n",
    "        return numberB;\n",
    "    }\n",
    "}\n",
    "let maximum1 = findMax(5, 4);\n",
    "let minimum1 = findMin(5, 4);\n",
    "console.log(\"The maximum number of 5 and 4 is \" + maximum1);\n",
    "console.log(\"The minimum number of 5 and 4 is \" + minimum1);"
   ]
  },
  {
   "attachments": {},
   "cell_type": "markdown",
   "metadata": {},
   "source": [
    "### <mark>Homework/Hacks</mark>: For the hw, you have two options, easy or hard. The easy hack is for a 2.7 + extra work for the full 3. The easy hack is simply creating your own procedure with your own creativity. Since there is a lot of leeway for this one, you must do additional work to get a 3. For the hard hack, below is the start to a character to binary convertor. This is just a template, but the goal is to translate \"APCSP\" into binary. You can delete the existing code if you want. The only contraint is that you must use a procedure. Doing this will get you a 3. "
   ]
  },
  {
   "cell_type": "code",
   "execution_count": 31,
   "metadata": {},
   "outputs": [
    {
     "name": "stdout",
     "output_type": "stream",
     "text": [
      "Original text is: APCSP\n",
      "The binary is: 0110111\n"
     ]
    }
   ],
   "source": [
    "def charToBinary(x):\n",
    "    number = 0\n",
    "    for i in x:\n",
    "        letter = ord(i) - 64\n",
    "        number = number + letter\n",
    "    return bin(number).replace(\"0b\", \"0\")\n",
    "\n",
    "\n",
    "text = \"APCSP\"\n",
    "c = charToBinary(text)\n",
    "print(\"Original text is: \" + text)\n",
    "print(\"The binary is: \" + c)"
   ]
  }
 ],
 "metadata": {
  "kernelspec": {
   "display_name": "Python 3.9.12 ('base')",
   "language": "python",
   "name": "python3"
  },
  "language_info": {
   "codemirror_mode": {
    "name": "ipython",
    "version": 3
   },
   "file_extension": ".py",
   "mimetype": "text/x-python",
   "name": "python",
   "nbconvert_exporter": "python",
   "pygments_lexer": "ipython3",
   "version": "3.9.12"
  },
  "orig_nbformat": 4,
  "vscode": {
   "interpreter": {
    "hash": "1b2d041746c7b3ba1eb0aacc992799c1dfdaf7cc8fa7dfef2e90211c0a9fde58"
   }
  }
 },
 "nbformat": 4,
 "nbformat_minor": 2
}
