{
 "cells": [
  {
   "cell_type": "markdown",
   "metadata": {},
   "source": [
    "# Python Lists and Dictionaries Post\n",
    "> Using lists and dictionaries in python code.\n",
    "\n",
    "- toc: true \n",
    "- badges: true\n",
    "- comments: true\n",
    "- categories: [jupyter]"
   ]
  },
  {
   "cell_type": "markdown",
   "metadata": {},
   "source": [
    "## InfoDb\n",
    "\n",
    "InfoDb is a dictionary inside of a list. Here is an example code using InfoDb:"
   ]
  },
  {
   "cell_type": "code",
   "execution_count": 2,
   "metadata": {},
   "outputs": [
    {
     "name": "stdout",
     "output_type": "stream",
     "text": [
      "[{'FirstName': 'John', 'LastName': 'Mortensen', 'DOB': 'October 21', 'Residence': 'San Diego', 'Email': 'jmortensen@powayusd.com', 'Owns_Cars': ['2015-Fusion', '2011-Ranger', '2003-Excursion', '1997-F350', '1969-Cadillac']}, {'FirstName': 'Sunny', 'LastName': 'Naidu', 'DOB': 'August 2', 'Residence': 'Temecula', 'Email': 'snaidu@powayusd.com', 'Owns_Cars': ['4Runner']}, {'FirstName': 'Tay', 'LastName': 'Kim', 'DOB': 'May 13', 'Residence': 'San Diego', 'Email': 'taykimpro@gmail.com', 'Owns_Cars': ['None']}]\n"
     ]
    }
   ],
   "source": [
    "# Define an empty List called InfoDb\n",
    "InfoDb = []\n",
    "\n",
    "# Append to List a Dictionary of key/values related to a person and cars\n",
    "InfoDb.append({\n",
    "    \"FirstName\": \"John\",\n",
    "    \"LastName\": \"Mortensen\",\n",
    "    \"DOB\": \"October 21\",\n",
    "    \"Residence\": \"San Diego\",\n",
    "    \"Email\": \"jmortensen@powayusd.com\",\n",
    "    \"Owns_Cars\": [\"2015-Fusion\", \"2011-Ranger\", \"2003-Excursion\", \"1997-F350\", \"1969-Cadillac\"]\n",
    "})\n",
    "\n",
    "# Append to List a 2nd Dictionary of key/values\n",
    "InfoDb.append({\n",
    "    \"FirstName\": \"Sunny\",\n",
    "    \"LastName\": \"Naidu\",\n",
    "    \"DOB\": \"August 2\",\n",
    "    \"Residence\": \"Temecula\",\n",
    "    \"Email\": \"snaidu@powayusd.com\",\n",
    "    \"Owns_Cars\": [\"4Runner\"]\n",
    "})\n",
    "\n",
    "InfoDb.append({\n",
    "    \"FirstName\": \"Tay\",\n",
    "    \"LastName\": \"Kim\",\n",
    "    \"DOB\": \"May 13\",\n",
    "    \"Residence\": \"San Diego\",\n",
    "    \"Email\": \"taykimpro@gmail.com\",\n",
    "    \"Owns_Cars\": [\"None\"]\n",
    "})\n",
    "\n",
    "# Print the data structure\n",
    "print(InfoDb)"
   ]
  },
  {
   "cell_type": "markdown",
   "metadata": {},
   "source": [
    "## For Loops and Index\n",
    "\n",
    "Using `for loops` and iterating through using `index` in python. Here is a simple example:"
   ]
  },
  {
   "cell_type": "code",
   "execution_count": 3,
   "metadata": {},
   "outputs": [
    {
     "name": "stdout",
     "output_type": "stream",
     "text": [
      "Honda\n",
      "Hyundai\n",
      "Kia\n",
      "Tesla\n",
      "Lamborghini\n",
      "Ferrari\n",
      "Bugatti\n",
      "Toyota\n",
      "Porsche\n",
      "Mustang\n",
      "BMW\n",
      "Mercedes\n"
     ]
    }
   ],
   "source": [
    "Car_Brands = [\"Honda\", \"Hyundai\", \"Kia\", \"Tesla\", \"Lamborghini\", \"Ferrari\", \"Bugatti\", \"Toyota\", \"Porsche\", \"Mustang\", \"BMW\", \"Mercedes\"]\n",
    "for i in Car_Brands:\n",
    "    print(i)"
   ]
  },
  {
   "cell_type": "markdown",
   "metadata": {},
   "source": [
    "## Outputting in Reverse Order\n",
    "\n",
    "It is possible to output data in a reverse order. Here is an example using a palindrome:"
   ]
  },
  {
   "cell_type": "code",
   "execution_count": 5,
   "metadata": {},
   "outputs": [
    {
     "name": "stdout",
     "output_type": "stream",
     "text": [
      "eyb\n",
      "bye\n",
      "The provided word is not a palindrome.\n"
     ]
    }
   ],
   "source": [
    "def is_palindrome(prompt):\n",
    "    print(prompt[::-1])\n",
    "    print(prompt)\n",
    "    return prompt[::-1] == prompt\n",
    "\n",
    "word = input(\"Enter a word: \")\n",
    "if is_palindrome(word.lower()) is True:\n",
    "    print(\"{0} is a palindrome!\".format(word))\n",
    "else:\n",
    "    print(\"The provided word is not a palindrome.\")"
   ]
  },
  {
   "cell_type": "markdown",
   "metadata": {},
   "source": [
    "## Other list methods\n",
    "\n",
    "Lists can have a variety of methods performed on them. A couple being `.append()` or `while loop`. Here is an example using `.append()` and `.lower()` with a `for loop`:"
   ]
  },
  {
   "cell_type": "code",
   "execution_count": 23,
   "metadata": {},
   "outputs": [
    {
     "name": "stdout",
     "output_type": "stream",
     "text": [
      "['box jellyfish', 'african cape buffalo', 'black mamba', 'blue-ringed octopus', 'cone snail']\n"
     ]
    }
   ],
   "source": [
    "Dangerous_Animals = [\"Box Jellyfish\", \"African CAPE BuFfalo\", \"BLAck MambA\", \"Blue-RINGED octopus\"]\n",
    "Dangerous_Animals.append(\"Cone SnAIl\")\n",
    "for i in range(len(Dangerous_Animals)):\n",
    "    Dangerous_Animals[i] = Dangerous_Animals[i].lower()\n",
    "print(Dangerous_Animals)"
   ]
  },
  {
   "cell_type": "markdown",
   "metadata": {},
   "source": [
    "## Adding to a Dictionary\n",
    "\n",
    "You can also add or create new keys and values to a dictionary data set. This can also be done with input. Here is an example:"
   ]
  },
  {
   "cell_type": "code",
   "execution_count": 27,
   "metadata": {},
   "outputs": [
    {
     "name": "stdout",
     "output_type": "stream",
     "text": [
      "{'Pikachu': 'Electric-type', 'Charizard': 'Fire-type', 'Blastoise': 'Water-type', 'Venusaur': 'Grass-type', 'Snorlax': 'Normal-type', 'Garchomp': 'Dragon-type', 'Lucario': 'Fighting-type', 'Darkrai': 'Dark-type', 'Arceus': 'Normal-type'}\n",
      "{'Pikachu': 'Electric-type', 'Charizard': 'Fire-type', 'Blastoise': 'Water-type', 'Venusaur': 'Grass-type', 'Snorlax': 'Normal-type', 'Garchomp': 'Dragon-type', 'Lucario': 'Fighting-type', 'Darkrai': 'Dark-type', 'Arceus': 'Normal-type', 'Reshiram': 'Dragon-type'}\n"
     ]
    }
   ],
   "source": [
    "My_Dict = {\n",
    "    \"Pikachu\": \"Electric-type\",\n",
    "    \"Charizard\": \"Fire-type\",\n",
    "    \"Blastoise\": \"Water-type\",\n",
    "    \"Venusaur\": \"Grass-type\",\n",
    "    \"Snorlax\": \"Normal-type\",\n",
    "    \"Garchomp\": \"Dragon-type\",\n",
    "    \"Lucario\": \"Fighting-type\",\n",
    "    \"Darkrai\": \"Dark-type\",\n",
    "    \"Arceus\": \"Normal-type\",\n",
    "}\n",
    "print(My_Dict)\n",
    "My_Dict[\"Reshiram\"] = \"Dragon-type\" #Added new key and value into dictionary\n",
    "print(My_Dict)"
   ]
  }
 ],
 "metadata": {
  "kernelspec": {
   "display_name": "Python 3.8.10 64-bit",
   "language": "python",
   "name": "python3"
  },
  "language_info": {
   "codemirror_mode": {
    "name": "ipython",
    "version": 3
   },
   "file_extension": ".py",
   "mimetype": "text/x-python",
   "name": "python",
   "nbconvert_exporter": "python",
   "pygments_lexer": "ipython3",
   "version": "3.8.10"
  },
  "orig_nbformat": 4,
  "vscode": {
   "interpreter": {
    "hash": "916dbcbb3f70747c44a77c7bcd40155683ae19c65e1c03b4aa3499c5328201f1"
   }
  }
 },
 "nbformat": 4,
 "nbformat_minor": 2
}
