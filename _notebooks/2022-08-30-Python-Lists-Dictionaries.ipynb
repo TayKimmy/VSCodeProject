{
 "cells": [
  {
   "cell_type": "markdown",
   "metadata": {},
   "source": [
    "# Python Lists and Dictionaries Post\n",
    "> Using lists and dictionaries in python code.\n",
    "\n",
    "- toc: true \n",
    "- badges: true\n",
    "- comments: true\n",
    "- categories: [jupyter, Week 2]"
   ]
  },
  {
   "cell_type": "markdown",
   "metadata": {},
   "source": [
    "## InfoDb\n",
    "\n",
    "InfoDb is a dictionary inside of a list. The example below has parts from the class repository. The dictionary information is appended into a list, making an InfoDb. I appended my own information and I also coded it so that people could input their own information."
   ]
  },
  {
   "cell_type": "code",
   "execution_count": 11,
   "metadata": {},
   "outputs": [
    {
     "name": "stdout",
     "output_type": "stream",
     "text": [
      "[{'FirstName': 'John', 'LastName': 'Mortensen', 'DOB': 'October 21', 'Residence': 'San Diego', 'Email': 'jmortensen@powayusd.com', 'Owns_Cars': ['2015-Fusion', '2011-Ranger', '2003-Excursion', '1997-F350', '1969-Cadillac']}, {'FirstName': 'Sunny', 'LastName': 'Naidu', 'DOB': 'August 2', 'Residence': 'Temecula', 'Email': 'snaidu@powayusd.com', 'Owns_Cars': ['4Runner']}, {'FirstName': 'Tay', 'LastName': 'Kim', 'DOB': 'May 13', 'Residence': 'San Diego', 'Email': 'taykimpro@gmail.com', 'Owns_Cars': ['None']}, {'FirstName': 'Rob', 'LastName': 'Smith', 'DOB': 'September 24', 'Residence': '4S Ranch', 'Email': 'robbydobby@gmail.com'}]\n"
     ]
    }
   ],
   "source": [
    "# Define an empty List called InfoDb\n",
    "InfoDb = []\n",
    "\n",
    "# Append to List a Dictionary of key/values related to a person and cars\n",
    "InfoDb.append({\n",
    "    \"FirstName\": \"John\",\n",
    "    \"LastName\": \"Mortensen\",\n",
    "    \"DOB\": \"October 21\",\n",
    "    \"Residence\": \"San Diego\",\n",
    "    \"Email\": \"jmortensen@powayusd.com\",\n",
    "    \"Owns_Cars\": [\"2015-Fusion\", \"2011-Ranger\", \"2003-Excursion\", \"1997-F350\", \"1969-Cadillac\"]\n",
    "})\n",
    "\n",
    "# Append to List a 2nd Dictionary of key/values\n",
    "InfoDb.append({\n",
    "    \"FirstName\": \"Sunny\",\n",
    "    \"LastName\": \"Naidu\",\n",
    "    \"DOB\": \"August 2\",\n",
    "    \"Residence\": \"Temecula\",\n",
    "    \"Email\": \"snaidu@powayusd.com\",\n",
    "    \"Owns_Cars\": [\"4Runner\"]\n",
    "})\n",
    "# Appended my own info\n",
    "InfoDb.append({\n",
    "    \"FirstName\": \"Tay\",\n",
    "    \"LastName\": \"Kim\",\n",
    "    \"DOB\": \"May 13\",\n",
    "    \"Residence\": \"San Diego\",\n",
    "    \"Email\": \"taykimpro@gmail.com\",\n",
    "    \"Owns_Cars\": [\"None\"]\n",
    "})\n",
    "# People can input their own info\n",
    "InfoDb.append({\n",
    "    \"FirstName\": input(\"name \"),\n",
    "    \"LastName\": input(\"last name \"),\n",
    "    \"DOB\": input(\"DOB \"),\n",
    "    \"Residence\": input(\"residence \"),\n",
    "    \"Email\": input(\"email \"),\n",
    "})\n",
    "\n",
    "# Print the data structure\n",
    "print(InfoDb)"
   ]
  },
  {
   "cell_type": "markdown",
   "metadata": {},
   "source": [
    "## For Loops and Index\n",
    "\n",
    "Using `for loops` and iterating through using `index` in python. In this simple example, I created a list of car brands and then I used a for loop to iterate through it. Then, I printed all the values that I iterated through."
   ]
  },
  {
   "cell_type": "code",
   "execution_count": 3,
   "metadata": {},
   "outputs": [
    {
     "name": "stdout",
     "output_type": "stream",
     "text": [
      "Honda\n",
      "Hyundai\n",
      "Kia\n",
      "Tesla\n",
      "Lamborghini\n",
      "Ferrari\n",
      "Bugatti\n",
      "Toyota\n",
      "Porsche\n",
      "Mustang\n",
      "BMW\n",
      "Mercedes\n"
     ]
    }
   ],
   "source": [
    "# Made a new list of car brands\n",
    "Car_Brands = [\"Honda\", \"Hyundai\", \"Kia\", \"Tesla\", \"Lamborghini\", \"Ferrari\", \"Bugatti\", \"Toyota\", \"Porsche\", \"Mustang\", \"BMW\", \"Mercedes\"]\n",
    "# Using a for loop to iterate through list\n",
    "for i in Car_Brands:\n",
    "    print(i)\n",
    "# printing all the values"
   ]
  },
  {
   "cell_type": "markdown",
   "metadata": {},
   "source": [
    "## Outputting in Reverse Order\n",
    "\n",
    "It is possible to output data in a reverse order. In this example, I determine if an inputted word is a palindrome. I first iterate through the inputted word the opposite way, or reverse order, and then if the reversed order is equal to the regular order, then I output that the word is a palindrome. If not, then I say the inputted word is not a palindrome."
   ]
  },
  {
   "cell_type": "code",
   "execution_count": 5,
   "metadata": {},
   "outputs": [
    {
     "name": "stdout",
     "output_type": "stream",
     "text": [
      "eyb\n",
      "bye\n",
      "The provided word is not a palindrome.\n"
     ]
    }
   ],
   "source": [
    "def is_palindrome(prompt):\n",
    "    print(prompt[::-1]) # iterates through the word in the reverse order\n",
    "    print(prompt)\n",
    "    return prompt[::-1] == prompt # returns if the reverse order is the same as the regular order\n",
    "\n",
    "word = input(\"Enter a word: \")\n",
    "if is_palindrome(word.lower()) is True: # If the reverse is the same as regular\n",
    "    print(\"{0} is a palindrome!\".format(word)) \n",
    "else:\n",
    "    print(\"The provided word is not a palindrome.\")"
   ]
  },
  {
   "cell_type": "markdown",
   "metadata": {},
   "source": [
    "## Other list methods\n",
    "\n",
    "Lists can have a variety of methods performed on them. A couple being `.append()` or `while loop`. In this example, I use `.append()` and `.lower()` with a `for loop`. I first make a list that I add dangerous animals. Then, I append another value. I made sure to make all the inputs have weird capitalization. Then, I terated through the range of the length of the list. I also made all the list values lowercase and then I printed all the values."
   ]
  },
  {
   "cell_type": "code",
   "execution_count": 23,
   "metadata": {},
   "outputs": [
    {
     "name": "stdout",
     "output_type": "stream",
     "text": [
      "['box jellyfish', 'african cape buffalo', 'black mamba', 'blue-ringed octopus', 'cone snail']\n"
     ]
    }
   ],
   "source": [
    "Dangerous_Animals = [\"Box Jellyfish\", \"African CAPE BuFfalo\", \"BLAck MambA\", \"Blue-RINGED octopus\"] # made a list with dangerous animals, has weird capitalization\n",
    "Dangerous_Animals.append(\"Cone SnAIl\") # added a new list value\n",
    "for i in range(len(Dangerous_Animals)): # iterates through the range of the length of the list\n",
    "    Dangerous_Animals[i] = Dangerous_Animals[i].lower() # made all the values lowercase\n",
    "print(Dangerous_Animals)"
   ]
  },
  {
   "cell_type": "markdown",
   "metadata": {},
   "source": [
    "## Using While Loop\n",
    "\n",
    "`While loops` can also be used with a list. In this example, I used the same list as before. Then, I defined i as 0. Then I used a while loop so that while i was less than the length of the list, the output was equal to the list at index of i. I printed the output and I incremented i by 1 each time."
   ]
  },
  {
   "cell_type": "code",
   "execution_count": 8,
   "metadata": {},
   "outputs": [
    {
     "name": "stdout",
     "output_type": "stream",
     "text": [
      "Box Jellyfish\n",
      "African Cape Buffalo\n",
      "Black Mamba\n",
      "Blue-ringed Octopus\n"
     ]
    }
   ],
   "source": [
    "Dangerous_Animals = [\"Box Jellyfish\", \"African Cape Buffalo\", \"Black Mamba\", \"Blue-ringed Octopus\"] # used the same list as before\n",
    "i = 0 # defined a variable, i\n",
    "while i < len(Dangerous_Animals): # only runs while i is less than the length of the list\n",
    "    output = Dangerous_Animals[i] # output equals each value when the list is at index of i\n",
    "    print(output)\n",
    "    i += 1 # increments i by 1 each time"
   ]
  },
  {
   "cell_type": "markdown",
   "metadata": {},
   "source": [
    "## Adding to a Dictionary\n",
    "\n",
    "You can also add or create new keys and values to a dictionary data set. This can also be done with input. In the example, I first created a dictionary with pokemon names as the keys and their type as values. I then added a new key and value and I also used input to add a new value and new key. "
   ]
  },
  {
   "cell_type": "code",
   "execution_count": 29,
   "metadata": {},
   "outputs": [
    {
     "name": "stdout",
     "output_type": "stream",
     "text": [
      "{'Pikachu': 'Electric-type', 'Charizard': 'Fire-type', 'Blastoise': 'Water-type', 'Venusaur': 'Grass-type', 'Snorlax': 'Normal-type', 'Garchomp': 'Dragon-type', 'Lucario': 'Fighting-type', 'Darkrai': 'Dark-type', 'Arceus': 'Normal-type'}\n",
      "{'Pikachu': 'Electric-type', 'Charizard': 'Fire-type', 'Blastoise': 'Water-type', 'Venusaur': 'Grass-type', 'Snorlax': 'Normal-type', 'Garchomp': 'Dragon-type', 'Lucario': 'Fighting-type', 'Darkrai': 'Dark-type', 'Arceus': 'Normal-type', 'Reshiram': 'Dragon-type'}\n",
      "{'Pikachu': 'Electric-type', 'Charizard': 'Fire-type', 'Blastoise': 'Water-type', 'Venusaur': 'Grass-type', 'Snorlax': 'Normal-type', 'Garchomp': 'Dragon-type', 'Lucario': 'Fighting-type', 'Darkrai': 'Dark-type', 'Arceus': 'Normal-type', 'Reshiram': 'Dragon-type', 'Articuno': 'Ice-type'}\n"
     ]
    }
   ],
   "source": [
    "My_Dict = {\n",
    "    \"Pikachu\": \"Electric-type\",\n",
    "    \"Charizard\": \"Fire-type\",\n",
    "    \"Blastoise\": \"Water-type\",\n",
    "    \"Venusaur\": \"Grass-type\",\n",
    "    \"Snorlax\": \"Normal-type\",\n",
    "    \"Garchomp\": \"Dragon-type\",\n",
    "    \"Lucario\": \"Fighting-type\",\n",
    "    \"Darkrai\": \"Dark-type\",\n",
    "    \"Arceus\": \"Normal-type\",\n",
    "} # defined a new dictionary\n",
    "print(My_Dict)\n",
    "My_Dict[\"Reshiram\"] = \"Dragon-type\" #Added new key and value into dictionary\n",
    "print(My_Dict)\n",
    "My_Dict[\"Articuno\"] = input() # Added new value with input\n",
    "print(My_Dict)\n"
   ]
  },
  {
   "cell_type": "markdown",
   "metadata": {},
   "source": [
    "## Python Quiz\n",
    "\n",
    "I made a quiz using the InfoDb, list of dictionary. In this example, I defined a function with prompt as a parameter. I also defined a variable word, so that it was equal to the user's input. I also added 2 new variables, that defined the number of correct answers and the number of questions. I then printed a short intro that said \"Hello, you will be asked (the amount of questions) short questions.\" I then made a list of dictionaries (InfoDb) with the questions as the keys and the answers as the values. I then used a for loop to iterate through all the dictionary keys and values. If the word (user's input) for each question was equal to its respectable answer, then it printed \"Answer is correct\" and added the number of correct answers by 1. If the word wasn't equal, then an incorrect answer resopnse was pinted. At the end, I printed the amount of questions the user got correct out of the total questions."
   ]
  },
  {
   "cell_type": "code",
   "execution_count": 11,
   "metadata": {},
   "outputs": [
    {
     "name": "stdout",
     "output_type": "stream",
     "text": [
      "Hello, you will be asked 5 short questions\n",
      "Question: What is the answer to this math problem: What is f(4) if f(x) = 3x/x-3\n",
      "Answer is correct\n",
      "Question: What is the most popular religion in the world?\n",
      "Answer is correct\n",
      "Question: What is the capital of the U.S?\n",
      "Answer is correct\n",
      "Question: What is the molar mass of Carbon-12?\n",
      "Answer is correct\n",
      "Question: How many moles of water are in a 3.0 gram sample?\n",
      "Answer is incorrect\n",
      "You scored 4/5\n"
     ]
    }
   ],
   "source": [
    "def Python_Quiz(prompt): # Defines function that takes 'prompt' as a parameter\n",
    "    global word # so that word can be called outside function\n",
    "    print (\"Question: \" + prompt) # setup for each question\n",
    "    word = input() # the variable word is the user's input\n",
    "    return word\n",
    "\n",
    "questions_number = 5\n",
    "correct_answer = 0\n",
    "# 2 variables for the number of questions and number of correct answers\n",
    "\n",
    "print(\"Hello, you will be asked \" + str(questions_number) + \" short questions\")\n",
    "# short intro\n",
    "\n",
    "My_Quiz = [{\n",
    "    \"What is the answer to this math problem: What is f(4) if f(x) = 3x/x-3\": \"12\",\n",
    "    \"What is the most popular religion in the world?\": \"Christianity\",\n",
    "    \"What is the capital of the U.S?\": \"Washington D.C.\",\n",
    "    \"What is the molar mass of Carbon-12?\": \"12 g\",\n",
    "    \"How many moles of water are in a 3.0 gram sample?\": \"0.17\",\n",
    "}] # makes a list of dictionaries with questions as the keys and the answers as the values\n",
    "\n",
    "for dict in My_Quiz: # for all dictionary stuff in the InfoDb\n",
    "    for questions, answers in dict.items(): # both keys and values\n",
    "        Python_Quiz(questions) # the prompt is the questions\n",
    "        if word == answers: # if the user's answer is equal to the correct answer\n",
    "            print(\"Answer is correct\")\n",
    "            correct_answer += 1  \n",
    "        else:\n",
    "            print(\"Answer is incorrect\")\n",
    "\n",
    "print(\"You scored \" + str(correct_answer) + \"/\" + str(questions_number))\n",
    "# prints how many correct answers out of total questions"
   ]
  }
 ],
 "metadata": {
  "kernelspec": {
   "display_name": "Python 3.8.10 64-bit",
   "language": "python",
   "name": "python3"
  },
  "language_info": {
   "codemirror_mode": {
    "name": "ipython",
    "version": 3
   },
   "file_extension": ".py",
   "mimetype": "text/x-python",
   "name": "python",
   "nbconvert_exporter": "python",
   "pygments_lexer": "ipython3",
   "version": "3.8.10"
  },
  "orig_nbformat": 4,
  "vscode": {
   "interpreter": {
    "hash": "916dbcbb3f70747c44a77c7bcd40155683ae19c65e1c03b4aa3499c5328201f1"
   }
  }
 },
 "nbformat": 4,
 "nbformat_minor": 2
}
