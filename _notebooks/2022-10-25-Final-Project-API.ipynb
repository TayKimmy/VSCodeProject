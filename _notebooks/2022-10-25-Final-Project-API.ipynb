{
 "cells": [
  {
   "cell_type": "markdown",
   "metadata": {},
   "source": [
    "# Final Project API\n",
    "> Using API in our final project\n",
    "\n",
    "- toc: true \n",
    "- badges: true\n",
    "- comments: true\n",
    "- categories: [jupyter, Week 10]"
   ]
  },
  {
   "cell_type": "code",
   "execution_count": 3,
   "metadata": {},
   "outputs": [
    {
     "name": "stdout",
     "output_type": "stream",
     "text": [
      "{\"response_code\":0,\"results\":[{\"category\":\"Science: Mathematics\",\"type\":\"multiple\",\"difficulty\":\"medium\",\"question\":\"In the hexadecimal system, what number comes after 9?\",\"correct_answer\":\"The Letter A\",\"incorrect_answers\":[\"10\",\"The Number 0\",\"16\"]},{\"category\":\"Science: Mathematics\",\"type\":\"multiple\",\"difficulty\":\"medium\",\"question\":\"How many zeros are there in a googol?\",\"correct_answer\":\"100\",\"incorrect_answers\":[\"10\",\"1,000\",\"1,000,000\"]},{\"category\":\"Science: Mathematics\",\"type\":\"multiple\",\"difficulty\":\"medium\",\"question\":\"What is the first Mersenne prime exponent over 1000?\",\"correct_answer\":\"1279\",\"incorrect_answers\":[\"2203\",\"1009\",\"1069\"]},{\"category\":\"Science: Mathematics\",\"type\":\"multiple\",\"difficulty\":\"medium\",\"question\":\"What is the alphanumeric representation of the imaginary number?\",\"correct_answer\":\"i\",\"incorrect_answers\":[\"e\",\"n\",\"x\"]},{\"category\":\"Science: Mathematics\",\"type\":\"multiple\",\"difficulty\":\"medium\",\"question\":\"To the nearest whole number, how many radians are in a whole circle?\",\"correct_answer\":\"6\",\"incorrect_answers\":[\"3\",\"4\",\"5\"]},{\"category\":\"Science: Mathematics\",\"type\":\"multiple\",\"difficulty\":\"medium\",\"question\":\"What Greek letter is used to signify summation?\",\"correct_answer\":\"Sigma\",\"incorrect_answers\":[\"Delta\",\"Alpha\",\"Omega\"]},{\"category\":\"Science: Mathematics\",\"type\":\"multiple\",\"difficulty\":\"medium\",\"question\":\"Which greek mathematician ran through the streets of Syracuse naked while shouting &quot;Eureka&quot; after discovering the principle of displacement?\",\"correct_answer\":\"Archimedes\",\"incorrect_answers\":[\"Euclid\",\"Homer\",\"Eratosthenes\"]},{\"category\":\"Science: Mathematics\",\"type\":\"multiple\",\"difficulty\":\"medium\",\"question\":\"How many books are in Euclid&#039;s Elements of Geometry?\",\"correct_answer\":\"13\",\"incorrect_answers\":[\"8\",\"10\",\"17\"]},{\"category\":\"Science: Mathematics\",\"type\":\"multiple\",\"difficulty\":\"medium\",\"question\":\"Which of the following dice is not a platonic solid?\",\"correct_answer\":\"10-sided die\",\"incorrect_answers\":[\"12-sided die\",\"20-sided die\",\"8-sided die\"]},{\"category\":\"Science: Mathematics\",\"type\":\"multiple\",\"difficulty\":\"medium\",\"question\":\"Which mathematician refused the Fields Medal?\",\"correct_answer\":\"Grigori Perelman\",\"incorrect_answers\":[\"Andrew Wiles\",\"Terence Tao\",\"Edward Witten\"]}]}\n"
     ]
    }
   ],
   "source": [
    "from flask import Blueprint, jsonify  # jsonify creates an endpoint response object\n",
    "from flask_restful import Api, Resource # used for REST API building\n",
    "import requests  # used for testing\n",
    "\n",
    "url = \"https://opentdb.com/api.php?amount=10&category=19&difficulty=medium&type=multiple\"\n",
    "response = requests.request(\"GET\", url)\n",
    "quiz_data = response\n",
    "\n",
    "print(quiz_data.text)"
   ]
  },
  {
   "cell_type": "code",
   "execution_count": 4,
   "metadata": {},
   "outputs": [
    {
     "name": "stdout",
     "output_type": "stream",
     "text": [
      "{'response_code': 0, 'results': [{'category': 'Science: Mathematics', 'type': 'multiple', 'difficulty': 'medium', 'question': 'In the hexadecimal system, what number comes after 9?', 'correct_answer': 'The Letter A', 'incorrect_answers': ['10', 'The Number 0', '16']}, {'category': 'Science: Mathematics', 'type': 'multiple', 'difficulty': 'medium', 'question': 'How many zeros are there in a googol?', 'correct_answer': '100', 'incorrect_answers': ['10', '1,000', '1,000,000']}, {'category': 'Science: Mathematics', 'type': 'multiple', 'difficulty': 'medium', 'question': 'What is the first Mersenne prime exponent over 1000?', 'correct_answer': '1279', 'incorrect_answers': ['2203', '1009', '1069']}, {'category': 'Science: Mathematics', 'type': 'multiple', 'difficulty': 'medium', 'question': 'What is the alphanumeric representation of the imaginary number?', 'correct_answer': 'i', 'incorrect_answers': ['e', 'n', 'x']}, {'category': 'Science: Mathematics', 'type': 'multiple', 'difficulty': 'medium', 'question': 'To the nearest whole number, how many radians are in a whole circle?', 'correct_answer': '6', 'incorrect_answers': ['3', '4', '5']}, {'category': 'Science: Mathematics', 'type': 'multiple', 'difficulty': 'medium', 'question': 'What Greek letter is used to signify summation?', 'correct_answer': 'Sigma', 'incorrect_answers': ['Delta', 'Alpha', 'Omega']}, {'category': 'Science: Mathematics', 'type': 'multiple', 'difficulty': 'medium', 'question': 'Which greek mathematician ran through the streets of Syracuse naked while shouting &quot;Eureka&quot; after discovering the principle of displacement?', 'correct_answer': 'Archimedes', 'incorrect_answers': ['Euclid', 'Homer', 'Eratosthenes']}, {'category': 'Science: Mathematics', 'type': 'multiple', 'difficulty': 'medium', 'question': 'How many books are in Euclid&#039;s Elements of Geometry?', 'correct_answer': '13', 'incorrect_answers': ['8', '10', '17']}, {'category': 'Science: Mathematics', 'type': 'multiple', 'difficulty': 'medium', 'question': 'Which of the following dice is not a platonic solid?', 'correct_answer': '10-sided die', 'incorrect_answers': ['12-sided die', '20-sided die', '8-sided die']}, {'category': 'Science: Mathematics', 'type': 'multiple', 'difficulty': 'medium', 'question': 'Which mathematician refused the Fields Medal?', 'correct_answer': 'Grigori Perelman', 'incorrect_answers': ['Andrew Wiles', 'Terence Tao', 'Edward Witten']}]}\n"
     ]
    }
   ],
   "source": [
    "print(quiz_data.json())"
   ]
  },
  {
   "cell_type": "code",
   "execution_count": 18,
   "metadata": {},
   "outputs": [
    {
     "name": "stdout",
     "output_type": "stream",
     "text": [
      "In the hexadecimal system, what number comes after 9?\n",
      "How many zeros are there in a googol?\n",
      "What is the first Mersenne prime exponent over 1000?\n",
      "What is the alphanumeric representation of the imaginary number?\n",
      "To the nearest whole number, how many radians are in a whole circle?\n",
      "What Greek letter is used to signify summation?\n",
      "Which greek mathematician ran through the streets of Syracuse naked while shouting &quot;Eureka&quot; after discovering the principle of displacement?\n",
      "How many books are in Euclid&#039;s Elements of Geometry?\n",
      "Which of the following dice is not a platonic solid?\n",
      "Which mathematician refused the Fields Medal?\n"
     ]
    }
   ],
   "source": [
    "results = quiz_data.json().get('results')\n",
    "\n",
    "def IndividualQuestion(a):\n",
    "    a = results\n",
    "    count = 0\n",
    "    for i in a:\n",
    "        q = results[count]\n",
    "        count += 1\n",
    "        print(q['question'])\n",
    "\n",
    "IndividualQuestion(results)\n",
    "\n",
    "#print(results[1])\n",
    "#question_1 = results[1]\n",
    "\n",
    "#print(question_1[\"question\"])\n"
   ]
  }
 ],
 "metadata": {
  "kernelspec": {
   "display_name": "Python 3.9.12 ('base')",
   "language": "python",
   "name": "python3"
  },
  "language_info": {
   "codemirror_mode": {
    "name": "ipython",
    "version": 3
   },
   "file_extension": ".py",
   "mimetype": "text/x-python",
   "name": "python",
   "nbconvert_exporter": "python",
   "pygments_lexer": "ipython3",
   "version": "3.9.12"
  },
  "orig_nbformat": 4,
  "vscode": {
   "interpreter": {
    "hash": "1b2d041746c7b3ba1eb0aacc992799c1dfdaf7cc8fa7dfef2e90211c0a9fde58"
   }
  }
 },
 "nbformat": 4,
 "nbformat_minor": 2
}
