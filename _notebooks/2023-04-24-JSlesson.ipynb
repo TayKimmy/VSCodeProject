{
 "cells": [
  {
   "cell_type": "markdown",
   "metadata": {},
   "source": [
    "# Basic JavaScript Knowledge"
   ]
  },
  {
   "attachments": {},
   "cell_type": "markdown",
   "metadata": {},
   "source": [
    "### Variables \n",
    "- declare JavaScript variables with var, let or const. \n",
    "- If the value of the variable can change, like a total, use let. If the value is set, like prices, use const. Variables can hold any data type. \n",
    "- Once a variable has been declared, it cannot be used again - error will pop up"
   ]
  },
  {
   "cell_type": "code",
   "execution_count": 6,
   "metadata": {},
   "outputs": [
    {
     "data": {
      "text/plain": [
       "11"
      ]
     },
     "execution_count": 6,
     "metadata": {},
     "output_type": "execute_result"
    }
   ],
   "source": [
    "var x = 5;\n",
    "var y = 6;\n",
    "var z = x + y;\n",
    "\n",
    "z"
   ]
  },
  {
   "attachments": {},
   "cell_type": "markdown",
   "metadata": {},
   "source": [
    "### Data types- there are 8 JS data types. \n",
    "- List a few data types that you already know\n",
    "> Strings\n",
    "\n",
    "> Numbers\n",
    "\n",
    "> Boolean"
   ]
  },
  {
   "cell_type": "markdown",
   "metadata": {},
   "source": [
    "#### 1. String: a series of characters, written with single or double quotes\n"
   ]
  },
  {
   "cell_type": "code",
   "execution_count": 7,
   "metadata": {},
   "outputs": [
    {
     "data": {
      "text/plain": [
       "'Mort'"
      ]
     },
     "execution_count": 7,
     "metadata": {},
     "output_type": "execute_result"
    }
   ],
   "source": [
    "let text = \"Mort\";\n",
    "text"
   ]
  },
  {
   "cell_type": "code",
   "execution_count": 8,
   "metadata": {},
   "outputs": [
    {
     "data": {
      "text/plain": [
       "'Yeung'"
      ]
     },
     "execution_count": 8,
     "metadata": {},
     "output_type": "execute_result"
    }
   ],
   "source": [
    "let text2 = 'Yeung';\n",
    "text2"
   ]
  },
  {
   "attachments": {},
   "cell_type": "markdown",
   "metadata": {},
   "source": [
    "#### 2. Number: can be integers or decimals. \n",
    "- You can also have exponential notation for large/small numbers \n",
    "- Can be defined using variables\n",
    "- Built in object `Number` - can do various functions on numbers\n",
    "- Special value of `Infinity` and `-Infinity`"
   ]
  },
  {
   "attachments": {},
   "cell_type": "markdown",
   "metadata": {},
   "source": [
    "#### 3. Bigint: used to store integer values that are too big to be represented by a normal JS number\n",
    "- JavaScript integers are only accurate up to 15 digits\n",
    "- Are created by appending `n` to an integer\n",
    "- BigInt values can be compared\n",
    "- Cannot be used with bitwise operators"
   ]
  },
  {
   "cell_type": "code",
   "execution_count": 9,
   "metadata": {},
   "outputs": [
    {
     "ename": "ReferenceError",
     "evalue": "BigInt is not defined",
     "output_type": "error",
     "traceback": [
      "evalmachine.<anonymous>:2",
      "const BigC = BigInt(789012345123);",
      "             ^",
      "",
      "ReferenceError: BigInt is not defined",
      "    at evalmachine.<anonymous>:2:14",
      "    at ContextifyScript.Script.runInThisContext (vm.js:25:33)",
      "    at Object.runInThisContext (vm.js:97:38)",
      "    at run ([eval]:1020:15)",
      "    at onRunRequest ([eval]:864:18)",
      "    at onMessage ([eval]:828:13)",
      "    at emitTwo (events.js:106:13)",
      "    at process.emit (events.js:191:7)",
      "    at process.nextTick (internal/child_process.js:758:12)",
      "    at _combinedTickCallback (internal/process/next_tick.js:73:7)"
     ]
    }
   ],
   "source": [
    "const c = 12389012345;\n",
    "const BigC = BigInt(789012345123);\n",
    "\n",
    "const typeBigC = typeof BigC;\n",
    "typeBigC\n"
   ]
  },
  {
   "attachments": {},
   "cell_type": "markdown",
   "metadata": {},
   "source": [
    "#### 4. Boolean: true or false, used in conditional testing\n",
    "- Can be used in logical operations\n",
    "- Comparison values can return boolean"
   ]
  },
  {
   "cell_type": "code",
   "execution_count": null,
   "metadata": {},
   "outputs": [],
   "source": [
    "Boolean(10 > 9)\n"
   ]
  },
  {
   "cell_type": "code",
   "execution_count": null,
   "metadata": {},
   "outputs": [],
   "source": [
    "let a = 2;\n",
    "let b = 5;\n",
    "let boolean = b > a;\n",
    "boolean"
   ]
  },
  {
   "cell_type": "markdown",
   "metadata": {},
   "source": [
    "Write a boolean statement that outputs true"
   ]
  },
  {
   "attachments": {},
   "cell_type": "markdown",
   "metadata": {},
   "source": [
    "#### 5. Undefined: a variable without a value, has the value undefined/empty values\n",
    "- Declared variable without assignment\n",
    "- When accessed, it will return `undefined`\n",
    "- `typeof` operator can check if a variable is `undefined`\n",
    "- If a variable has not been declared, it is not `undefined` and will give `ReferenceError`"
   ]
  },
  {
   "cell_type": "code",
   "execution_count": null,
   "metadata": {},
   "outputs": [],
   "source": [
    "let name;  \n",
    "name"
   ]
  },
  {
   "cell_type": "code",
   "execution_count": null,
   "metadata": {},
   "outputs": [],
   "source": [
    "grade = undefined;"
   ]
  },
  {
   "attachments": {},
   "cell_type": "markdown",
   "metadata": {},
   "source": [
    "#### 6. Null: represents the intentional absence of any object value\n",
    "- variable is empty at the moment and may have a value later\n",
    "- Differs from undefined in that null is explicitly set\n",
    "    - Deliberate absence of value\n",
    "- Is also a false value"
   ]
  },
  {
   "cell_type": "code",
   "execution_count": null,
   "metadata": {},
   "outputs": [],
   "source": [
    "let result;\n",
    "\n",
    "result = Boolean(undefined);\n",
    "console.log(result); // false\n",
    "\n",
    "result = Boolean(null);\n",
    "console.log(result); // false"
   ]
  },
  {
   "attachments": {},
   "cell_type": "markdown",
   "metadata": {},
   "source": [
    "#### 7. Symbol: used to represent unique values that can be used as identifiers/keys in objects. \n",
    "- They are also used to create private properties and methods in classes.\n",
    "- unique and immutable, so they can be used as unique identifiers in objects and classes.\n",
    "- useful for creating constants that can be shared across different parts of your code.\n"
   ]
  },
  {
   "cell_type": "code",
   "execution_count": null,
   "metadata": {},
   "outputs": [],
   "source": [
    "// Create a Symbol\n",
    "const mySymbol = Symbol();\n",
    "\n",
    "console.log(mySymbol);\n",
    "// expected output: Symbol()\n"
   ]
  },
  {
   "cell_type": "code",
   "execution_count": null,
   "metadata": {},
   "outputs": [],
   "source": [
    "const myObjects = {\n",
    "    [mySymbol]: 'Hello World'\n",
    "  };\n",
    "  \n",
    "  console.log(myObjects[mySymbol]);\n"
   ]
  },
  {
   "cell_type": "markdown",
   "metadata": {},
   "source": [
    "Edit/add to the code above so that it outputs \"Hello World\""
   ]
  },
  {
   "attachments": {},
   "cell_type": "markdown",
   "metadata": {},
   "source": [
    "#### 8. Object: an unordered collection of key-value pairs. Each key-value pair is called a property. \n",
    "- object: written with curly braces {}, name:value pairs\n",
    "- array: written with square brackets, separated by commas "
   ]
  },
  {
   "attachments": {},
   "cell_type": "markdown",
   "metadata": {},
   "source": [
    "Object\n",
    "- Identify the name/keys in the object below: name, breed, age, oolor\n",
    "- Identify the values in the object below: Elly, Rottweiler, 4, black"
   ]
  },
  {
   "cell_type": "code",
   "execution_count": null,
   "metadata": {},
   "outputs": [],
   "source": [
    "const dogs = {name: \"Elly\", breed:\"Rottweiler\", age:4, color:\"black\"}\n",
    "dogs"
   ]
  },
  {
   "cell_type": "markdown",
   "metadata": {},
   "source": [
    "Array"
   ]
  },
  {
   "cell_type": "code",
   "execution_count": null,
   "metadata": {},
   "outputs": [],
   "source": [
    "const songs = [\"Love Story\", \"Blank Space\", \"I Knew You Were Trouble\"];\n",
    "songs"
   ]
  },
  {
   "attachments": {},
   "cell_type": "markdown",
   "metadata": {},
   "source": [
    "### Const\n",
    "- We use const to declare variables whose value can be initialized only at the time of declaration.  \n",
    "- Const means that the identifier cannot be reassigned. \n",
    "- \"Constant\" Variable\n",
    "- Only accessible in block it is assigned"
   ]
  },
  {
   "cell_type": "code",
   "execution_count": null,
   "metadata": {},
   "outputs": [],
   "source": [
    "const cost1 = 2;\n",
    "const cost2 = 11;\n",
    "let totalCost = cost1 + cost2;\n",
    "\n",
    "totalCost"
   ]
  },
  {
   "attachments": {},
   "cell_type": "markdown",
   "metadata": {},
   "source": [
    "### Conditionals: control behavior, decides whether or not pieces of code can run.\n",
    "- If: if a condition is true it is used to specify execution for a block of code.\n",
    "- Else: if the same condition is false it specifies the execution for a block of code.\n",
    "- Else If: new test if the first condition is false."
   ]
  },
  {
   "cell_type": "code",
   "execution_count": null,
   "metadata": {},
   "outputs": [
    {
     "data": {
      "text/plain": [
       "'True'"
      ]
     },
     "execution_count": 5,
     "metadata": {},
     "output_type": "execute_result"
    }
   ],
   "source": [
    "if (10 > 5) {\n",
    "    var outcome = \"True\";\n",
    "}\n",
    "\n",
    "outcome;"
   ]
  },
  {
   "cell_type": "code",
   "execution_count": null,
   "metadata": {},
   "outputs": [
    {
     "data": {
      "text/plain": [
       "'else block'"
      ]
     },
     "execution_count": 4,
     "metadata": {},
     "output_type": "execute_result"
    }
   ],
   "source": [
    "if (\"red\" === \"blue\") {\n",
    "    var outcome = \"if block\";\n",
    "} else {\n",
    "    var outcome = \"else block\";\n",
    "}\n",
    "outcome;"
   ]
  },
  {
   "cell_type": "code",
   "execution_count": null,
   "metadata": {},
   "outputs": [
    {
     "data": {
      "text/plain": [
       "'Chilly'"
      ]
     },
     "execution_count": 3,
     "metadata": {},
     "output_type": "execute_result"
    }
   ],
   "source": [
    "let temperature = 54\n",
    "if (temperature < 70) {\n",
    "    cast = \"Chilly\";\n",
    "  } else if (temperature < 60) {\n",
    "    cast = \"Cold\";\n",
    "  } else {\n",
    "    cast = \"Warm\";\n",
    "  }\n",
    "\n",
    "cast"
   ]
  },
  {
   "cell_type": "markdown",
   "metadata": {},
   "source": [
    "Create a conditional statement about how you would greet someone based on the time of day. "
   ]
  },
  {
   "cell_type": "code",
   "execution_count": null,
   "metadata": {},
   "outputs": [
    {
     "data": {
      "text/plain": [
       "'Good Afternoon'"
      ]
     },
     "execution_count": 2,
     "metadata": {},
     "output_type": "execute_result"
    }
   ],
   "source": [
    "let timeOfDay = \"afternoon\";\n",
    "if (timeOfDay == \"morning\") {\n",
    "    greeting = \"Good Morning\";\n",
    "  } else if (timeOfDay == \"afternoon\") {\n",
    "    greeting = \"Good Afternoon\";\n",
    "  } else if (timeOfDay == \"evening\") {\n",
    "    greeting = \"Good Evening\";\n",
    "  }\n",
    "\n",
    "greeting"
   ]
  },
  {
   "attachments": {},
   "cell_type": "markdown",
   "metadata": {},
   "source": [
    "### Functions: \n",
    "- defining: define with function + functionName(parameter) { function code }.  It can be unnamed/anonymous can be defined based on a condition.\n",
    "- calling: simply put the function name with a parameter and semicolon, or a function can call itself (recursive)"
   ]
  },
  {
   "attachments": {},
   "cell_type": "markdown",
   "metadata": {},
   "source": [
    "### Iteration: \n",
    "- for loop: repeats until a specified condition evaluates to false\n",
    "- do...while: repeats until a specified condition evaluates to false\n",
    "- while statement: executes its statements as long as a specified condition evaluates to true\n",
    "- label: provides a statement with an identifier that lets you refer to it later in the code. ex. you can use a label to identify a loop, and then use the break or continue statements to indicate whether a program should interrupt the loop or continue its execution\n",
    "- break: used to terminate a loop, switch, or in conjunction with a labeled statement\n",
    "- continue: can be used to restart a while, do-while, for, or label statement\n",
    "- for...in: iterates a specified variable over all the enumerable properties of an object\n",
    "- for...of statement creates a loop Iterating over iterable objects, invoking a custom iteration hook with statements to be executed for the value of each distinct property\n",
    "\n"
   ]
  },
  {
   "attachments": {},
   "cell_type": "markdown",
   "metadata": {},
   "source": [
    "# JavaScript in HTML- Questions\n",
    "1. Where do you store the JavaScript Code?\n",
    "    - Javascript Code is stored within the `<script>` tags in HTML code. JavaScript files are stored with a `.js` extension\n",
    "2. How do you import a JS file into HTML?\n",
    "    - A JS file can be imported using the `src` attribute inside script tag. An example would be `<script src=\"JavaScript.JS==js\"></script>`\n",
    "3. What is onClick?\n",
    "    - onClick is a JavaScript event that only occurs when an element - such as a button or piece of text - is clicked on by the user. It generally causes a function to respond, or some other action.  For example, when a button is clicked, the color changes color (like the light and dark mode toggle on the SASS lesson)\n",
    "4. What tag do you use to write JavaScript code?\n",
    "    - The `<script>` tags are used to write JavaScript code within HTML code."
   ]
  },
  {
   "cell_type": "markdown",
   "metadata": {},
   "source": [
    "# Hacks\n",
    "1. Add notes in this notebook\n",
    "2. Complete the code portions, questions, and prompts throughout the notebook\n",
    "3. Extra Credit: code a small JavaScript game "
   ]
  },
  {
   "cell_type": "code",
   "execution_count": 3,
   "metadata": {},
   "outputs": [
    {
     "data": {
      "text/plain": [
       "'100%'"
      ]
     },
     "execution_count": 3,
     "metadata": {},
     "output_type": "execute_result"
    }
   ],
   "source": [
    "let Score = 0;\n",
    "const WrongAnswers = \"Wrong Answer\";\n",
    "var Answers1 = prompt(\"What is 5+2\");\n",
    "var Answers2 = prompt(\"What is the capital of the United States\");\n",
    "var Answers3 = prompt(\"When did World War II end?\");\n",
    "\n",
    "if (Answers1 == \"7\") {\n",
    "    Score = Score + 1;\n",
    "} \n",
    "\n",
    "if (Answers2 == \"Washington D.C.\") {\n",
    "    Score = Score + 1;\n",
    "} \n",
    "\n",
    "(Score/3 * 100) + \"%\";\n"
   ]
  }
 ],
 "metadata": {
  "kernelspec": {
   "display_name": "JavaScript (Node.js)",
   "language": "javascript",
   "name": "javascript"
  },
  "language_info": {
   "file_extension": ".js",
   "mimetype": "application/javascript",
   "name": "javascript",
   "version": "6.11.2"
  },
  "orig_nbformat": 4
 },
 "nbformat": 4,
 "nbformat_minor": 2
}
