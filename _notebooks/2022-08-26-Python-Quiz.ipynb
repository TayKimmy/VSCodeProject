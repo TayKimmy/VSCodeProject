{
 "cells": [
  {
   "cell_type": "markdown",
   "metadata": {},
   "source": [
    "# Python Quiz Post\n",
    "> Making a quiz using python.\n",
    "\n",
    "- toc: true \n",
    "- badges: true\n",
    "- comments: true\n",
    "- categories: [jupyter, Week 1]\n",
    "- image: images/Fastpages-dragon.png"
   ]
  },
  {
   "cell_type": "markdown",
   "metadata": {},
   "source": [
    "## Running Quiz.py\n",
    "\n",
    "This is the example Python quiz given to us in class:"
   ]
  },
  {
   "cell_type": "code",
   "execution_count": 3,
   "metadata": {},
   "outputs": [
    {
     "name": "stdout",
     "output_type": "stream",
     "text": [
      "Hello, taykim running /bin/python3\n",
      "You will be asked 3 questions.\n",
      "Question: Are you ready to take a test?\n",
      "Question: What command is used to include other functions that were previously developed?\n",
      "import is correct!\n",
      "Question: What command is used to evaluate correct or incorrect response in this example?\n",
      "if is correct!\n",
      "Question: Each 'if' command contains an '_________' to determine a true or false condition?\n",
      "expression is correct!\n",
      "taykim you scored 3/3\n"
     ]
    }
   ],
   "source": [
    "import getpass, sys\n",
    "\n",
    "def question_with_response(prompt):\n",
    "    print(\"Question: \" + prompt)\n",
    "    msg = input()\n",
    "    return msg\n",
    "\n",
    "questions = 3\n",
    "correct = 0\n",
    "\n",
    "print('Hello, ' + getpass.getuser() + \" running \" + sys.executable)\n",
    "print(\"You will be asked \" + str(questions) + \" questions.\")\n",
    "question_with_response(\"Are you ready to take a test?\")\n",
    "\n",
    "rsp = question_with_response(\"What command is used to include other functions that were previously developed?\")\n",
    "if rsp == \"import\":\n",
    "    print(rsp + \" is correct!\")\n",
    "    correct += 1\n",
    "else:\n",
    "    print(rsp + \" is incorrect!\")\n",
    "\n",
    "rsp = question_with_response(\"What command is used to evaluate correct or incorrect response in this example?\")\n",
    "if rsp == \"if\":\n",
    "    print(rsp + \" is correct!\")\n",
    "    correct += 1\n",
    "else:\n",
    "    print(rsp + \" is incorrect!\")\n",
    "\n",
    "rsp = question_with_response(\"Each 'if' command contains an '_________' to determine a true or false condition?\")\n",
    "if rsp == \"expression\":\n",
    "    print(rsp + \" is correct!\")\n",
    "    correct += 1\n",
    "else:\n",
    "    print(rsp + \" is incorrect!\")\n",
    "\n",
    "print(getpass.getuser() + \" you scored \" + str(correct) +\"/\" + str(questions))"
   ]
  },
  {
   "cell_type": "markdown",
   "metadata": {},
   "source": [
    "## Python Quiz\n",
    "\n",
    "This is my own Python quiz:"
   ]
  },
  {
   "cell_type": "code",
   "execution_count": 5,
   "metadata": {},
   "outputs": [
    {
     "name": "stdout",
     "output_type": "stream",
     "text": [
      "Hello, you will be asked 5 short questions\n",
      "Question: What is the answer to this math problem: What is f(4) if f(x) = 3x/x-3\n",
      "Answer is correct\n",
      "Question: What is the most popular religion in the world?\n",
      "Answer is correct\n",
      "Question: What is the capital of the U.S?\n",
      "Answer is incorrect\n",
      "Question: What is the molar mass of Carbon-12?\n",
      "Answer is correct\n",
      "Question: How many moles of water are in a 3.0 gram sample?\n",
      "Answer is correct\n",
      "You scored 4/5\n"
     ]
    }
   ],
   "source": [
    "def Python_Quiz(prompt):\n",
    "    global word\n",
    "    #I made the variable \"word\" global so that I could call it outside of the function\n",
    "    print (\"Question: \" + prompt)\n",
    "    #Every question begins with \"Question:\"\n",
    "    word = input()\n",
    "    #The variable \"word\" is the input\n",
    "    return word\n",
    "    #returns the variable \"word\"\n",
    "\n",
    "questions = 5\n",
    "correct_answer = 0\n",
    "#Made 2 new variables \"questions\" and \"correct_answer\"\n",
    "\n",
    "print(\"Hello, you will be asked \" + str(questions) + \" short questions\")\n",
    "#Introduces the quiz\n",
    "\n",
    "question_list = [\"What is the answer to this math problem: What is f(4) if f(x) = 3x/x-3\", \"What is the most popular religion in the world?\", \n",
    "\"What is the capital of the U.S?\", \"What is the molar mass of Carbon-12?\", \"How many moles of water are in a 3.0 gram sample?\"]\n",
    "answer_list = [\"12\", \"Christianity\", \"Washington D.C.\", \"12 g\", \"0.17\"]\n",
    "#I made 2 lists for questions and answers\n",
    "for i in range(5):\n",
    "    Python_Quiz(question_list[i])\n",
    "    if word == answer_list[i]:\n",
    "        print(\"Answer is correct\")\n",
    "        correct_answer += 1\n",
    "    else:\n",
    "        print(\"Answer is incorrect\")\n",
    "    #If the answer is correct to its respective question, then a correct answer response pops up. If it isn't correct, then an incorrect answer response pops up.\n",
    "print(\"You scored \" + str(correct_answer) + \"/\" + str(questions))\n",
    "#SHows how many correct answers the user got\n"
   ]
  },
  {
   "cell_type": "markdown",
   "metadata": {},
   "source": [
    "### Explanation\n",
    "Inside the function:\n",
    "I defined the function Python_Quiz, I made a variable \"word\" and I also made it so that every question started with the format \"Question:\". I defined the variable \"word\" so that it was equal to the input of the user. I also made the variable global so that it could be called outside of the function.\n",
    "\n",
    "Outside the function:\n",
    "I made 2 new variables \"questions\", and \"correct_answer\" which is later used to say the amount of question and correct answers. I then introduce the quiz by saying that the user will be asked 5 questions. For extra credit, I used lists and iterations to make a question list and an answer list. Then I used index (i) to make it so that if the user's answer was equal to the corresponding answer_list answer, then a correct answer response was given. If the answer that the user gave did not match the corresponding answer_list answer, then an incorrct answer response was given. I then also told the user how many correct answers they got out of the total amount of questions."
   ]
  }
 ],
 "metadata": {
  "kernelspec": {
   "display_name": "Python 3.8.10 64-bit",
   "language": "python",
   "name": "python3"
  },
  "language_info": {
   "codemirror_mode": {
    "name": "ipython",
    "version": 3
   },
   "file_extension": ".py",
   "mimetype": "text/x-python",
   "name": "python",
   "nbconvert_exporter": "python",
   "pygments_lexer": "ipython3",
   "version": "3.8.10"
  },
  "orig_nbformat": 4,
  "vscode": {
   "interpreter": {
    "hash": "916dbcbb3f70747c44a77c7bcd40155683ae19c65e1c03b4aa3499c5328201f1"
   }
  }
 },
 "nbformat": 4,
 "nbformat_minor": 2
}
