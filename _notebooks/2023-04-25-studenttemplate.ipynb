{
 "cells": [
  {
   "attachments": {},
   "cell_type": "markdown",
   "metadata": {},
   "source": [
    "# P5Y Simulations and SQLite Notes\n",
    "> My notes on the lesson by Drew, Vivian, Aliya, Sri and Sreeja\n",
    "- toc: true\n",
    "- title: Big Idea 3, Simulations and SQLite Lesson Notes"
   ]
  },
  {
   "attachments": {},
   "cell_type": "markdown",
   "metadata": {},
   "source": [
    "# Review Topics\n",
    "\n",
    "All of the topics below are things that have been heavily covered and used throughout the class. We will mostly be focusing on more complicated uses and mechanics of these topics.\n",
    "\n",
    "## Lists\n",
    "- What are Lists?\n",
    "    - Lists are an ordered sequence of elements, where each element is a variable\n",
    "    - Unlike dictionaries, lists' keys are all integers that describe the order of the list\n",
    "    - Elements in a list can be accessed using index numbers\n",
    "    - Built in functions such as `len()`, `min()`, `max()`, and `sum()`\n",
    "    - Elements can be easily added and removed - `append()`, `insert()`, `remove()`, and `pop()`\n",
    "\n",
    "Some examples of lists:\n",
    "- Playlist of songs\n",
    "- names of students in a class\n",
    "- contacts on your phone\n",
    "- Grocery List\n",
    "- List of integers - maybe numbers of favorite soccer players\n",
    "\n",
    "- Each element of a string is referenced by an index (which is a number) and they generally start 0 but for the AP Exam it starts at 1.\n",
    "    - AP Exam: 1,2,3,4 etc.\n",
    "    - Python:  0,1,2,3 etc.\n",
    "\n",
    "**How do lists Manage Complexity of a program?**\n",
    "- We may not need as many variables. For example:\n",
    "    - One Variable that holds all students would be better than having a variable for EACH student\n",
    "    - There can also be a list of test scores so if they need to be curved then the same calculation can be applied to the list (that has all the students) instead of doing the calculations one at a time\n",
    "- Related data can be grouped together\n",
    "- Lists can be iterated using a `for` loop, which enables multiple elements to be accessed\n",
    "- There are many built in functions for lists"
   ]
  },
  {
   "attachments": {},
   "cell_type": "markdown",
   "metadata": {},
   "source": [
    "Answer the following questions about the code block below:\n",
    "\n",
    "- Why do you think lists are helpful? What word does College Board like to use to describe the function of lists?\n",
    "\n",
    "Lists are helpful because it helps manage complexity by making code easier to read and use. Using lists also help us to use built in functions that enable us to perform a task much more quickly. Collegeboard likes to use the word \"abstraction\" to describe the function of lists, as complex data structures are simplified."
   ]
  },
  {
   "cell_type": "code",
   "execution_count": 1,
   "metadata": {},
   "outputs": [
    {
     "name": "stdout",
     "output_type": "stream",
     "text": [
      "name Sri Kotturi <class 'str'>\n",
      "age 16 <class 'int'>\n",
      "score 90.0 <class 'float'>\n",
      "\n",
      "langs ['Python', 'JavaScript', 'Java', 'Bash', 'html'] <class 'list'>\n",
      "- langs[2] Java <class 'str'>\n",
      "\n",
      "person {'name': 'Sri Kotturi', 'age': 16, 'score': 90.0, 'langs': ['Python', 'JavaScript', 'Java', 'Bash', 'html']} <class 'dict'>\n",
      "- person[\"name\"] Sri Kotturi <class 'str'>\n"
     ]
    }
   ],
   "source": [
    "# Sample of Python Variables\n",
    "\n",
    "# variable of type string\n",
    "name = \"Sri Kotturi\"\n",
    "print(\"name\", name, type(name))\n",
    "\n",
    "# variable of type integer\n",
    "age = 16\n",
    "print(\"age\", age, type(age))\n",
    "\n",
    "# variable of type float\n",
    "score = 90.0\n",
    "print(\"score\", score, type(score))\n",
    "\n",
    "print()\n",
    "\n",
    "# variable of type list (many values in one variable)\n",
    "langs = [\"Python\", \"JavaScript\", \"Java\", \"Bash\", \"html\"]\n",
    "print(\"langs\", langs, type(langs))\n",
    "print(\"- langs[2]\", langs[2], type(langs[2]))\n",
    "\n",
    "print()\n",
    "\n",
    "# variable of type dictionary (a group of keys and values)\n",
    "person = {\n",
    "    \"name\": name,\n",
    "    \"age\": age,\n",
    "    \"score\": score,\n",
    "    \"langs\": langs\n",
    "}\n",
    "print(\"person\", person, type(person))\n",
    "print('- person[\"name\"]', person[\"name\"], type(person[\"name\"]))"
   ]
  },
  {
   "attachments": {},
   "cell_type": "markdown",
   "metadata": {},
   "source": [
    "## Mathematical Expressions\n",
    "\n",
    "What is the output of the cell below? What Mathematical Expressions do you see being used? (List them below.)\n",
    "\n",
    "The output of the cell is 10.\n",
    "- Addition - to add the 2 grades\n",
    "- Floor division - to divide the sum of the two grades to the lower integer when rounded"
   ]
  },
  {
   "cell_type": "code",
   "execution_count": 2,
   "metadata": {},
   "outputs": [
    {
     "name": "stdout",
     "output_type": "stream",
     "text": [
      "10\n"
     ]
    }
   ],
   "source": [
    "grade1 = 10\n",
    "grade2 =  grade1 \n",
    "\n",
    "average_grade = (grade1 + grade2) // 2 #what are these two slashes?\n",
    "\n",
    "print(average_grade)"
   ]
  },
  {
   "attachments": {},
   "cell_type": "markdown",
   "metadata": {},
   "source": [
    "What is the value of num1, num2, and num3? Explain how each number ended up what it was.\n",
    "\n",
    "- 4096 - Is the result of 4 to the power of 6\n",
    "- 455 - Is the result of number 1 + number 3, then divided by 9\n",
    "- 1 - Is the result of number 1 mod 5"
   ]
  },
  {
   "cell_type": "code",
   "execution_count": 3,
   "metadata": {},
   "outputs": [
    {
     "name": "stdout",
     "output_type": "stream",
     "text": [
      "4096\n",
      "455\n",
      "1\n"
     ]
    }
   ],
   "source": [
    "num1 = 2\n",
    "num2 = 4\n",
    "num3 = 6\n",
    "num1 = num2 ** num3\n",
    "num3 = num1 % 5\n",
    "num2 = (num1 + num3) // 9\n",
    "\n",
    "print(num1)\n",
    "print(num2)\n",
    "print(num3)"
   ]
  },
  {
   "attachments": {},
   "cell_type": "markdown",
   "metadata": {},
   "source": [
    "# Selection\n",
    "Selection refers to the process of making decisions in a program based on certain conditions. It is normally done with conditional statements.\n",
    "- Allows coders to create programs that make decisions based on input or other factors and respond\n",
    "\n",
    "## Conditionals\n",
    "What is a conditional?:\n",
    "- Statement that allows code to execute different instructions if a certain condition is true or false\n",
    "- Allows program to make decisions based on data and input\n",
    "\n",
    "What are the main types of conditional statements?:\n",
    "- if\n",
    "- elif\n",
    "- else\n",
    "\n",
    "### If statements\n",
    "- The if statement is used to check if a certain condition is true. The condition can be any expression that evaulates to a boolean value, True or False. If the condition is True, then it executes a code block. \n",
    "- If (condition) then (consequence)\n",
    "- Example:"
   ]
  },
  {
   "cell_type": "code",
   "execution_count": 6,
   "metadata": {},
   "outputs": [
    {
     "name": "stdout",
     "output_type": "stream",
     "text": [
      "x is positive\n"
     ]
    }
   ],
   "source": [
    "x = int(input(\"Enter a number\"))\n",
    "if x > 0: # if condition, check if this is true of false\n",
    "    print(\"x is positive\") # code that will execute if condition is met"
   ]
  },
  {
   "attachments": {},
   "cell_type": "markdown",
   "metadata": {},
   "source": [
    "### Else\n",
    "- The else statemnt executes a code block when the if condition is False. \n",
    "- If (condition) then (consequence A), else (consequence B)\n",
    "\n",
    "### Elif\n",
    "- The elif statement can check multiple conditions in a sequence, and execute a certain block of code if any of the conditions are true. \n",
    "- If (condition) then (consequence A), elif (condition) then (consequence B), else (consequence C)\n",
    "\n",
    "- Example adding onto the code from before to take negative numbers and 0 into account"
   ]
  },
  {
   "cell_type": "code",
   "execution_count": null,
   "metadata": {},
   "outputs": [
    {
     "name": "stdout",
     "output_type": "stream",
     "text": [
      "x is positive\n"
     ]
    }
   ],
   "source": [
    "x = int(input(\"Enter a number, x:\"))\n",
    "if x > 0: # if condition, check if this is true of false\n",
    "    print(\"x is positive\") # code that will execute if condition is met\n",
    "elif x < 0: # if previous condition not true... elif condition, check if this is true of false\n",
    "    print(\"x is negative\")# code that will execute if condition is met\n",
    "else: # everything else, in this case it is if x == 0 \n",
    "    print(\"x is zero\") # only executes if all previous conditions are not met"
   ]
  },
  {
   "attachments": {},
   "cell_type": "markdown",
   "metadata": {},
   "source": [
    "## Nested Conditionals\n",
    "What is a nested conditional?:\n",
    "- Conditional statement inside another conditional statement\n",
    "- Allows to check for more complex condition where one condition depends on another\n",
    "\n",
    "### Nested Conditional Statements\n",
    "- Example"
   ]
  },
  {
   "cell_type": "code",
   "execution_count": null,
   "metadata": {},
   "outputs": [
    {
     "name": "stdout",
     "output_type": "stream",
     "text": [
      "x is even; divisible by 2\n",
      "x is divisible by 3\n"
     ]
    }
   ],
   "source": [
    "x = int(input(\"Enter a number, x:\"))\n",
    "if x % 2 == 0:\n",
    "    print(\"x is even; divisible by 2\")\n",
    "    # only ever checks is x is divisble by 3 if x is even. nested conditional\n",
    "    if x % 3 == 0:\n",
    "        print(\"x is divisible by 3\")\n",
    "    else:\n",
    "        print(\"x is not divisible by 3\")\n",
    "else:\n",
    "    print(\"x is odd\")"
   ]
  },
  {
   "attachments": {},
   "cell_type": "markdown",
   "metadata": {},
   "source": [
    "## Indentation\n",
    "When using conditionals and nested conditionals in Python, it is important to pay attention to the level of indentation in the code. The code inside the if, elif, and else blocks must be indented so they are nested wihtin the outer statements. This way, Python knows which code belongs to which block. "
   ]
  },
  {
   "attachments": {},
   "cell_type": "markdown",
   "metadata": {},
   "source": [
    "## Binary Search\n",
    "What is binary search and what is it used for?:\n",
    "- Searching algorithm\n",
    "- Find and select a specific element in a sorted list of elements\n",
    "\n",
    "How does binary search work?:\n",
    "- Repeatedly divides the search interval in half to find the middle element and compares the middle value to the target value, if not the same then it continues on to either the lower or upper half\n",
    "- Eliminate half of the remaining search interval elements each time\n",
    "- Efficient way to search for element in large dataset\n",
    "\n",
    "What is the time complexity and why?:\n",
    "- O(log(N))\n",
    "- The maximum number of iterations is the amount of times the list can be divided in half until it reaches 1 number\n",
    "- Dividing by 2, so it is log2(N), logarigthm of n base 2\n",
    "\n",
    "- You may recognize the example below from the binary lesson last Friday"
   ]
  },
  {
   "cell_type": "code",
   "execution_count": null,
   "metadata": {},
   "outputs": [
    {
     "name": "stdout",
     "output_type": "stream",
     "text": [
      "Is your number 50?\n",
      "Is your number 75?\n",
      "Is your number 88?\n",
      "I guessed your number 88!\n"
     ]
    }
   ],
   "source": [
    "import random\n",
    "\n",
    "def binary_search_game():\n",
    "    low = 1\n",
    "    high = 100\n",
    "    target = random.randint(low, high)\n",
    "\n",
    "    while True:\n",
    "        guess = (low + high) // 2\n",
    "        print(f\"Is your number {guess}?\")\n",
    "        response = input(\"Enter 'higher', 'lower', or 'yes': \")\n",
    "\n",
    "        # conditional statements to check target number and guess\n",
    "        if response == 'yes':\n",
    "            print(f\"I guessed your number {guess}!\")\n",
    "            break\n",
    "        elif response == 'higher':\n",
    "            low = guess + 1\n",
    "        elif response == 'lower':\n",
    "            high = guess - 1\n",
    "        else:\n",
    "            print(\"Invalid input, please enter 'higher', 'lower', or 'yes'.\")\n",
    "\n",
    "binary_search_game()"
   ]
  },
  {
   "cell_type": "markdown",
   "metadata": {},
   "source": [
    "## Quick Hack\n",
    "\n",
    "Write a program using conditionals and nested conditionals\n",
    "- Ideas: Quiz, game (rock paper scissors, guess number), etc"
   ]
  },
  {
   "attachments": {},
   "cell_type": "markdown",
   "metadata": {},
   "source": [
    "Guessing Number Game:"
   ]
  },
  {
   "cell_type": "code",
   "execution_count": 20,
   "metadata": {},
   "outputs": [
    {
     "name": "stdout",
     "output_type": "stream",
     "text": [
      "lower\n",
      "higher\n",
      "higher\n",
      "higher\n",
      "higher\n",
      "higher\n",
      "lower\n",
      "lower\n",
      "You guessed the correct number : 37!\n"
     ]
    }
   ],
   "source": [
    "# YOUR PROGRAM WITH CONDITIONALS AND NESTED CONDITIONALS\n",
    "number = random.randint(1, 100)\n",
    "\n",
    "def search_game():\n",
    "    guess = int(input(\"Please enter a number between 1 and 100\"))\n",
    "\n",
    "    if guess == number:\n",
    "        print(f\"You guessed the correct number : {number}!\")\n",
    "    elif guess > number:\n",
    "        print(\"lower\")\n",
    "        search_game()\n",
    "    elif guess < number:\n",
    "        print(\"higher\")\n",
    "        search_game()\n",
    "    else:\n",
    "        print(\"Please input a number bettwen 1 and 100\")\n",
    "        search_game()\n",
    "\n",
    "search_game()"
   ]
  },
  {
   "attachments": {},
   "cell_type": "markdown",
   "metadata": {},
   "source": [
    "# Introduction to Algorithms\n",
    "- an algorithm is a set of instructions that describes how to solve a problem or perform a specific task using a computer program. \n",
    "- It is a precise sequence of computational steps that take an input and produce an output\n",
    "\n",
    "## How do Algorithms relate to data structures?\n",
    "\n",
    "- Algorithms often rely on specific data structures to solve problems efficiently. \n",
    "- Sorting algorithms require a data structure such as an array or a linked list to store and manipulate data.\n",
    "- Searching algorithms such as binary search require data structures like arrays or trees to organize and search through data.\n",
    "\n",
    "## Important Terms\n",
    "\n",
    "**What is an algorithm?**\n",
    "- it is a finite set of instructions that accomplishes a specific task\n",
    "- Step-by-step process that takes an input, performs steps, and produces output\n",
    "- Can be simple or complex\n",
    "    - Examples are pseudocode, charts, actual code, etc.\n",
    "\n",
    "**Sequencing**\n",
    "- means that there is an order in which to do things\n",
    "- It is the order in which steps or instructions are executed by the program\n",
    "\n",
    "**Selection**\n",
    "- Helps to choose two different outcomes based off of a decision that the programmer wants to make\n",
    "- Typically achieved through conditional statements\n",
    "\n",
    "**Iteration**\n",
    "- Repeat something until the condition is met. (also referred to as repetition)\n",
    "- Allows a program to perform the same or similar operations on data, or to perform certain tasks until desired outcome\n",
    "\n",
    "## Calling and Developing Procedures\n",
    "- A procedure is a sequence of instructions that performs a specific task.\n",
    "- To call a procedure, you need to know its name and any arguments it requires.\n",
    "- When a procedure is called, the program jumps to its instruction and starts executing it.\n",
    "- The arguments passed to a procedure can be used within the procedure to perform tasks or calculations.\n",
    "- After the procedure has completed its task, it returns control back to the calling program."
   ]
  },
  {
   "cell_type": "code",
   "execution_count": 21,
   "metadata": {},
   "outputs": [
    {
     "name": "stdout",
     "output_type": "stream",
     "text": [
      "The sum of 5 and 7 is 12\n"
     ]
    }
   ],
   "source": [
    "# Define a procedure that takes two arguments and prints their sum\n",
    "def add_numbers(a, b):\n",
    "    sum = a + b\n",
    "    print(\"The sum of\", a, \"and\", b, \"is\", sum)\n",
    "\n",
    "# Call the procedure with arguments 5 and 7\n",
    "add_numbers(5, 7)"
   ]
  },
  {
   "attachments": {},
   "cell_type": "markdown",
   "metadata": {},
   "source": [
    "- The result of the procedure can be stored in a variable, printed to the screen, or used in any other way that is required by the program.\n",
    "- Procedures can be defined within the same program or in external files, and can be reused across multiple parts of the program.\n",
    "- To avoid errors and improve code readability, it's important to define and call procedures with proper syntax and conventions that are appropriate for the programming language you're using."
   ]
  },
  {
   "cell_type": "code",
   "execution_count": 22,
   "metadata": {},
   "outputs": [
    {
     "name": "stdout",
     "output_type": "stream",
     "text": [
      "The average of [10, 20, 30, 40, 50] is 30.0\n"
     ]
    }
   ],
   "source": [
    "def calculate_average(numbers):\n",
    "    total = sum(numbers)\n",
    "    count = len(numbers)\n",
    "    average = total / count\n",
    "    return average\n",
    "\n",
    "# Call the procedure with a list of numbers\n",
    "numbers_list = [10, 20, 30, 40, 50]\n",
    "result = calculate_average(numbers_list)\n",
    "\n",
    "# Display the result\n",
    "print(\"The average of\", numbers_list, \"is\", result)"
   ]
  },
  {
   "attachments": {},
   "cell_type": "markdown",
   "metadata": {},
   "source": [
    "## Algorithmic Efficiency\n",
    "- Algorithmic efficiency refers to the amount of time and resources needed to execute an algorithm.\n",
    "- The efficiency of an algorithm can be measured in terms of its time complexity and space complexity.\n",
    "    - Time complexity refers to the amount of time required by an algorithm to complete its task as a function of its input size.\n",
    "    - Space complexity refers to the amount of memory required by an algorithm to complete its task as a function of its input size.\n",
    "    - can be analyzed using Big O notation, which provides an upper bound on the worst-case time and space complexity of the algorithm.\n",
    "\n",
    "What is the time complexity of the following code: \n",
    "    - O(N)\n",
    "    - O(N*log(N))\n",
    "    - O(N * Sqrt(N))\n",
    "    - O(N*N)\n",
    "The time complexity will be O(N*N) because there is a nested for loop - or two for loops consecutively - which causes the time complexity of N to be squared."
   ]
  },
  {
   "cell_type": "code",
   "execution_count": null,
   "metadata": {},
   "outputs": [],
   "source": [
    "a = 0\n",
    "for i in range(N):\n",
    "  for j in reversed(range(i, N)):\n",
    "    a = a + i + j"
   ]
  },
  {
   "attachments": {},
   "cell_type": "markdown",
   "metadata": {},
   "source": [
    "What will be the time complexity of the following code?\n",
    "\n",
    "- n\n",
    "- (n+1)\n",
    "- n(n-1)\n",
    "- n(n+1)\n",
    "n(n+1) because there are two for loops, and therefore n is iterated through twice. There is also the +1 becaue each time, a value is added by 1."
   ]
  },
  {
   "cell_type": "code",
   "execution_count": null,
   "metadata": {},
   "outputs": [],
   "source": [
    "value = 0\n",
    "for i in range(n): #iterates \"n\" times, with \"i\" taking on values from 0 to n-1.\n",
    "  for j in range(i): # iterates \"i\" times, with \"j\" taking on values from 0 to i-1.\n",
    "    value=value+1"
   ]
  },
  {
   "attachments": {},
   "cell_type": "markdown",
   "metadata": {},
   "source": [
    "- Efficiency can be improved by optimizing algorithms or by using more efficient data structures and algorithms.\n",
    "    - Some common techniques for improving efficiency include reducing the size of the input data, caching results, and parallelizing tasks.\n",
    "    - Understanding algorithmic efficiency is important in software development, as it can impact the performance of applications and their ability to scale with larger data sets."
   ]
  },
  {
   "attachments": {},
   "cell_type": "markdown",
   "metadata": {},
   "source": [
    "# Iteration and Simulations\n",
    "\n",
    "Simulations are models of real-world phenomena or systems that use mathematical algorithms and computer programs simulate the real behavior and aspects of the subject being modeled.\n",
    "\n",
    "Simulations are most often used to model complex or time-consuming things that would be difficult to test in real life, such as modeling the spread of diseases in certain ecosystems or testing the functionality of a potential product before it is made.\n",
    "\n",
    "In this lesson, we will be looking at lists, iteration, and random values through the lens of simulations.\n",
    "\n",
    "**PLEASE RUN THE CODE BELOW BEFORE INTERACTING WITH THE CODE SEGMENTS IN THIS SECTION!**"
   ]
  },
  {
   "cell_type": "code",
   "execution_count": 7,
   "metadata": {},
   "outputs": [],
   "source": [
    "class Card:\n",
    "    def __init__(self, suit, val):\n",
    "        self.suit = suit\n",
    "        self.val = val\n",
    "        if val == 11:\n",
    "            self.kind = \"Ace\"\n",
    "        elif val == 12:\n",
    "            self.kind = \"Jack\"\n",
    "        elif val == 13:\n",
    "            self.kind = \"Queen\"\n",
    "        elif val == 14:\n",
    "            self.kind = \"King\"\n",
    "        else:\n",
    "            self.kind = str(self.val)\n",
    "\n",
    "    #return a formatted string version of a card\n",
    "    def show(self):\n",
    "        return f\"{self.kind} of {self.suit}\"\n",
    "    \n",
    "    #adjust aces to prevent breaking\n",
    "    def ace_adj(self):\n",
    "        if self.kind == \"Ace\":\n",
    "            self.val = 1"
   ]
  },
  {
   "cell_type": "markdown",
   "metadata": {},
   "source": [
    "## Review: Lists and Iteration\n",
    "\n",
    "Lists and iteration work hand-in-hand to efficiently process and/or modify multiple values at once. In a card game, for example, lists and iteration are used together frequently to make the game work correctly."
   ]
  },
  {
   "attachments": {},
   "cell_type": "markdown",
   "metadata": {},
   "source": [
    "### For Loops\n",
    "\n",
    "For loops are probably the most well-known type of iterative loop used in code. Most of us know about the `for variable in list` format.\n",
    "\n",
    "One helpful tool not a lot of people know about is the `enumerate()` function. When used in conjunction with a for loop, you can always have access to the index and value of each selected list entry."
   ]
  },
  {
   "cell_type": "code",
   "execution_count": null,
   "metadata": {},
   "outputs": [
    {
     "name": "stdout",
     "output_type": "stream",
     "text": [
      "This entry's index is 0, but its value is 3.\n",
      "The difference between the value and the index is 3.\n",
      "This entry's index is 1, but its value is 5.\n",
      "The difference between the value and the index is 4.\n",
      "This entry's index is 2, but its value is 68.\n",
      "The difference between the value and the index is 66.\n",
      "This entry's index is 3, but its value is 203.\n",
      "The difference between the value and the index is 200.\n"
     ]
    }
   ],
   "source": [
    "numlist = [3, 5, 68, 203]\n",
    "\n",
    "for key, num in enumerate(numlist):\n",
    "    print(f\"This entry's index is {str(key)}, but its value is {str(num)}.\")\n",
    "    print(f\"The difference between the value and the index is {num - key}.\")"
   ]
  },
  {
   "attachments": {},
   "cell_type": "markdown",
   "metadata": {},
   "source": [
    "QUESTION: How is the `key, num in enumerate(list)` format similar to the format used when applying a `for` loop to a dictionary?\n",
    "\n",
    "Answer: When running a for loop to a dictionary, the loop iterates through the keys and values. Similarly, this format iterates through the index and the values, which is like the keys and values of dictionaries.\n",
    "\n",
    "#### List Comprehension\n",
    "\n",
    "You may also see `for` loops used within a list like below. We went over this in class fairly recently. In this case, it is used to show the cards in the hand of a player."
   ]
  },
  {
   "cell_type": "code",
   "execution_count": null,
   "metadata": {},
   "outputs": [
    {
     "name": "stdout",
     "output_type": "stream",
     "text": [
      "['Ace of Diamonds']\n"
     ]
    }
   ],
   "source": [
    "player_hand = [] # the player's hand is represented as a list\n",
    "# because lists are mutable (can change), they can be added to, like drawing a card\n",
    "\n",
    "# assume the deck below is a a deck of shuffled cards\n",
    "deck = [Card(\"Hearts\", 3), Card(\"Spades\", 12), Card(\"Diamonds\", 11)]\n",
    "def draw_card(hand, deck):\n",
    "    hand.append(deck.pop())\n",
    "\n",
    "#try it out\n",
    "draw_card(player_hand, deck)\n",
    "print([card.show() for card in player_hand])"
   ]
  },
  {
   "cell_type": "markdown",
   "metadata": {},
   "source": [
    "### Recursive Loops\n",
    "\n",
    "Recursive loops have you calling one function inside of another. If a function must make some change to a certain value multiple times, it is oftem most efficient to have a function call itself with slightly different arguments like the fibonacci sequence below."
   ]
  },
  {
   "cell_type": "code",
   "execution_count": null,
   "metadata": {},
   "outputs": [
    {
     "data": {
      "text/plain": [
       "5"
      ]
     },
     "execution_count": 32,
     "metadata": {},
     "output_type": "execute_result"
    }
   ],
   "source": [
    "def fibonacci(terms):\n",
    "    if terms <= 1:\n",
    "        return terms\n",
    "    return fibonacci(terms-1) + fibonacci(terms-2)\n",
    "\n",
    "fibonacci(5)"
   ]
  },
  {
   "cell_type": "markdown",
   "metadata": {},
   "source": [
    "#### Nesting Loops\n",
    "\n",
    "Nesting loops increases the time complexity of the program, but it can be used to do things like make a card deck (see below)."
   ]
  },
  {
   "cell_type": "code",
   "execution_count": 8,
   "metadata": {},
   "outputs": [],
   "source": [
    "#the parameter is a list\n",
    "def build(deck):\n",
    "        for suit in [\"Spades\", \"Clubs\", \"Diamonds\", \"Hearts\"]:\n",
    "            for val in range(2, 15): #HINT: try replacing this function\n",
    "                deck.append(Card(suit, val))"
   ]
  },
  {
   "attachments": {},
   "cell_type": "markdown",
   "metadata": {},
   "source": [
    "### While Loops\n",
    "\n",
    "While loops aren't used in the program, but they offer a different way to repeat a set of instructions in a program. The procedure below the `while [condition]` line will occur until the condition is made not true.\n",
    "\n",
    "**Student Interaction**: How could this `build` function be altered to function with a **while loop** within it?\n",
    "A while loop could be used to run only when `val` is in the range 2 and 15, like `while val<15` and `while val>2`."
   ]
  },
  {
   "cell_type": "code",
   "execution_count": 9,
   "metadata": {},
   "outputs": [],
   "source": [
    "def build(deck):\n",
    "        for suit in [\"Spades\", \"Clubs\", \"Diamonds\", \"Hearts\"]:\n",
    "            for val in range(2, 15):\n",
    "                deck.append(Card(suit, val))\n",
    "\n",
    "#HINT: you may want to make an incrementing i variable"
   ]
  },
  {
   "cell_type": "markdown",
   "metadata": {},
   "source": [
    "While loops also alter an alternative way to loop a set of instructions forever, until a precise thing occurs to break the loop. See the code below."
   ]
  },
  {
   "cell_type": "code",
   "execution_count": null,
   "metadata": {},
   "outputs": [
    {
     "name": "stdout",
     "output_type": "stream",
     "text": [
      "It took 16 random generations to get 10.\n"
     ]
    }
   ],
   "source": [
    "import random\n",
    "i = 0\n",
    "\n",
    "while True:\n",
    "    i += 1\n",
    "    ch = random.randint(1, 11)\n",
    "    if ch == 10:\n",
    "        print(f\"It took {str(i)} random generations to get 10.\")\n",
    "        break"
   ]
  },
  {
   "attachments": {},
   "cell_type": "markdown",
   "metadata": {},
   "source": [
    "49 random generations is a lot more than it would normally take, but it's important for code to be able to model unlikely, yet possible scenarios. Speaking of random values...\n",
    "\n",
    "## Random Values\n",
    "\n",
    "Because unpredictable randomness occurs in the real world, it's important to have a way to represent it. Simulations are able to use randomization, which could be in the form of random number generation or other methods like `shuffle`.\n",
    "\n",
    "Card decks are a great example of how random values can be used to represent real-world scenarios. In the card simulation, the `random` module's `shuffle` function is used to quite literally shuffle the deck, seen below."
   ]
  },
  {
   "cell_type": "code",
   "execution_count": 10,
   "metadata": {},
   "outputs": [],
   "source": [
    "def shuffle(deck):\n",
    "    random.shuffle(deck)"
   ]
  },
  {
   "attachments": {},
   "cell_type": "markdown",
   "metadata": {},
   "source": [
    "Often, random selection methods use functions like `randint` or `randrange` as ways to select certain indexes in lists, or might use the random numbers in some other way.\n",
    "\n",
    "**QUESTION:** Without shuffling the card order of the deck, can you think of a way that the aforementioned `random` module functions could be used to get a random card from the deck? Do so in the code cell below.\n",
    "- The `randint` function can be used to randomly generate an index from the deck."
   ]
  },
  {
   "cell_type": "code",
   "execution_count": 11,
   "metadata": {},
   "outputs": [],
   "source": [
    "import random\n",
    "\n",
    "#find another random function that could pull a random card from a deck of UNSORTED cards"
   ]
  },
  {
   "cell_type": "markdown",
   "metadata": {},
   "source": [
    "## Simulation Homework\n",
    "\n",
    "Now that you've learned about simulations and how they're used, it's time to apply that knowledge by creating a (basic) simulation of a real-world scenario. It can be something in nature, like the changes in the wildlife population of a certain area; it can be a game, like Uno (no blackjack though, that's taken); or it can be something completely random and unique.\n",
    "\n",
    "The simulation must include...\n",
    "- Use of at least one random value\n",
    "- At least one list or similar data type (dictionary, set, etc.)\n",
    "- Efficient use of iteration (must support the purpose of the simualtion)\n",
    "- Selection (use of conditionals)\n",
    "\n",
    "Do this in your student copy in the cell provided. This is worth 0.9 (or more with extra credit) out of the 3 possible points."
   ]
  },
  {
   "attachments": {},
   "cell_type": "markdown",
   "metadata": {},
   "source": [
    "I have coded a dice game. \n",
    "Rules:\n",
    "- Two players take turns rolling a six-sided die.\n",
    "- The first player to roll a 6 wins.\n",
    "- If a player rolls a 1, their turn ends and they get no points for that turn.\n",
    "- The first player to win 3 rounds wins the game."
   ]
  },
  {
   "cell_type": "code",
   "execution_count": 12,
   "metadata": {},
   "outputs": [
    {
     "name": "stdout",
     "output_type": "stream",
     "text": [
      "Alice rolled a 6 and wins the round!\n",
      "Bob rolled a 4.\n",
      "Alice rolled a 4.\n",
      "Bob rolled a 6 and wins the round!\n",
      "Alice rolled a 1 and gets no points this round.\n",
      "Bob rolled a 5.\n",
      "Alice rolled a 1 and gets no points this round.\n",
      "Bob rolled a 2.\n",
      "Alice rolled a 6 and wins the round!\n",
      "Bob rolled a 4.\n",
      "Alice rolled a 6 and wins the round!\n",
      "Bob rolled a 4.\n",
      "Alice wins the game!\n"
     ]
    }
   ],
   "source": [
    "# Think about random values. What could they represent in the real world?\n",
    "# (Concert attendance? Wind speeds? Interactions between subjects in large environments?)\n",
    "\n",
    "# Think about the sort of things that could be saved in lists, dictionaries, etc.\n",
    "# (Even better if you can take advantage of the specific features of multiple types of data sets!)\n",
    "\n",
    "# What kind of iteration happens in the real world?\n",
    "# What occurs repeatedly, even over a long period of time?\n",
    "# You could model the results of a disease spreading through a population without it taking IRL years.\n",
    "import random\n",
    "\n",
    "player1 = {'name': 'Alice', 'score': 0}\n",
    "player2 = {'name': 'Bob', 'score': 0}\n",
    "\n",
    "def roll_dice():\n",
    "    return random.randint(1, 6)\n",
    "\n",
    "while player1['score'] < 3 and player2['score'] < 3:\n",
    "    p1_roll = roll_dice()\n",
    "    if p1_roll == 6:\n",
    "        player1['score'] += 1\n",
    "        print(f\"{player1['name']} rolled a 6 and wins the round!\")\n",
    "    elif p1_roll == 1:\n",
    "        print(f\"{player1['name']} rolled a 1 and gets no points this round.\")\n",
    "    else:\n",
    "        print(f\"{player1['name']} rolled a {p1_roll}.\")\n",
    "    \n",
    "    p2_roll = roll_dice()\n",
    "    if p2_roll == 6:\n",
    "        player2['score'] += 1\n",
    "        print(f\"{player2['name']} rolled a 6 and wins the round!\")\n",
    "    elif p2_roll == 1:\n",
    "        print(f\"{player2['name']} rolled a 1 and gets no points this round.\")\n",
    "    else:\n",
    "        print(f\"{player2['name']} rolled a {p2_roll}.\")\n",
    "    \n",
    "if player1['score'] >= 3:\n",
    "    print(f\"{player1['name']} wins the game!\")\n",
    "else:\n",
    "    print(f\"{player2['name']} wins the game!\")\n"
   ]
  },
  {
   "attachments": {},
   "cell_type": "markdown",
   "metadata": {},
   "source": [
    "# Databases \n",
    "We have already gone over databases in this class, but here is a refresher. A database contains data that's stored in columns and rows. The information in this database can then be pulled from the database and can be used in a program. \n",
    "\n",
    "## Setting Up the Database\n",
    "\n",
    "Run the code cell below to prepare SQLite to create the database. If your system is struggling with the flask functions, verify that you're in the correct Python environment. **REMEMBER: You should only `db.init_app(app)` ONCE during the process!**"
   ]
  },
  {
   "cell_type": "code",
   "execution_count": 44,
   "metadata": {},
   "outputs": [],
   "source": [
    "from flask import Flask\n",
    "from flask_sqlalchemy import SQLAlchemy\n",
    "\n",
    "# Setup of key Flask object (app)\n",
    "app = Flask(__name__)\n",
    "# Setup SQLAlchemy object and properties for the database (db)\n",
    "database = 'sqlite:///sqlite.db'  # path and filename of database\n",
    "app.config['SQLALCHEMY_TRACK_MODIFICATIONS'] = False\n",
    "app.config['SQLALCHEMY_DATABASE_URI'] = database\n",
    "app.config['SECRET_KEY'] = 'SECRET_KEY'\n",
    "db = SQLAlchemy()\n",
    "\n",
    "\n",
    "# This belongs in place where it runs once per project\n",
    "db.init_app(app)"
   ]
  },
  {
   "cell_type": "markdown",
   "metadata": {},
   "source": [
    "## The Model File \n",
    "The model file plays a crucial role in the formation of the database. \n",
    "- The model helps to create new databases\n",
    "- It provides a standardized method for formating the database entries across different systems \n",
    "- Objects used within the database are created"
   ]
  },
  {
   "cell_type": "code",
   "execution_count": 45,
   "metadata": {},
   "outputs": [],
   "source": [
    "#importing necessary items\n",
    "import os, base64\n",
    "import json\n",
    "from sqlalchemy.exc import IntegrityError\n",
    "\n",
    "# Define the User class to manage actions in the 'users' table\n",
    "class User(db.Model):\n",
    "    __tablename__ = 'players'  # table name is plural, class name is singular\n",
    "\n",
    "    # Define the User schema with \"vars\" from object\n",
    "    id = db.Column(db.Integer, primary_key=True)\n",
    "    _username = db.Column(db.String(255), unique=False, nullable=False)\n",
    "    _streak = db.Column(db.Integer, unique=True, nullable=False)\n",
    "\n",
    "    # constructor of a User object, initializes the instance variables within object (self)\n",
    "    def __init__(self, username, streak):\n",
    "        self._username = username\n",
    "        self._streak = streak\n",
    "\n",
    "    # a username getter method, extracts username from object\n",
    "    @property\n",
    "    def username(self):\n",
    "        return self._username\n",
    "    \n",
    "    # a setter function, allows username to be updated after initial object creation\n",
    "    @username.setter\n",
    "    def username(self, username):\n",
    "        self._username = username\n",
    "    \n",
    "    # a getter method, extracts streak from object\n",
    "    @property\n",
    "    def streak(self):\n",
    "        return self._streak\n",
    "    \n",
    "    # a setter function, allows streak to be updated after initial object creation\n",
    "    @streak.setter\n",
    "    def streak(self, streak):\n",
    "        self._streak = streak\n",
    "    \n",
    "    # output content using str(object) in human readable form, uses getter\n",
    "    # output content using json dumps, this is ready for API response\n",
    "    def __str__(self):\n",
    "        return json.dumps(self.read())\n",
    "\n",
    "    # CRUD create/add a new record to the table\n",
    "    # returns self or None on error\n",
    "    def create(self):\n",
    "        try:\n",
    "            # creates a person object from User(db.Model) class, passes initializers\n",
    "            db.session.add(self)  # add prepares to persist person object to Users table\n",
    "            db.session.commit()  # SqlAlchemy \"unit of work pattern\" requires a manual commit\n",
    "            return self\n",
    "        except IntegrityError:\n",
    "            db.session.remove()\n",
    "            return None\n",
    "\n",
    "    # CRUD read converts self to dictionary\n",
    "    # returns dictionary\n",
    "    def read(self):\n",
    "        return {\n",
    "            \"id\": self.id,\n",
    "            \"username\": self.username,\n",
    "            \"streak\": self.streak\n",
    "        }\n",
    "\n",
    "    # CRUD update: updates user name, password, phone\n",
    "    # returns self\n",
    "    def update(self, username, streak):\n",
    "        \"\"\"only updates values with length\"\"\"\n",
    "        if len(username) > 0:\n",
    "            self.username = username\n",
    "        if streak > 0:\n",
    "            self.streak = streak\n",
    "        db.session.commit()\n",
    "        return self\n",
    "\n",
    "    # CRUD delete: remove self\n",
    "    # None\n",
    "    def delete(self):\n",
    "        db.session.delete(self)\n",
    "        db.session.commit()\n",
    "        return None\n",
    "\n",
    "\n",
    "\"\"\"Database Creation and Testing \"\"\"\n",
    "\n",
    "# Builds working data for testing\n",
    "def initUsers():\n",
    "    with app.app_context():\n",
    "        \"\"\"Create database and tables\"\"\"\n",
    "        db.create_all()\n",
    "        \"\"\"Tester data for table\"\"\"\n",
    "        u1 = User(username=\"Mr. Cards\", streak=5)\n",
    "        u2 = User(username=\"Kard Kowntre\", streak=10)\n",
    "        u3 = User(username=\"Un Bea Table\", streak=15)\n",
    "\n",
    "        users = [u1, u2, u3]\n",
    "\n",
    "        \"\"\"Builds sample user/note(s) data\"\"\"\n",
    "        for user in users:\n",
    "            try:\n",
    "                user.create()\n",
    "                print(f'Created user with username \"{user.username}\".')\n",
    "            except IntegrityError:\n",
    "                '''fails with bad or duplicate data'''\n",
    "                db.session.remove()\n",
    "                print(f\"Records exist, duplicate email, or error: {user.username}\")"
   ]
  },
  {
   "cell_type": "markdown",
   "metadata": {},
   "source": [
    "## The init Fuction\n",
    "The __init__ method has one purpose which is to initialize the object's attributes. This is what is known as the **constructor**. In our project, the __init__ method initalizes the username and streak as variables. "
   ]
  },
  {
   "cell_type": "code",
   "execution_count": 36,
   "metadata": {},
   "outputs": [],
   "source": [
    "    # constructor of a User object, initializes the instance variables within object (self)\n",
    "def __init__(self, username, streak):\n",
    "        self._username = username\n",
    "        self._score = streak"
   ]
  },
  {
   "attachments": {},
   "cell_type": "markdown",
   "metadata": {},
   "source": [
    "## Setters and Getters \n",
    "Setters and Getters are important methods used when writing code for databases.\n",
    "- **Setter**: a method that allows us to set or change the value of an attribute in a class.\n",
    "- **Getter**: a method that allows us to access an attribute in a given class."
   ]
  },
  {
   "cell_type": "markdown",
   "metadata": {},
   "source": [
    "### Getter Example"
   ]
  },
  {
   "cell_type": "code",
   "execution_count": 37,
   "metadata": {},
   "outputs": [],
   "source": [
    "# a getter method, extracts streak from object\n",
    "@property\n",
    "def streak(self):\n",
    "    return self._streak"
   ]
  },
  {
   "attachments": {},
   "cell_type": "markdown",
   "metadata": {},
   "source": [
    "### Setter Example"
   ]
  },
  {
   "cell_type": "code",
   "execution_count": 38,
   "metadata": {},
   "outputs": [],
   "source": [
    "# a setter function, allows streak to be updated after initial object creation\n",
    "@streak.setter\n",
    "def streak(self, streak):\n",
    "    self._streak = streak"
   ]
  },
  {
   "attachments": {},
   "cell_type": "markdown",
   "metadata": {},
   "source": [
    "## The Api File \n",
    "An API is an important part of having a functional database. \n",
    "- it acts as a messenger that allows programs to access data from the others \n",
    "- it connects all information \n",
    "- for a database, an api retrieves the data requested in code for the user "
   ]
  },
  {
   "cell_type": "code",
   "execution_count": 46,
   "metadata": {},
   "outputs": [],
   "source": [
    "import json\n",
    "from flask import Blueprint, request, jsonify\n",
    "from flask_restful import Api, Resource # used for REST API building\n",
    "\n",
    "user_api = Blueprint('user_api', __name__,\n",
    "                   url_prefix='/api/users')\n",
    "\n",
    "api = Api(user_api)\n",
    "\n",
    "class UserAPI:        \n",
    "    class _CRUD(Resource):  # User API operation for Create, Read.  THe Update, Delete methods need to be implemeented\n",
    "        def post(self): # Create method\n",
    "            ''' Read data for json body '''\n",
    "            body = request.get_json()\n",
    "            \n",
    "            ''' Avoid garbage in, error checking '''\n",
    "            # validate name\n",
    "            username = body.get('username')\n",
    "            if username is None or len(username) < 1:\n",
    "                return {'message': f'Username is missing, or is less than a character'}, 400\n",
    "            # validate uid\n",
    "            streak = body.get('streak')\n",
    "            if streak is None or streak < 1:\n",
    "                return {'message': f'Streak is missing, or is less than 1'}, 400\n",
    "\n",
    "            ''' #1: Key code block, setup USER OBJECT '''\n",
    "            uo = User(username=username, \n",
    "                      streak=streak)\n",
    "            \n",
    "            ''' #2: Key Code block to add user to database '''\n",
    "            # create user in database\n",
    "            user = uo.create()\n",
    "            # success returns json of user\n",
    "            if user:\n",
    "                return jsonify(user.read())\n",
    "            # failure returns error\n",
    "            return {'message': f'Processed {username}, either a format error or a duplicate'}, 400\n",
    "\n",
    "        def get(self): # Read Method\n",
    "            users = User.query.all()    # read/extract all users from database\n",
    "            json_ready = [user.read() for user in users]  # prepare output in json\n",
    "            return jsonify(json_ready)  # jsonify creates Flask response object, more specific to APIs than json.dumps\n",
    "\n",
    "        def put(self):\n",
    "            body = request.get_json() # get the body of the request\n",
    "            id = body.get('id')\n",
    "            username = body.get('username')\n",
    "            streak = body.get('streak') # get the UID (Know what to reference)\n",
    "            user = User.query.get(id) # get the player (using the uid in this case)\n",
    "            user.update(username=username, streak=streak)\n",
    "            return f\"{user.read()} Updated\"\n",
    "\n",
    "        def delete(self):\n",
    "            body = request.get_json()\n",
    "            id = body.get('id')\n",
    "            player = User.query.get(id)\n",
    "            player.delete()\n",
    "            return f\"{player.read()} Has been deleted\"\n",
    "\n",
    "    # building RESTapi endpoint\n",
    "    api.add_resource(_CRUD, '/')"
   ]
  },
  {
   "cell_type": "markdown",
   "metadata": {},
   "source": [
    "This is important particularly in a full flask respository context, but in this case, you'll just need to run the `initUsers()` function."
   ]
  },
  {
   "cell_type": "code",
   "execution_count": 47,
   "metadata": {},
   "outputs": [
    {
     "name": "stdout",
     "output_type": "stream",
     "text": [
      "Created user with username \"Mr. Cards\".\n",
      "Created user with username \"Kard Kowntre\".\n",
      "Created user with username \"Un Bea Table\".\n"
     ]
    }
   ],
   "source": [
    "initUsers()"
   ]
  },
  {
   "cell_type": "markdown",
   "metadata": {},
   "source": [
    "### An Alternative Method of Making SQLite Databases\n",
    "\n",
    "In a previous lesson, we went over using the `cursor` object in SQLite3. Rather than go over all of that here, [this lesson](https://nighthawkcoders.github.io/APCSP//2023/03/16/AP-unit2-4b.html) goes over it thoroughly. (You may use this method for the homework below.)"
   ]
  },
  {
   "cell_type": "markdown",
   "metadata": {},
   "source": [
    "## Database Homework\n",
    "\n",
    "For this assignment, we'd like you to make your own database file as instructed above. Remember, the API file isn't necessary in this case; you'll be focusing on making the model and the `init` function.\n",
    "\n",
    "Your database must include these things:\n",
    "- A class with at least four **attributes** (if not the cursor method)\n",
    "- Setters and getters for this class (if not the cursor method)\n",
    "- Each of the CRUD functions\n",
    "- An `init` function with at least four entries\n",
    "- A screenshot showing proof that your SQLite file has been created correctly\n",
    "\n",
    "Feel free to base your database on the model provided above! Ask our group if you have any questions or concerns."
   ]
  },
  {
   "cell_type": "code",
   "execution_count": 48,
   "metadata": {},
   "outputs": [],
   "source": [
    "import os, base64\n",
    "import json\n",
    "from sqlalchemy.exc import IntegrityError\n",
    "\n",
    "class Game(db.Model):\n",
    "    __tablename__ = 'games'  \n",
    "\n",
    "    id = db.Column(db.Integer, primary_key=True)\n",
    "    _name = db.Column(db.String(255), unique=False, nullable=False)\n",
    "    _score = db.Column(db.Integer, unique=False, nullable=False)\n",
    "    _wins = db.Column(db.Integer, unique=False, nullable=False)\n",
    "\n",
    "    def __init__(self, name, score, wins):\n",
    "        self._name = name\n",
    "        self._score = score\n",
    "        self._wins = wins\n",
    "\n",
    "    @property\n",
    "    def name(self):\n",
    "        return self._name\n",
    "    \n",
    "    @name.setter\n",
    "    def name(self, name):\n",
    "        self._name = name\n",
    "    \n",
    "    @property\n",
    "    def score(self):\n",
    "        return self._score\n",
    "    \n",
    "    @score.setter\n",
    "    def score(self, score):\n",
    "        self._score = score\n",
    "\n",
    "    @property\n",
    "    def wins(self):\n",
    "        return self._wins\n",
    "    \n",
    "    @wins.setter\n",
    "    def wins(self, wins):\n",
    "        self._wins = wins\n",
    "    \n",
    "    def __str__(self):\n",
    "        return json.dumps(self.read())\n",
    "\n",
    "    def create(self):\n",
    "        try:\n",
    "            db.session.add(self) \n",
    "            db.session.commit() \n",
    "            return self\n",
    "        except IntegrityError:\n",
    "            db.session.remove()\n",
    "            return None\n",
    "\n",
    "    def read(self):\n",
    "        return {\n",
    "            \"id\": self.id,\n",
    "            \"name\": self.name,\n",
    "            \"score\": self.score,\n",
    "            \"wins\": self.wins\n",
    "        }\n",
    "\n",
    "    def update(self, name, score, wins):\n",
    "        if len(name) > 0:\n",
    "            self.name = name\n",
    "        if score >= 0:\n",
    "            self.score = score\n",
    "        if wins >= 0:\n",
    "            self.wins = wins\n",
    "        db.session.commit()\n",
    "        return self\n",
    "\n",
    "    def delete(self):\n",
    "        db.session.delete(self)\n",
    "        db.session.commit()\n",
    "        return None\n",
    "\n",
    "\n",
    "\n",
    "def initGame():\n",
    "    with app.app_context():\n",
    "        db.create_all()\n",
    "        u1 = Game(name=\"Alice\", score=3, wins=1)\n",
    "        u2 = Game(name=\"Bob\", score=0, wins=0)\n",
    "        u3 = Game(name=\"Tim\", score=0, wins=0)\n",
    "        u4 = Game(name=\"Robert\", score=0, wins=0)\n",
    "\n",
    "        users = [u1, u2, u3, u4]\n",
    "\n",
    "        for user in users:\n",
    "            try:\n",
    "                user.create()\n",
    "                print(f'Created user with name \"{user.name}\".')\n",
    "            except IntegrityError:\n",
    "                db.session.remove()\n",
    "                print(f\"Records exist, duplicate email, or error: {user.name}\")"
   ]
  },
  {
   "cell_type": "code",
   "execution_count": 49,
   "metadata": {},
   "outputs": [],
   "source": [
    "import json\n",
    "from flask import Blueprint, request, jsonify\n",
    "from flask_restful import Api, Resource \n",
    "\n",
    "game_api = Blueprint('game_api', __name__,\n",
    "                   url_prefix='/api/games')\n",
    "\n",
    "api = Api(game_api)\n",
    "\n",
    "class GameAPI:        \n",
    "    class _Create(Resource): \n",
    "        def post(self):\n",
    "            body = request.get_json()\n",
    "            name = body.get('name')\n",
    "            if name is None or len(name) < 1:\n",
    "                return {'message': f'name is missing, or is less than a character'}, 400\n",
    "            score = body.get('score')\n",
    "            if score is None or score < 0:\n",
    "                return {'message': f'score is missing, or is less than 1'}, 400\n",
    "            win = body.get('win')\n",
    "            if win is None:\n",
    "                return {'message': f'win is missing'}, 400\n",
    "            uo = Game(name=name, \n",
    "                      score=score,\n",
    "                      win=win)\n",
    "            \n",
    "            user = uo.create()\n",
    "            if user:\n",
    "                return jsonify(user.read())\n",
    "            return {'message': f'Processed {name}, either a format error or a duplicate'}, 400\n",
    "    \n",
    "    class _Read(Resource):\n",
    "        def get(self):\n",
    "            users = Game.query.all()   \n",
    "            json_ready = [user.read() for user in users] \n",
    "            return jsonify(json_ready) \n",
    "\n",
    "    class _Update(Resource):\n",
    "        def put(self):\n",
    "            body = request.get_json() \n",
    "            id = body.get('id')\n",
    "            name = body.get('name')\n",
    "            score = body.get('score')\n",
    "            win = body.get('win')\n",
    "            user = Game.query.get(id)\n",
    "            user.update(name=name, score=score, win=win)\n",
    "            return f\"{user.read()} Updated\"\n",
    "\n",
    "    class _Delete(Resource):\n",
    "        def delete(self):\n",
    "            body = request.get_json()\n",
    "            id = body.get('id')\n",
    "            user = Game.query.get(id)\n",
    "            user.delete()\n",
    "            return f\"{user.read()} Has been deleted\"\n",
    "\n",
    "    api.add_resource(_Create, '/create')\n",
    "    api.add_resource(_Read, '/')\n",
    "    api.add_resource(_Update, '/update')\n",
    "    api.add_resource(_Delete, '/delete')"
   ]
  },
  {
   "cell_type": "code",
   "execution_count": 50,
   "metadata": {},
   "outputs": [
    {
     "name": "stdout",
     "output_type": "stream",
     "text": [
      "Created user with name \"Alice\".\n",
      "Created user with name \"Bob\".\n",
      "Created user with name \"Tim\".\n",
      "Created user with name \"Robert\".\n"
     ]
    }
   ],
   "source": [
    "initGame()"
   ]
  },
  {
   "cell_type": "markdown",
   "metadata": {},
   "source": [
    "# Grading\n",
    "\n",
    "Your submission will be graded based on the following criteria:\n",
    "- Filling in the blank throughout the lesson and providing code in the given cells when applicable (0.9)\n",
    "- Simulation homework (0.9)\n",
    "- Database homework (0.9)\n",
    "\n",
    "Here are some ideas for ways to increase your score above a 2.7:\n",
    "- Make a frontend version of your simulation that can be interacted with on your blog\n",
    "- Connect your simulation to the database you create - my database is connected to my simulation in that the database stores the scores and amount of wins a certain player has.\n",
    "- Create a menu that allows a user to make an entry in your database (CRUD functions within it)\n",
    "- You can establish a relationship between two classes/tables in your database (see the relationship between the User and Note classes in the Nighthawk Coders flask repository)"
   ]
  },
  {
   "attachments": {},
   "cell_type": "markdown",
   "metadata": {},
   "source": [
    "### Image\n",
    "\n",
    "![Games](images/games.png)"
   ]
  }
 ],
 "metadata": {
  "kernelspec": {
   "display_name": "Python 3.9.12 ('base')",
   "language": "python",
   "name": "python3"
  },
  "language_info": {
   "codemirror_mode": {
    "name": "ipython",
    "version": 3
   },
   "file_extension": ".py",
   "mimetype": "text/x-python",
   "name": "python",
   "nbconvert_exporter": "python",
   "pygments_lexer": "ipython3",
   "version": "3.9.12"
  },
  "orig_nbformat": 4,
  "vscode": {
   "interpreter": {
    "hash": "56f7c0ddbd8295fccb7b65a09bceb7bda050a1a7ed2857cec799e2d3d977289f"
   }
  }
 },
 "nbformat": 4,
 "nbformat_minor": 2
}
