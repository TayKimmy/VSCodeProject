{
 "cells": [
  {
   "cell_type": "markdown",
   "metadata": {},
   "source": [
    "# JavaScript Kernel Post\n",
    "> Using Jupyter JavaScript kernel\n",
    "\n",
    "- toc: true \n",
    "- badges: true\n",
    "- comments: true\n",
    "- categories: [jupyter, Week 7]"
   ]
  },
  {
   "cell_type": "markdown",
   "metadata": {},
   "source": [
    "### API\n",
    "This is an API of a random math problem generator. We could use these to create random quiz questions for people who save notes for math in our project."
   ]
  },
  {
   "cell_type": "code",
   "execution_count": 3,
   "metadata": {},
   "outputs": [
    {
     "name": "stdout",
     "output_type": "stream",
     "text": [
      "{\"title\":\"<h2>Risky moon<\\/h2>\",\"problem\":\"<div class=\\\"problem_content\\\" role=\\\"problem\\\">\\r\\n<p>\\nA moon could be described by the sphere $C(r)$ with centre $(0,0,0)$ and radius $r$. \\n<\\/p>\\n\\n<p>\\nThere are stations on the moon at the points on the surface of $C(r)$ with integer coordinates. The station at $(0,0,r)$ is called North Pole station, the station at $(0,0,-r)$ is called South Pole station.\\n<\\/p>\\n\\n<p>\\nAll stations are connected with each other via the shortest road on the great arc through the stations. A journey between two stations is risky. If <var>d<\\/var> is the length of the road between two stations, $\\\\left(\\\\frac{d}{\\\\pi r}\\\\right)^2$ is a measure for the risk of the journey (let us call it the risk of the road). If the journey includes more than two stations, the risk of the journey is the sum of risks of the used roads.\\n<\\/p>\\n\\n<p>\\nA direct journey from  the North Pole station to the South Pole station has the length $\\\\pi r$ and risk 1. The journey from the North Pole station to the South Pole station via $(0,r,0)$ has the same length, but a smaller risk:<\\/p>\\n\\\\[\\n\\\\left(\\\\frac{\\\\frac{1}{2}\\\\pi r}{\\\\pi r}\\\\right)^2+\\\\left(\\\\frac{\\\\frac{1}{2}\\\\pi r}{\\\\pi r}\\\\right)^2=0.5\\n\\\\]\\n\\n<p>\\nThe minimal risk of a journey from the North Pole station to the South Pole station on $C(r)$ is $M(r)$.\\n<\\/p>\\n\\n<p>\\nYou are given that $M(7)=0.1784943998$  rounded to 10 digits behind the decimal point. \\n<\\/p>\\n\\n<p>\\nFind $\\\\displaystyle{\\\\sum_{n=1}^{15}M(2^n-1)}$.\\n<\\/p>\\n\\n<p>\\nGive your answer rounded to 10 digits behind the decimal point in the form a.bcdefghijk.\\n<\\/p>\\n\\n\\n<\\/div>\"}\n",
      "{'title': '<h2>Risky moon</h2>', 'problem': '<div class=\"problem_content\" role=\"problem\">\\r\\n<p>\\nA moon could be described by the sphere $C(r)$ with centre $(0,0,0)$ and radius $r$. \\n</p>\\n\\n<p>\\nThere are stations on the moon at the points on the surface of $C(r)$ with integer coordinates. The station at $(0,0,r)$ is called North Pole station, the station at $(0,0,-r)$ is called South Pole station.\\n</p>\\n\\n<p>\\nAll stations are connected with each other via the shortest road on the great arc through the stations. A journey between two stations is risky. If <var>d</var> is the length of the road between two stations, $\\\\left(\\\\frac{d}{\\\\pi r}\\\\right)^2$ is a measure for the risk of the journey (let us call it the risk of the road). If the journey includes more than two stations, the risk of the journey is the sum of risks of the used roads.\\n</p>\\n\\n<p>\\nA direct journey from  the North Pole station to the South Pole station has the length $\\\\pi r$ and risk 1. The journey from the North Pole station to the South Pole station via $(0,r,0)$ has the same length, but a smaller risk:</p>\\n\\\\[\\n\\\\left(\\\\frac{\\\\frac{1}{2}\\\\pi r}{\\\\pi r}\\\\right)^2+\\\\left(\\\\frac{\\\\frac{1}{2}\\\\pi r}{\\\\pi r}\\\\right)^2=0.5\\n\\\\]\\n\\n<p>\\nThe minimal risk of a journey from the North Pole station to the South Pole station on $C(r)$ is $M(r)$.\\n</p>\\n\\n<p>\\nYou are given that $M(7)=0.1784943998$  rounded to 10 digits behind the decimal point. \\n</p>\\n\\n<p>\\nFind $\\\\displaystyle{\\\\sum_{n=1}^{15}M(2^n-1)}$.\\n</p>\\n\\n<p>\\nGive your answer rounded to 10 digits behind the decimal point in the form a.bcdefghijk.\\n</p>\\n\\n\\n</div>'}\n"
     ]
    }
   ],
   "source": [
    "import requests\n",
    "\n",
    "url = \"https://random-math-problem.p.rapidapi.com/random-problem\"\n",
    "\n",
    "querystring = {\"type\":\"html\"}\n",
    "\n",
    "headers = {\n",
    "\t\"X-RapidAPI-Key\": \"cd7cc895ddmshf60d83e19ae6edep1e28a3jsn7c5ab84381c7\",\n",
    "\t\"X-RapidAPI-Host\": \"random-math-problem.p.rapidapi.com\"\n",
    "}\n",
    "\n",
    "response = requests.request(\"GET\", url, headers=headers, params=querystring)\n",
    "\n",
    "print(response.text)\n",
    "print(response.json())"
   ]
  },
  {
   "cell_type": "markdown",
   "metadata": {},
   "source": [
    "### Questions\n",
    "Each random math problem has a title as well as the actual problem. They are both outputted using html, as seen through the use of ```<div>``` and ```<p>``` tags."
   ]
  },
  {
   "cell_type": "code",
   "execution_count": 7,
   "metadata": {},
   "outputs": [
    {
     "name": "stdout",
     "output_type": "stream",
     "text": [
      "title: \n",
      "<h2>Risky moon</h2>\n"
     ]
    }
   ],
   "source": [
    "title = response.json().get('title')\n",
    "problem = response.json().get('problem')\n",
    "\n",
    "print(\"title: \")\n",
    "print(title)"
   ]
  },
  {
   "cell_type": "code",
   "execution_count": 6,
   "metadata": {},
   "outputs": [
    {
     "name": "stdout",
     "output_type": "stream",
     "text": [
      "Problem: \n",
      "<div class=\"problem_content\" role=\"problem\">\n",
      "<p>\n",
      "A moon could be described by the sphere $C(r)$ with centre $(0,0,0)$ and radius $r$. \n",
      "</p>\n",
      "\n",
      "<p>\n",
      "There are stations on the moon at the points on the surface of $C(r)$ with integer coordinates. The station at $(0,0,r)$ is called North Pole station, the station at $(0,0,-r)$ is called South Pole station.\n",
      "</p>\n",
      "\n",
      "<p>\n",
      "All stations are connected with each other via the shortest road on the great arc through the stations. A journey between two stations is risky. If <var>d</var> is the length of the road between two stations, $\\left(\\frac{d}{\\pi r}\\right)^2$ is a measure for the risk of the journey (let us call it the risk of the road). If the journey includes more than two stations, the risk of the journey is the sum of risks of the used roads.\n",
      "</p>\n",
      "\n",
      "<p>\n",
      "A direct journey from  the North Pole station to the South Pole station has the length $\\pi r$ and risk 1. The journey from the North Pole station to the South Pole station via $(0,r,0)$ has the same length, but a smaller risk:</p>\n",
      "\\[\n",
      "\\left(\\frac{\\frac{1}{2}\\pi r}{\\pi r}\\right)^2+\\left(\\frac{\\frac{1}{2}\\pi r}{\\pi r}\\right)^2=0.5\n",
      "\\]\n",
      "\n",
      "<p>\n",
      "The minimal risk of a journey from the North Pole station to the South Pole station on $C(r)$ is $M(r)$.\n",
      "</p>\n",
      "\n",
      "<p>\n",
      "You are given that $M(7)=0.1784943998$  rounded to 10 digits behind the decimal point. \n",
      "</p>\n",
      "\n",
      "<p>\n",
      "Find $\\displaystyle{\\sum_{n=1}^{15}M(2^n-1)}$.\n",
      "</p>\n",
      "\n",
      "<p>\n",
      "Give your answer rounded to 10 digits behind the decimal point in the form a.bcdefghijk.\n",
      "</p>\n",
      "\n",
      "\n",
      "</div>\n"
     ]
    }
   ],
   "source": [
    "print(\"Problem: \")\n",
    "print(problem)"
   ]
  }
 ],
 "metadata": {
  "kernelspec": {
   "display_name": "Python 3.9.12 ('base')",
   "language": "python",
   "name": "python3"
  },
  "language_info": {
   "codemirror_mode": {
    "name": "ipython",
    "version": 3
   },
   "file_extension": ".py",
   "mimetype": "text/x-python",
   "name": "python",
   "nbconvert_exporter": "python",
   "pygments_lexer": "ipython3",
   "version": "3.9.12"
  },
  "orig_nbformat": 4,
  "vscode": {
   "interpreter": {
    "hash": "1b2d041746c7b3ba1eb0aacc992799c1dfdaf7cc8fa7dfef2e90211c0a9fde58"
   }
  }
 },
 "nbformat": 4,
 "nbformat_minor": 2
}
