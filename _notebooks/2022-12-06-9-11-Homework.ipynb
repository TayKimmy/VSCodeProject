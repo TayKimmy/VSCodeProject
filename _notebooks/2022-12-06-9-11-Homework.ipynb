{
 "cells": [
  {
   "cell_type": "markdown",
   "metadata": {},
   "source": [
    "# Unit 3 Sections 9 and 11 Challenge and Homework\n",
    "\n",
    "- toc: true \n",
    "- badges: true\n",
    "- comments: true"
   ]
  },
  {
   "cell_type": "markdown",
   "metadata": {},
   "source": [
    "### Homework\n",
    "Create an algorithm that will start with any positive integer n and display the full sequence of numbers that result from the Collatz Conjecture. The COllatz Conjecture is as follows:\n",
    "1. start with any positive integer\n",
    "2. if the number is even, divide by 2\n",
    "3. if the number is odd, multiply by 3 and add 1\n",
    "4. repeat steps 2 and 3 until you reach 1\n",
    "\n",
    "Example: if the starting number was 6, the output would be 6, 3, 10, 5, 16, 8, 4, 2, 1"
   ]
  },
  {
   "cell_type": "code",
   "execution_count": null,
   "metadata": {},
   "outputs": [],
   "source": []
  },
  {
   "cell_type": "markdown",
   "metadata": {},
   "source": [
    "Problem: Given a specific integer N, return the square root of N (R) if N is a perfect square, otherwise, return the square root of N rounded down to the nearest integer\n",
    "\n",
    "Input: N (Integer)\n",
    "\n",
    "Output: R (Integer)\n",
    "\n",
    "Constraints: Do not use any built-in math operations such as ```sqrt(x)``` or ```x**(0.5)```, Try complete the problem in logarithmic time.\n",
    "\n",
    "Hint 1: Maybe you can use Binary Search to try and reduce the number of checks you have to perform?\n",
    "\n",
    "Hint 2: Is there a mathematical pattern amongst numbers and their square roots that could help you reduce the number of searches or iterations you must execute? Is there some value or rule you can set before applying binary search to narrow the range of possible values?\n",
    "\n",
    "Run the very last code segment below to load test cases and submission function"
   ]
  },
  {
   "cell_type": "code",
   "execution_count": 7,
   "metadata": {},
   "outputs": [],
   "source": [
    "def sqrt(N):\n",
    "     \n",
    "    # Write your code here\n",
    "    "
   ]
  },
  {
   "cell_type": "code",
   "execution_count": 8,
   "metadata": {},
   "outputs": [
    {
     "ename": "TypeError",
     "evalue": "'int' object is not iterable",
     "output_type": "error",
     "traceback": [
      "\u001b[0;31m---------------------------------------------------------------------------\u001b[0m",
      "\u001b[0;31mTypeError\u001b[0m                                 Traceback (most recent call last)",
      "\u001b[1;32m/home/taykim/vscode/VSCodeProject/_notebooks/2022-12-06-9-11-Homework.ipynb Cell 6\u001b[0m in \u001b[0;36m<cell line: 12>\u001b[0;34m()\u001b[0m\n\u001b[1;32m      <a href='vscode-notebook-cell://wsl%2Bubuntu/home/taykim/vscode/VSCodeProject/_notebooks/2022-12-06-9-11-Homework.ipynb#X10sdnNjb2RlLXJlbW90ZQ%3D%3D?line=8'>9</a>\u001b[0m         \u001b[39melse\u001b[39;00m:\n\u001b[1;32m     <a href='vscode-notebook-cell://wsl%2Bubuntu/home/taykim/vscode/VSCodeProject/_notebooks/2022-12-06-9-11-Homework.ipynb#X10sdnNjb2RlLXJlbW90ZQ%3D%3D?line=9'>10</a>\u001b[0m             \u001b[39mprint\u001b[39m(\u001b[39m\"\u001b[39m\u001b[39mCheck number \u001b[39m\u001b[39m{}\u001b[39;00m\u001b[39m failed\u001b[39m\u001b[39m\"\u001b[39m\u001b[39m.\u001b[39mformat(i\u001b[39m+\u001b[39m\u001b[39m1\u001b[39m))\n\u001b[0;32m---> <a href='vscode-notebook-cell://wsl%2Bubuntu/home/taykim/vscode/VSCodeProject/_notebooks/2022-12-06-9-11-Homework.ipynb#X10sdnNjb2RlLXJlbW90ZQ%3D%3D?line=11'>12</a>\u001b[0m checkValid()\n",
      "\u001b[1;32m/home/taykim/vscode/VSCodeProject/_notebooks/2022-12-06-9-11-Homework.ipynb Cell 6\u001b[0m in \u001b[0;36mcheckValid\u001b[0;34m()\u001b[0m\n\u001b[1;32m      <a href='vscode-notebook-cell://wsl%2Bubuntu/home/taykim/vscode/VSCodeProject/_notebooks/2022-12-06-9-11-Homework.ipynb#X10sdnNjb2RlLXJlbW90ZQ%3D%3D?line=4'>5</a>\u001b[0m \u001b[39mdef\u001b[39;00m \u001b[39mcheckValid\u001b[39m():\n\u001b[1;32m      <a href='vscode-notebook-cell://wsl%2Bubuntu/home/taykim/vscode/VSCodeProject/_notebooks/2022-12-06-9-11-Homework.ipynb#X10sdnNjb2RlLXJlbW90ZQ%3D%3D?line=5'>6</a>\u001b[0m     \u001b[39mfor\u001b[39;00m i \u001b[39min\u001b[39;00m \u001b[39mrange\u001b[39m(\u001b[39mlen\u001b[39m(test_cases)):\n\u001b[0;32m----> <a href='vscode-notebook-cell://wsl%2Bubuntu/home/taykim/vscode/VSCodeProject/_notebooks/2022-12-06-9-11-Homework.ipynb#X10sdnNjb2RlLXJlbW90ZQ%3D%3D?line=6'>7</a>\u001b[0m         \u001b[39mif\u001b[39;00m sqrt(test_cases[i]) \u001b[39m==\u001b[39m answers[i]:\n\u001b[1;32m      <a href='vscode-notebook-cell://wsl%2Bubuntu/home/taykim/vscode/VSCodeProject/_notebooks/2022-12-06-9-11-Homework.ipynb#X10sdnNjb2RlLXJlbW90ZQ%3D%3D?line=7'>8</a>\u001b[0m             \u001b[39mprint\u001b[39m(\u001b[39m\"\u001b[39m\u001b[39mCheck number \u001b[39m\u001b[39m{}\u001b[39;00m\u001b[39m passed\u001b[39m\u001b[39m\"\u001b[39m\u001b[39m.\u001b[39mformat(i\u001b[39m+\u001b[39m\u001b[39m1\u001b[39m))\n\u001b[1;32m      <a href='vscode-notebook-cell://wsl%2Bubuntu/home/taykim/vscode/VSCodeProject/_notebooks/2022-12-06-9-11-Homework.ipynb#X10sdnNjb2RlLXJlbW90ZQ%3D%3D?line=8'>9</a>\u001b[0m         \u001b[39melse\u001b[39;00m:\n",
      "\u001b[1;32m/home/taykim/vscode/VSCodeProject/_notebooks/2022-12-06-9-11-Homework.ipynb Cell 6\u001b[0m in \u001b[0;36msqrt\u001b[0;34m(N)\u001b[0m\n\u001b[1;32m      <a href='vscode-notebook-cell://wsl%2Bubuntu/home/taykim/vscode/VSCodeProject/_notebooks/2022-12-06-9-11-Homework.ipynb#X10sdnNjb2RlLXJlbW90ZQ%3D%3D?line=1'>2</a>\u001b[0m \u001b[39mdef\u001b[39;00m \u001b[39msqrt\u001b[39m(N):\n\u001b[0;32m----> <a href='vscode-notebook-cell://wsl%2Bubuntu/home/taykim/vscode/VSCodeProject/_notebooks/2022-12-06-9-11-Homework.ipynb#X10sdnNjb2RlLXJlbW90ZQ%3D%3D?line=2'>3</a>\u001b[0m      wer \u001b[39m=\u001b[39m [\u001b[39mint\u001b[39m(sq(x)) \u001b[39mfor\u001b[39;00m x \u001b[39min\u001b[39;00m N]\n\u001b[1;32m      <a href='vscode-notebook-cell://wsl%2Bubuntu/home/taykim/vscode/VSCodeProject/_notebooks/2022-12-06-9-11-Homework.ipynb#X10sdnNjb2RlLXJlbW90ZQ%3D%3D?line=3'>4</a>\u001b[0m      \u001b[39mreturn\u001b[39;00m wer\n",
      "\u001b[0;31mTypeError\u001b[0m: 'int' object is not iterable"
     ]
    }
   ],
   "source": [
    "from math import sqrt as sq\n",
    "test_cases = [0,1,4,85248289,22297284,18939904,91107025,69122596,9721924,37810201,1893294144,8722812816,644398225]\n",
    "answers = [int(sq(x)) for x in test_cases]\n",
    "\n",
    "def checkValid():\n",
    "    for i in range(len(test_cases)):\n",
    "        if sqrt(test_cases[i]) == answers[i]:\n",
    "            print(\"Check number {} passed\".format(i+1))\n",
    "        else:\n",
    "            print(\"Check number {} failed\".format(i+1))\n",
    "\n",
    "checkValid()"
   ]
  }
 ],
 "metadata": {
  "kernelspec": {
   "display_name": "Python 3.8.10 64-bit",
   "language": "python",
   "name": "python3"
  },
  "language_info": {
   "codemirror_mode": {
    "name": "ipython",
    "version": 3
   },
   "file_extension": ".py",
   "mimetype": "text/x-python",
   "name": "python",
   "nbconvert_exporter": "python",
   "pygments_lexer": "ipython3",
   "version": "3.8.10"
  },
  "orig_nbformat": 4,
  "vscode": {
   "interpreter": {
    "hash": "916dbcbb3f70747c44a77c7bcd40155683ae19c65e1c03b4aa3499c5328201f1"
   }
  }
 },
 "nbformat": 4,
 "nbformat_minor": 2
}
