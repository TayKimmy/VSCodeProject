{
 "cells": [
  {
   "cell_type": "markdown",
   "metadata": {},
   "source": [
    "# Jokes API Javascript\n",
    "> Describing use of Javascript code in API and finding similarities\n",
    "\n",
    "- toc: true \n",
    "- badges: true\n",
    "- comments: true\n",
    "- categories: [jupyter, Week 9]"
   ]
  },
  {
   "cell_type": "markdown",
   "metadata": {},
   "source": [
    "## Hacks\n"
   ]
  },
  {
   "cell_type": "markdown",
   "metadata": {},
   "source": [
    "\n",
    "### Similarities\n",
    "There are some similarities that I see with the Javascript in the Jokes API:\n",
    "- They all have similar syntax with each other\n",
    "- All connect to the table made using HTML code\n",
    "- Use a lot of ```.json``` and ```.log```\n",
    "- Use ```fetch``` a lot as well as ```if``` and ```else``` statements\n",
    "- Make use of functions to check and run things\n",
    "- Use ```onclick``` to run a function each time an action occurs\n",
    "- All do different things using the same API\n"
   ]
  },
  {
   "cell_type": "markdown",
   "metadata": {},
   "source": [
    "### Breaking up the code for Covid API"
   ]
  },
  {
   "cell_type": "markdown",
   "metadata": {},
   "source": [
    "The code below makes a table using HTML code and makes 4 columns titled ```Time```, ```All-time Cases```, ```Recorded Deaths```, and ```Active Cases```.\n",
    "It also makes an id for each row under those 4 columns with the id name the same as its column name."
   ]
  },
  {
   "cell_type": "code",
   "execution_count": null,
   "metadata": {
    "vscode": {
     "languageId": "html"
    }
   },
   "outputs": [],
   "source": [
    "<!-- HTML table fragment for page -->\n",
    "<table>\n",
    "  <thead>\n",
    "  <tr>\n",
    "    <th>Time</th>\n",
    "    <th>All-time Cases</th>\n",
    "    <th>Recorded Deaths</th>\n",
    "    <th>Active Cases</th>\n",
    "  </tr>\n",
    "  </thead>\n",
    "  <tbody>\n",
    "    <td id=\"time\"></td>\n",
    "    <td id=\"total_cases\"></td>\n",
    "    <td id=\"total_deaths\"></td>\n",
    "    <td id=\"active_cases\"></td>\n",
    "  </tbody>\n",
    "</table>"
   ]
  },
  {
   "cell_type": "markdown",
   "metadata": {},
   "source": [
    "The code below also uses HTML code to output a table with the same columns and titles as the code above. But, this one has a different id with the id name equal to \"result\"."
   ]
  },
  {
   "cell_type": "code",
   "execution_count": null,
   "metadata": {
    "vscode": {
     "languageId": "html"
    }
   },
   "outputs": [],
   "source": [
    "<table>\n",
    "    <thead>\n",
    "    <tr>\n",
    "      <th>Country</th>\n",
    "      <th>All-time Cases</th>\n",
    "      <th>Recorded Deaths</th>\n",
    "      <th>Active Cases</th>\n",
    "    </tr>\n",
    "    </thead>\n",
    "    <tbody id=\"result\">\n",
    "      <!-- generated rows -->\n",
    "    </tbody>\n",
    "  </table>"
   ]
  },
  {
   "cell_type": "markdown",
   "metadata": {},
   "source": [
    "The code below uses the link to the API to extract specific variables and then output them in the \"result\" section in the HTML table. It also makes headers."
   ]
  },
  {
   "cell_type": "code",
   "execution_count": null,
   "metadata": {
    "vscode": {
     "languageId": "html"
    }
   },
   "outputs": [],
   "source": [
    "<!-- Script is layed out in a sequence (no function) and will execute when page is loaded -->\n",
    "<script>\n",
    "    // prepare HTML result container for new output\n",
    "    const resultContainer = document.getElementById(\"result\");\n",
    "  \n",
    "    // prepare fetch options\n",
    "    const url = \"https://flask.nighthawkcodingsociety.com/api/covid/\";\n",
    "    const headers = {\n",
    "      method: 'GET', // *GET, POST, PUT, DELETE, etc.\n",
    "      mode: 'cors', // no-cors, *cors, same-origin\n",
    "      cache: 'default', // *default, no-cache, reload, force-cache, only-if-cached\n",
    "      credentials: 'omit', // include, *same-origin, omit\n",
    "      headers: {\n",
    "        'Content-Type': 'application/json'\n",
    "        // 'Content-Type': 'application/x-www-form-urlencoded',\n",
    "      },\n",
    "    };"
   ]
  },
  {
   "cell_type": "markdown",
   "metadata": {},
   "source": [
    "The code below fetches the url and headers made in the segment of code presented above. The code checks for any response errors in those headers uding an if statement and if there is none, those elements are appended to the HTML table. The responses are also outputted using JSON data."
   ]
  },
  {
   "cell_type": "code",
   "execution_count": null,
   "metadata": {
    "vscode": {
     "languageId": "javascript"
    }
   },
   "outputs": [],
   "source": [
    "// fetch the API\n",
    "  fetch(url, headers)\n",
    "    // response is a RESTful \"promise\" on any successful fetch\n",
    "    .then(response => {\n",
    "      // check for response errors\n",
    "      if (response.status !== 200) {\n",
    "          const errorMsg = 'Database response error: ' + response.status;\n",
    "          console.log(errorMsg);\n",
    "          const tr = document.createElement(\"tr\");\n",
    "          const td = document.createElement(\"td\");\n",
    "          td.innerHTML = errorMsg;\n",
    "          tr.appendChild(td);\n",
    "          resultContainer.appendChild(tr);\n",
    "          return;\n",
    "      }\n",
    "      // valid response will have json data\n",
    "      response.json().then(data => {\n",
    "          console.log(data);\n",
    "          console.log(data.world_total)"
   ]
  },
  {
   "cell_type": "markdown",
   "metadata": {},
   "source": [
    "The code below gets all the data specific to the API such as World Data, Country Data, and then are appended to the HTML table. This is achieved through the ```getElementById```. They are appended to their respective row based on whater their data is about. The code also checks for fetch errors and then appends to the table again."
   ]
  },
  {
   "cell_type": "code",
   "execution_count": null,
   "metadata": {
    "vscode": {
     "languageId": "javascript"
    }
   },
   "outputs": [],
   "source": [
    "  // World Data\n",
    "  document.getElementById(\"time\").innerHTML = data.world_total.statistic_taken_at;\n",
    "  document.getElementById(\"total_cases\").innerHTML = data.world_total.total_cases;\n",
    "  document.getElementById(\"total_deaths\").innerHTML = data.world_total.total_deaths;\n",
    "  document.getElementById(\"active_cases\").innerHTML = data.world_total.active_cases;\n",
    "\n",
    "  // Country data\n",
    "  for (const row of data.countries_stat) {\n",
    "    console.log(row);\n",
    "\n",
    "    // tr for each row\n",
    "    const tr = document.createElement(\"tr\");\n",
    "    // td for each column\n",
    "    const name = document.createElement(\"td\");\n",
    "    const cases = document.createElement(\"td\");\n",
    "    const deaths = document.createElement(\"td\");\n",
    "    const active = document.createElement(\"td\");\n",
    "\n",
    "    // data is specific to the API\n",
    "    name.innerHTML = row.country_name;\n",
    "    cases.innerHTML = row.cases; \n",
    "    deaths.innerHTML = row.deaths; \n",
    "    active.innerHTML = row.active_cases; \n",
    "\n",
    "    // this builds td's into tr\n",
    "    tr.appendChild(name);\n",
    "    tr.appendChild(cases);\n",
    "    tr.appendChild(deaths);\n",
    "    tr.appendChild(active);\n",
    "\n",
    "    // add HTML to container\n",
    "    resultContainer.appendChild(tr);\n",
    "  }\n",
    "})\n",
    "})\n",
    "// catch fetch errors (ie ACCESS to server blocked)\n",
    ".catch(err => {\n",
    "console.error(err);\n",
    "const tr = document.createElement(\"tr\");\n",
    "const td = document.createElement(\"td\");\n",
    "td.innerHTML = err;\n",
    "tr.appendChild(td);\n",
    "resultContainer.appendChild(tr);\n",
    "});\n",
    "</script>"
   ]
  }
 ],
 "metadata": {
  "kernelspec": {
   "display_name": "Python 3.9.12 ('base')",
   "language": "python",
   "name": "python3"
  },
  "language_info": {
   "name": "python",
   "version": "3.9.12"
  },
  "orig_nbformat": 4,
  "vscode": {
   "interpreter": {
    "hash": "1b2d041746c7b3ba1eb0aacc992799c1dfdaf7cc8fa7dfef2e90211c0a9fde58"
   }
  }
 },
 "nbformat": 4,
 "nbformat_minor": 2
}
