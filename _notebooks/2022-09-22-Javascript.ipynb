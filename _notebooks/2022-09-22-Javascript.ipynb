{
 "cells": [
  {
   "cell_type": "markdown",
   "metadata": {},
   "source": [
    "# JavaScript Kernel Post\n",
    "> Using Jupyter JavaScript kernel\n",
    "\n",
    "- toc: true \n",
    "- badges: true\n",
    "- comments: true\n",
    "- categories: [jupyter, Week 5]"
   ]
  },
  {
   "cell_type": "markdown",
   "metadata": {},
   "source": [
    "## JavaScript Code\n",
    "The codes below all use the JavaScript language in order to perform something."
   ]
  },
  {
   "cell_type": "markdown",
   "metadata": {},
   "source": [
    "### Function\n",
    "This code defines a function and takes 2 numbers as a parameter and returns the product of the 2 numbers."
   ]
  },
  {
   "cell_type": "code",
   "execution_count": 21,
   "metadata": {},
   "outputs": [
    {
     "data": {
      "text/plain": [
       "625"
      ]
     },
     "execution_count": 21,
     "metadata": {},
     "output_type": "execute_result"
    }
   ],
   "source": [
    "function myFunction(a, b) {\n",
    "  return a * b;\n",
    "}\n",
    "myFunction(125,5)"
   ]
  },
  {
   "cell_type": "markdown",
   "metadata": {},
   "source": [
    "### Temperature\n",
    "The code below takes an integer input that we assume is the degrees in Fahrenheit and then determines the code in Celsius."
   ]
  },
  {
   "cell_type": "code",
   "execution_count": 19,
   "metadata": {},
   "outputs": [
    {
     "data": {
      "text/plain": [
       "32.22222222222222"
      ]
     },
     "execution_count": 19,
     "metadata": {},
     "output_type": "execute_result"
    }
   ],
   "source": [
    "function toCelsius(fahrenheit) {\n",
    "    return (5/9) * (fahrenheit-32);\n",
    "  }\n",
    "\n",
    "toCelsius(0)"
   ]
  },
  {
   "cell_type": "markdown",
   "metadata": {},
   "source": [
    "### Even/Odd Number\n",
    "This code contains a function that takes one number as the parameter. Then, it determines if the number is even or odd based on the remainer when divided by 2."
   ]
  },
  {
   "cell_type": "code",
   "execution_count": 39,
   "metadata": {},
   "outputs": [
    {
     "name": "stdout",
     "output_type": "stream",
     "text": [
      "24 is an even number\n"
     ]
    }
   ],
   "source": [
    "function IsOdd(x){\n",
    "if (x % 2 == 0) {\n",
    "    console.log(x + \" is an even number\");\n",
    "}  else {\n",
    "   console.log(x + \" is an odd number\");\n",
    "}\n",
    "\n",
    "}\n",
    "IsOdd(24)"
   ]
  },
  {
   "cell_type": "markdown",
   "metadata": {},
   "source": [
    "### Time\n",
    "This code contains a function that takes one number as the parameter and we assume it to be the number of hours. Then, the code determines many days, minutes, and seconds those hours are equivalent to."
   ]
  },
  {
   "cell_type": "code",
   "execution_count": 42,
   "metadata": {},
   "outputs": [
    {
     "name": "stdout",
     "output_type": "stream",
     "text": [
      "48 hour(s) is equivalent to 2 days, 2880 minutes, and 172800 seconds.\n"
     ]
    }
   ],
   "source": [
    "function DaysHoursMinutesSeconds(x){\n",
    "    console.log(x + \" hour(s) is equivalent to \" + x/24 + \" days, \" + x*60 + \" minutes, and \" + x*3600 + \" seconds.\")\n",
    "}\n",
    "DaysHoursMinutesSeconds(48)"
   ]
  }
 ],
 "metadata": {
  "kernelspec": {
   "display_name": "JavaScript (Node.js)",
   "language": "javascript",
   "name": "javascript"
  },
  "language_info": {
   "file_extension": ".js",
   "mimetype": "application/javascript",
   "name": "javascript",
   "version": "6.11.2"
  },
  "orig_nbformat": 4,
  "vscode": {
   "interpreter": {
    "hash": "1b2d041746c7b3ba1eb0aacc992799c1dfdaf7cc8fa7dfef2e90211c0a9fde58"
   }
  }
 },
 "nbformat": 4,
 "nbformat_minor": 2
}
