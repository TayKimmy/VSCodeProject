{
 "cells": [
  {
   "cell_type": "markdown",
   "metadata": {},
   "source": [
    "# Collegeboard Performance Task Post\n",
    "> Thinking of ideas for the performance task and comparing it to the rubric.\n",
    "\n",
    "- toc: true \n",
    "- badges: true\n",
    "- comments: true\n",
    "- categories: [jupyter, Week 3]"
   ]
  },
  {
   "cell_type": "markdown",
   "metadata": {},
   "source": [
    "## Some Ideas For the Projects\n",
    "- A pac man game that saves the scores of each player and displays a ranking board for the scores.\n",
    "- A random quiz generator. Save notes in the website and the alogrithm uses the notes to genrate questions for a quiz. The quiz is then scored and the topics missied are highlighted*\n",
    "\n",
    "## Collegeboard Requirements\n",
    "\n",
    "### Program Purpose and Function\n",
    "The purpose of the program is to randomly generate questions based on a user's notes of key terms/dates/ideas and definitions. The program will take the user's notes and, based on it, select the key terms and output multiple quiz questions which will be displayed randomly. It will score the quiz and tell you what you got wrong and what you need to study on.\n",
    "\n",
    "### Data Abstraction\n",
    "The program will contain lists and dictionaries. Every key term will have a definition and these will be stored in a dictionary which will be stored in a list. Or they will be stored in a local database and we will use the objects in the database to create the quiz.\n",
    "\n",
    "### Managing Complexity\n",
    "The dictionaries and databases will manage the complexity of the program by organizing the data inputted by the user. It will also help calling back to create the quiz.\n",
    "\n",
    "### Procedural Abstraction\n",
    "A function will be created to call back to the data inputted by the user. The function will iterate over the dictionary/database and use the values in them as a parameter to make a quiz.\n",
    "\n",
    "### Algorithm Implementation\n",
    "Like stated before, the program will contain a function that uses iteration and sequencing to make a quiz based off the data inputted by the user that is saved in a database or dictionary.\n",
    "\n",
    "### Testing\n",
    "The function will be called each time the user inputs a note and each time the user generates a quiz. When the user inputs a note, the function is called and saves the note inside a dictionary or database. When the user presses the button that generates the quiz, the function is again called and iterates through the user's notes to generate a quiz that is related to the key terms the user inputted."
   ]
  }
 ],
 "metadata": {
  "kernelspec": {
   "display_name": "Python 3.8.10 64-bit",
   "language": "python",
   "name": "python3"
  },
  "language_info": {
   "name": "python",
   "version": "3.8.10"
  },
  "orig_nbformat": 4,
  "vscode": {
   "interpreter": {
    "hash": "916dbcbb3f70747c44a77c7bcd40155683ae19c65e1c03b4aa3499c5328201f1"
   }
  }
 },
 "nbformat": 4,
 "nbformat_minor": 2
}
