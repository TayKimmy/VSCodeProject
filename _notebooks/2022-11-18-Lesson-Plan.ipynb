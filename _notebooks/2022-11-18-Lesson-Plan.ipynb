{
 "cells": [
  {
   "cell_type": "markdown",
   "metadata": {},
   "source": [
    "# Lesson Plan\n",
    "> The lesson plan for our lesson on variables\n",
    "\n",
    "- toc: true \n",
    "- badges: true\n",
    "- comments: true\n",
    "- categories: [jupyter, Week 13]\n",
    "- type: pbl"
   ]
  },
  {
   "cell_type": "markdown",
   "metadata": {},
   "source": [
    "To define a variable in python, just type in the variable name - one word - and use the ```=``` sign to set it equal to it's value. A variable can be defined using numbers, string, list, or boolean. Strings must have quotations around it and lists must be surrounded by square brackets. Once you have defined a variable, you can do many functions and conditions with it, including the ```print()``` statement.\n"
   ]
  },
  {
   "cell_type": "code",
   "execution_count": 9,
   "metadata": {},
   "outputs": [
    {
     "name": "stdout",
     "output_type": "stream",
     "text": [
      "25\n",
      "word\n",
      "[1, 2, 3, 4, 5]\n",
      "['a', 'b', 'c', 'd', 'e']\n",
      "False\n"
     ]
    }
   ],
   "source": [
    "\n",
    "#defining all the variables using the equal sign\n",
    "numbervariable = 25\n",
    "stringvariable = \"word\"\n",
    "numberlist = [1, 2, 3, 4, 5]\n",
    "stringlist = [\"a\", \"b\", \"c\", \"d\", \"e\"]\n",
    "israining = False\n",
    "\n",
    "#printing all the defined variables\n",
    "print(numbervariable)\n",
    "print(stringvariable)\n",
    "print(numberlist)\n",
    "print(stringlist)\n",
    "print(israining)"
   ]
  },
  {
   "cell_type": "markdown",
   "metadata": {},
   "source": [
    "Once a variable is defined using a numerical value, mathematical expressions can also be performed on the variable.\n"
   ]
  },
  {
   "cell_type": "code",
   "execution_count": 3,
   "metadata": {},
   "outputs": [
    {
     "name": "stdout",
     "output_type": "stream",
     "text": [
      "10\n",
      "10\n"
     ]
    }
   ],
   "source": [
    "number = 5  #defining the variable number\n",
    "x = number * 2  #defining a variable by using another variable\n",
    "print(number*2)  # multiplying a variable by 2\n",
    "print(x)"
   ]
  },
  {
   "cell_type": "markdown",
   "metadata": {},
   "source": [
    "Once a list is defined, many functions can be performed, such as the ```append()``` function.\n"
   ]
  },
  {
   "cell_type": "code",
   "execution_count": 4,
   "metadata": {},
   "outputs": [
    {
     "name": "stdout",
     "output_type": "stream",
     "text": [
      "['cookies']\n"
     ]
    }
   ],
   "source": [
    "list = []\n",
    "list.append(\"cookies\")  # appending a value to a defined list\n",
    "print(list)"
   ]
  },
  {
   "cell_type": "markdown",
   "metadata": {},
   "source": [
    "A dictionary can also be defined using curly brackets and the equal sign. To input keys and values into a dictionary, you have to use a slightly different approach than lists.\n"
   ]
  },
  {
   "cell_type": "code",
   "execution_count": 7,
   "metadata": {},
   "outputs": [
    {
     "name": "stdout",
     "output_type": "stream",
     "text": [
      "{'ice cream': 'dessert', 'banana': 'fruit'}\n"
     ]
    }
   ],
   "source": [
    "mydict = {\"ice cream\":\"dairy\"}  # defining dictionary using curly brackets\n",
    "mydict[\"banana\"] = \"fruit\"   #add keys and values to a dict by setting a value equal to a key, like shown\n",
    "mydict[\"ice cream\"] = \"dessert\"  #editing a value inside the dictionary\n",
    "print(mydict)\n"
   ]
  },
  {
   "cell_type": "markdown",
   "metadata": {},
   "source": [
    "You can also interchange variables by using a temporary variable. In the code below, temp is the temporary variables, and var 1 and var 2 will have their values swapped. This code also works with integers, not just strings.\n"
   ]
  },
  {
   "cell_type": "code",
   "execution_count": null,
   "metadata": {},
   "outputs": [],
   "source": [
    "var1 = \"word\"  # defining first variable\n",
    "var2 = \"number\"  # defining second variable\n",
    "temp = var1   # defining temporary variable using the first variable\n",
    "var1 = var2   # changing the first variable value as the second variable value\n",
    "var2 = temp   # changing the second variable value to the first variable value"
   ]
  },
  {
   "cell_type": "markdown",
   "metadata": {},
   "source": [
    "Variables can also be defined using float data types, instead of just int types, but are used the exact same way. The same mathematical functions also apply.\n"
   ]
  },
  {
   "cell_type": "code",
   "execution_count": 13,
   "metadata": {},
   "outputs": [
    {
     "name": "stdout",
     "output_type": "stream",
     "text": [
      "20.3\n",
      "2.0300000000000002\n",
      "40.6\n",
      "82.418\n"
     ]
    }
   ],
   "source": [
    "number = 20.3   #defining a variable usinbg float\n",
    "x = number/10   #defining second variable \n",
    "y = number*2   # defining third variable\n",
    "print(number)   # printing first variable\n",
    "print(x)   #printing second variable\n",
    "print(y)   # printing third variable\n",
    "print(x*y)   #printing the second and third variables multiplied"
   ]
  },
  {
   "cell_type": "markdown",
   "metadata": {},
   "source": [
    "The function below takes in a parameter, x, and determines if x is even or odd. Variables can be used within functions to perform a certain task, which in this case, is to determine even or odd. To define a function, use the variable ```def``` and use a colon. Make sure there are parenthesis next to the function name, even if the function doesn't tkae in any parameters.\n"
   ]
  },
  {
   "cell_type": "code",
   "execution_count": 23,
   "metadata": {},
   "outputs": [
    {
     "name": "stdout",
     "output_type": "stream",
     "text": [
      "True\n",
      "False\n",
      "False\n",
      "True\n"
     ]
    }
   ],
   "source": [
    "def IsEven(x):   # define the function\n",
    "    if x % 2 == 0:   # % variable returns the remainder of division\n",
    "    # use double equal signs when determining if a value is equal to another value\n",
    "        return True\n",
    "    if x % 2 != 0:   # the != means not equal to\n",
    "        return False\n",
    "\n",
    "#printing the values outputted by the function multiple times\n",
    "print(IsEven(24))\n",
    "print(IsEven(7))\n",
    "print(IsEven(19))\n",
    "print(IsEven(30))"
   ]
  }
 ],
 "metadata": {
  "kernelspec": {
   "display_name": "Python 3.9.12 ('base')",
   "language": "python",
   "name": "python3"
  },
  "language_info": {
   "codemirror_mode": {
    "name": "ipython",
    "version": 3
   },
   "file_extension": ".py",
   "mimetype": "text/x-python",
   "name": "python",
   "nbconvert_exporter": "python",
   "pygments_lexer": "ipython3",
   "version": "3.9.12"
  },
  "orig_nbformat": 4,
  "vscode": {
   "interpreter": {
    "hash": "1b2d041746c7b3ba1eb0aacc992799c1dfdaf7cc8fa7dfef2e90211c0a9fde58"
   }
  }
 },
 "nbformat": 4,
 "nbformat_minor": 2
}
