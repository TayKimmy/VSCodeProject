{
 "cells": [
  {
   "attachments": {},
   "cell_type": "markdown",
   "metadata": {},
   "source": [
    "#  Data Structures- Hashmaps, Sets, Hash Tables, Hashing and Collisions\n",
    "> Observing hashmaps with python dictionaries\n",
    "- toc: true\n",
    "- categories: [jupyter, Week 28]\n"
   ]
  },
  {
   "attachments": {},
   "cell_type": "markdown",
   "metadata": {},
   "source": [
    "## What is a Hashtable/Hashmap?\n",
    "\n",
    "> A hashtable is a data structure that with a collection of key-value pairs, where each key maps to a value, and the keys must be unique and hashable.\n",
    "\n",
    "- In Python there is a built in hashtable known as a dictionary.\n",
    "\n",
    "> The primary purpose of a hashtable is to provide efficient lookup, insertion, and deletion operations. When an element is to be inserted into the hashtable, a hash function is used to map the key to a specific index in the underlying array that is used to store the key-value pairs. The value is then stored at that index. When searching for a value, the hash function is used again to find the index where the value is stored.\n",
    "\n",
    "> The key advantage of a hashtable over other data structures like arrays and linked lists is its average-case time complexity for lookup, insertion, and deletion operations.\n",
    "\n",
    "- The typical time complexity of a hashtable is O(1), or constant time. \n"
   ]
  },
  {
   "attachments": {},
   "cell_type": "markdown",
   "metadata": {},
   "source": [
    "## What is Hashing and Collision?\n",
    "\n",
    "> Hashing is the process of mapping a given key to a value in a hash table or hashmap, using a hash function. The hash function takes the key as input and produces a hash value or hash code, which is then used to determine the index in the underlying array where the value is stored. The purpose of hashing is to provide a quick and efficient way to access data, by eliminating the need to search through an entire data structure to find a value.\n",
    "\n",
    "> However, it is possible for two different keys to map to the same hash value, resulting in a collision. When a collision occurs, there are different ways to resolve it, depending on the collision resolution strategy used.\n",
    "\n",
    "> Python's dictionary implementation is optimized to handle collisions efficiently, and the performance of the dictionary is generally very good, even in the presence of collisions. However, if the number of collisions is very high, the performance of the dictionary can degrade, so it is important to choose a good hash function that minimizes collisions when designing a Python dictionary.\n",
    "\n",
    "## What is a Set?"
   ]
  },
  {
   "cell_type": "code",
   "execution_count": 57,
   "metadata": {},
   "outputs": [
    {
     "name": "stdout",
     "output_type": "stream",
     "text": [
      "{1, 2, 3}\n"
     ]
    }
   ],
   "source": [
    "# Creating a set using set() function\n",
    "my_set = set([1, 2, 3, 2, 1])\n",
    "print(my_set)  \n",
    "\n",
    "# What do you notice in the output?\n",
    "#\n",
    "#\n",
    "\n",
    "# Why do you think Sets are in the same tech talk as Hashmaps/Hashtables?\n",
    "#\n",
    "#"
   ]
  },
  {
   "attachments": {},
   "cell_type": "markdown",
   "metadata": {},
   "source": [
    "## Dictionary Example\n",
    "\n",
    "Below are just some basic features of a dictionary. As always, documentation is always the main source for all the full capablilties. "
   ]
  },
  {
   "cell_type": "code",
   "execution_count": 65,
   "metadata": {},
   "outputs": [
    {
     "name": "stdout",
     "output_type": "stream",
     "text": [
      "{'title': 'Lover', 'artist': 'Taylor Swift', 'year': 2019, 'genre': ['Pop', 'Synth-pop'], 'tracks': {1: 'I Forgot That You Existed', 2: 'Cruel Summer', 3: 'Lover', 4: 'The Man', 5: 'The Archer', 6: 'I Think He Knows', 7: 'Miss Americana & The Heartbreak Prince', 8: 'Paper Rings', 9: 'Cornelia Street', 10: 'Death By A Thousand Cuts', 11: 'London Boy', 12: \"Soon You'll Get Better (feat. Dixie Chicks)\", 13: 'False God', 14: 'You Need To Calm Down', 15: 'Afterglow', 16: 'Me! (feat. Brendon Urie of Panic! At The Disco)', 17: \"It's Nice To Have A Friend\", 18: 'Daylight'}}\n"
     ]
    }
   ],
   "source": [
    "# Creating a dictionary with information about the album \"Lover\"\n",
    "lover_album = {\n",
    "    \"title\": \"Lover\",\n",
    "    \"artist\": \"Taylor Swift\",\n",
    "    \"year\": 2019,\n",
    "    \"genre\": [\"Pop\", \"Synth-pop\"],\n",
    "    \"tracks\": {\n",
    "        1: \"I Forgot That You Existed\",\n",
    "        2: \"Cruel Summer\",\n",
    "        3: \"Lover\",\n",
    "        4: \"The Man\",\n",
    "        5: \"The Archer\",\n",
    "        6: \"I Think He Knows\",\n",
    "        7: \"Miss Americana & The Heartbreak Prince\",\n",
    "        8: \"Paper Rings\",\n",
    "        9: \"Cornelia Street\",\n",
    "        10: \"Death By A Thousand Cuts\",\n",
    "        11: \"London Boy\",\n",
    "        12: \"Soon You'll Get Better (feat. Dixie Chicks)\",\n",
    "        13: \"False God\",\n",
    "        14: \"You Need To Calm Down\",\n",
    "        15: \"Afterglow\",\n",
    "        16: \"Me! (feat. Brendon Urie of Panic! At The Disco)\",\n",
    "        17: \"It's Nice To Have A Friend\",\n",
    "        18: \"Daylight\"\n",
    "    }\n",
    "}\n",
    "\n",
    "# What data structures do you see?\n",
    "# I see lists, strings, integers, and dictionaries\n",
    "\n",
    "\n",
    "# Printing the dictionary\n",
    "print(lover_album)"
   ]
  },
  {
   "cell_type": "code",
   "execution_count": 59,
   "metadata": {},
   "outputs": [
    {
     "name": "stdout",
     "output_type": "stream",
     "text": [
      "{1: 'I Forgot That You Existed', 2: 'Cruel Summer', 3: 'Lover', 4: 'The Man', 5: 'The Archer', 6: 'I Think He Knows', 7: 'Miss Americana & The Heartbreak Prince', 8: 'Paper Rings', 9: 'Cornelia Street', 10: 'Death By A Thousand Cuts', 11: 'London Boy', 12: \"Soon You'll Get Better (feat. Dixie Chicks)\", 13: 'False God', 14: 'You Need To Calm Down', 15: 'Afterglow', 16: 'Me! (feat. Brendon Urie of Panic! At The Disco)', 17: \"It's Nice To Have A Friend\", 18: 'Daylight'}\n",
      "{1: 'I Forgot That You Existed', 2: 'Cruel Summer', 3: 'Lover', 4: 'The Man', 5: 'The Archer', 6: 'I Think He Knows', 7: 'Miss Americana & The Heartbreak Prince', 8: 'Paper Rings', 9: 'Cornelia Street', 10: 'Death By A Thousand Cuts', 11: 'London Boy', 12: \"Soon You'll Get Better (feat. Dixie Chicks)\", 13: 'False God', 14: 'You Need To Calm Down', 15: 'Afterglow', 16: 'Me! (feat. Brendon Urie of Panic! At The Disco)', 17: \"It's Nice To Have A Friend\", 18: 'Daylight'}\n"
     ]
    }
   ],
   "source": [
    "# Retrieve value from dictionary with key\n",
    "print(lover_album.get('tracks'))\n",
    "# or\n",
    "print(lover_album['tracks'])"
   ]
  },
  {
   "cell_type": "code",
   "execution_count": 60,
   "metadata": {},
   "outputs": [
    {
     "name": "stdout",
     "output_type": "stream",
     "text": [
      "The Man\n",
      "The Man\n"
     ]
    }
   ],
   "source": [
    "# Retrieve value from a dictionary inside a dictionary\n",
    "print(lover_album.get('tracks')[4])\n",
    "# or\n",
    "print(lover_album['tracks'][4])"
   ]
  },
  {
   "cell_type": "code",
   "execution_count": 70,
   "metadata": {},
   "outputs": [
    {
     "name": "stdout",
     "output_type": "stream",
     "text": [
      "{'title': 'Lover', 'artist': 'Taylor Swift', 'year': 2019, 'genre': ['Pop', 'Synth-pop', 'Electropop'], 'tracks': {1: 'I Forgot That You Existed', 2: 'Cruel Summer', 3: 'Lover', 4: 'The Man', 5: 'The Archer', 6: 'I Think He Knows', 7: 'Miss Americana & The Heartbreak Prince', 8: 'Paper Rings', 9: 'Cornelia Street', 10: 'Death By A Thousand Cuts', 11: 'London Boy', 12: \"Soon You'll Get Better (feat. Dixie Chicks)\", 13: 'False God', 14: 'You Need To Calm Down', 15: 'Afterglow', 16: 'Me! (feat. Brendon Urie of Panic! At The Disco)', 17: \"It's Nice To Have A Friend\", 18: 'Daylight', 19: 'All Of The Girls You Loved Before'}, 'producer': {'Louis Bell', 'Jack Antonoff', 'Frank Dukes', 'Taylor Swift', 'Joel Little'}}\n"
     ]
    }
   ],
   "source": [
    "# adding a value with a new key\n",
    "lover_album[\"producer\"] = set(['Taylor Swift', 'Jack Antonoff', 'Joel Little', 'Taylor Swift', 'Louis Bell', 'Frank Dukes'])\n",
    "\n",
    "# What can you change to make sure there are no duplicate producers?\n",
    "# You can use set to make sure there are no duplicae producers\n",
    "#\n",
    "\n",
    "# Printing the dictionary\n",
    "print(lover_album)"
   ]
  },
  {
   "cell_type": "code",
   "execution_count": 67,
   "metadata": {},
   "outputs": [
    {
     "name": "stdout",
     "output_type": "stream",
     "text": [
      "{'title': 'Lover', 'artist': 'Taylor Swift', 'year': 2019, 'genre': ['Pop', 'Synth-pop', 'Electropop'], 'tracks': {1: 'I Forgot That You Existed', 2: 'Cruel Summer', 3: 'Lover', 4: 'The Man', 5: 'The Archer', 6: 'I Think He Knows', 7: 'Miss Americana & The Heartbreak Prince', 8: 'Paper Rings', 9: 'Cornelia Street', 10: 'Death By A Thousand Cuts', 11: 'London Boy', 12: \"Soon You'll Get Better (feat. Dixie Chicks)\", 13: 'False God', 14: 'You Need To Calm Down', 15: 'Afterglow', 16: 'Me! (feat. Brendon Urie of Panic! At The Disco)', 17: \"It's Nice To Have A Friend\", 18: 'Daylight', 19: 'All Of The Girls You Loved Before'}}\n"
     ]
    }
   ],
   "source": [
    "# Adding a an key-value pair to an existing key \n",
    "lover_album[\"tracks\"].update({19: \"All Of The Girls You Loved Before\"})\n",
    "\n",
    "lover_album[\"genre\"].append(\"Electropop\")\n",
    "\n",
    "# How would add an additional genre to the dictionary, like electropop? \n",
    "# You can use the append function since genre is a list\n",
    "# \n",
    "\n",
    "# Printing the dictionary\n",
    "print(lover_album)"
   ]
  },
  {
   "cell_type": "code",
   "execution_count": 63,
   "metadata": {},
   "outputs": [
    {
     "name": "stdout",
     "output_type": "stream",
     "text": [
      "title: Lover\n",
      "artist: Taylor Swift\n",
      "year: 2019\n",
      "genre: ['Pop', 'Synth-pop', 'Electropop']\n",
      "tracks: {1: 'I Forgot That You Existed', 2: 'Cruel Summer', 3: 'Lover', 4: 'The Man', 5: 'The Archer', 6: 'I Think He Knows', 7: 'Miss Americana & The Heartbreak Prince', 8: 'Paper Rings', 9: 'Cornelia Street', 10: 'Death By A Thousand Cuts', 11: 'London Boy', 12: \"Soon You'll Get Better (feat. Dixie Chicks)\", 13: 'False God', 14: 'You Need To Calm Down', 15: 'Afterglow', 16: 'Me! (feat. Brendon Urie of Panic! At The Disco)', 17: \"It's Nice To Have A Friend\", 18: 'Daylight', 19: 'All Of The Girls You Loved Before'}\n",
      "producer: {'Louis Bell', 'Jack Antonoff', 'Frank Dukes', 'Taylor Swift', 'Joel Little'}\n",
      "1 : I Forgot That You Existed\n",
      "2 : Cruel Summer\n",
      "3 : Lover\n",
      "4 : The Man\n",
      "5 : The Archer\n",
      "6 : I Think He Knows\n",
      "7 : Miss Americana & The Heartbreak Prince\n",
      "8 : Paper Rings\n",
      "9 : Cornelia Street\n",
      "10 : Death By A Thousand Cuts\n",
      "11 : London Boy\n",
      "12 : Soon You'll Get Better (feat. Dixie Chicks)\n",
      "13 : False God\n",
      "14 : You Need To Calm Down\n",
      "15 : Afterglow\n",
      "16 : Me! (feat. Brendon Urie of Panic! At The Disco)\n",
      "17 : It's Nice To Have A Friend\n",
      "18 : Daylight\n",
      "19 : All Of The Girls You Loved Before\n"
     ]
    }
   ],
   "source": [
    "# Print lover_album in more readable format\n",
    "for k,v in lover_album.items(): # iterate using a for loop for key and value\n",
    "    print(str(k) + \": \" + str(v))\n",
    "\n",
    "for k,v in lover_album[\"tracks\"].items():\n",
    "    print(str(k) + \" : \" + str(v))\n",
    "\n",
    "\n",
    "# Write your own code to print tracks in readable format\n",
    "#\n",
    "#"
   ]
  },
  {
   "cell_type": "code",
   "execution_count": 72,
   "metadata": {},
   "outputs": [
    {
     "name": "stdout",
     "output_type": "stream",
     "text": [
      "{'title': 'Lover', 'artist': 'Taylor Swift', 'year': 2019, 'genre': ['Pop', 'Synth-pop', 'Electropop'], 'tracks': {1: 'I Forgot That You Existed', 2: 'Cruel Summer', 3: 'Lover', 4: 'The Man', 5: 'The Archer', 6: 'I Think He Knows', 7: 'Miss Americana & The Heartbreak Prince', 8: 'Paper Rings', 9: 'Cornelia Street', 10: 'Death By A Thousand Cuts', 11: 'London Boy', 12: \"Soon You'll Get Better (feat. Dixie Chicks)\", 13: 'False God', 14: 'You Need To Calm Down', 15: 'Afterglow', 16: 'Me! (feat. Brendon Urie of Panic! At The Disco)', 17: \"It's Nice To Have A Friend\", 18: 'Daylight', 19: 'All Of The Girls You Loved Before'}, 'producer': {'Louis Bell', 'juicewrld', 'Jack Antonoff', 'Frank Dukes', 'Taylor Swift', 'Joel Little'}}\n"
     ]
    }
   ],
   "source": [
    "# Using conditionals to retrieve a random song\n",
    "def search():\n",
    "    search = input(\"What would you like to know about the album?\")\n",
    "    if lover_album.get(search.lower()) == None:\n",
    "        print(\"Invalid Search\")\n",
    "    else:\n",
    "        print(lover_album.get(search.lower()))\n",
    "\n",
    "#search()\n",
    "\n",
    "def better_search():\n",
    "    search = input(\"Would you like to know about a song, the album or add to the album?\").lower()\n",
    "    if search == \"album\":\n",
    "        album = input(\"Name something about the album you would like to know\")\n",
    "        if lover_album.get(album.lower()) == None:\n",
    "            print(\"Invalid Search\")\n",
    "        else:\n",
    "            print(lover_album.get(album.lower()))\n",
    "    elif search == \"song\":\n",
    "        song = input(\"Name a track number\")\n",
    "        if lover_album[\"tracks\"][int(song)] == None:\n",
    "            print(\"Invalid Search\")\n",
    "        else:\n",
    "            print(lover_album[\"tracks\"][int(song)])\n",
    "    elif search == \"add\":\n",
    "        add = input(\"Would you like to add a song, genre or producer?\")\n",
    "        if add == \"song\":\n",
    "            addsong = input(\"Name the song you would like to add\")\n",
    "            lover_album[\"tracks\"].update({len(lover_album[\"tracks\"])+1:addsong})\n",
    "        elif add == \"genre\":\n",
    "            addgenre = input(\"Name a genre you would like to add\")\n",
    "            lover_album[\"genre\"].append(addgenre)\n",
    "        elif add == \"producer\":\n",
    "            addproducer = input(\"Name a producer you would like to add\")\n",
    "            lover_album[\"producer\"].add(addproducer)\n",
    "        \n",
    "\n",
    "better_search()\n",
    "print(lover_album)\n",
    "\n",
    "\n",
    "# This is a very basic code segment, how can you improve upon this code?\n",
    "# \n",
    "# Search specific songs and output the track number"
   ]
  },
  {
   "attachments": {},
   "cell_type": "markdown",
   "metadata": {},
   "source": [
    "## Hacks\n",
    "\n",
    "- Answer *ALL* questions in the code segments\n",
    "- Create a diagram or comparison illustration (Canva).\n",
    "    - What are the pro and cons of using this data structure? \n",
    "    - Dictionary vs List    \n",
    "- Expand upon the code given to you, possible improvements in comments\n",
    "- Build your own album showing features of a python dictionary\n",
    "\n",
    "- For Mr. Yeung's class: Justify your favorite Taylor Swift song, answer may effect seed"
   ]
  },
  {
   "attachments": {},
   "cell_type": "markdown",
   "metadata": {},
   "source": [
    "## Hacks Answered\n",
    "\n",
    "### Dictionary vs LIst\n",
    "![](images/list-v-dictionary.png)\n",
    "\n",
    "### Pros and Cons of Hashmaps\n",
    "![](images/pros-cons-hashtable.png)"
   ]
  },
  {
   "attachments": {},
   "cell_type": "markdown",
   "metadata": {},
   "source": [
    "### Build own album"
   ]
  },
  {
   "cell_type": "code",
   "execution_count": 1,
   "metadata": {},
   "outputs": [
    {
     "name": "stdout",
     "output_type": "stream",
     "text": [
      "{'title': 'Legends Never Die', 'artist': 'Juice Wrld', 'year': 2020, 'genre': ['Hip Pop', 'Rap', 'Emo Rap'], 'tracks': {1: \"Life's a Mess\", 2: 'Come & Go (feat. Marshmello)', 3: 'Tell Me U Luv Me', 4: 'Hate the Other Side (feat. Marshmello, Polo G & Kid Laroi)', 5: 'Wishing Well', 6: 'The Man, the Myth, the Legend', 7: 'Man of the Year (999)', 8: 'Up Up and Away', 9: \"Can't Die\", 10: 'Get Through it', 11: 'Titanic', 12: 'Righteous', 13: 'Blood on My Jeans', 14: 'Conversations', 15: 'Bad Energy', 16: 'Stay High)', 17: 'I Want It', 18: 'Fighting Demons'}}\n"
     ]
    }
   ],
   "source": [
    "# Creating a dictionary with information about the album \"Lover\"\n",
    "album_v2 = {\n",
    "    \"title\": \"Legends Never Die\",\n",
    "    \"artist\": \"Juice Wrld\",\n",
    "    \"year\": 2020,\n",
    "    \"genre\": [\"Hip Pop\", \"Rap\", \"Emo Rap\"],\n",
    "    \"tracks\": {\n",
    "        1: \"Life's a Mess\",\n",
    "        2: \"Come & Go (feat. Marshmello)\",\n",
    "        3: \"Tell Me U Luv Me\",\n",
    "        4: \"Hate the Other Side (feat. Marshmello, Polo G & Kid Laroi)\",\n",
    "        5: \"Wishing Well\",\n",
    "        6: \"The Man, the Myth, the Legend\",\n",
    "        7: \"Man of the Year (999)\",\n",
    "        8: \"Up Up and Away\",\n",
    "        9: \"Can't Die\",\n",
    "        10: \"Get Through it\",\n",
    "        11: \"Titanic\",\n",
    "        12: \"Righteous\",\n",
    "        13: \"Blood on My Jeans\",\n",
    "        14: \"Conversations\",\n",
    "        15: \"Bad Energy\",\n",
    "        16: \"Stay High)\",\n",
    "        17: \"I Want It\",\n",
    "        18: \"Fighting Demons\"\n",
    "    }\n",
    "}\n",
    "\n",
    "# What data structures do you see?\n",
    "# I see lists, strings, integers, and dictionaries\n",
    "\n",
    "\n",
    "# Printing the dictionary\n",
    "print(album_v2)"
   ]
  },
  {
   "cell_type": "code",
   "execution_count": 2,
   "metadata": {},
   "outputs": [
    {
     "name": "stdout",
     "output_type": "stream",
     "text": [
      "title: Legends Never Die\n",
      "artist: Juice Wrld\n",
      "year: 2020\n",
      "genre: ['Hip Pop', 'Rap', 'Emo Rap']\n",
      "tracks: {1: \"Life's a Mess\", 2: 'Come & Go (feat. Marshmello)', 3: 'Tell Me U Luv Me', 4: 'Hate the Other Side (feat. Marshmello, Polo G & Kid Laroi)', 5: 'Wishing Well', 6: 'The Man, the Myth, the Legend', 7: 'Man of the Year (999)', 8: 'Up Up and Away', 9: \"Can't Die\", 10: 'Get Through it', 11: 'Titanic', 12: 'Righteous', 13: 'Blood on My Jeans', 14: 'Conversations', 15: 'Bad Energy', 16: 'Stay High)', 17: 'I Want It', 18: 'Fighting Demons'}\n",
      "1 : Life's a Mess\n",
      "2 : Come & Go (feat. Marshmello)\n",
      "3 : Tell Me U Luv Me\n",
      "4 : Hate the Other Side (feat. Marshmello, Polo G & Kid Laroi)\n",
      "5 : Wishing Well\n",
      "6 : The Man, the Myth, the Legend\n",
      "7 : Man of the Year (999)\n",
      "8 : Up Up and Away\n",
      "9 : Can't Die\n",
      "10 : Get Through it\n",
      "11 : Titanic\n",
      "12 : Righteous\n",
      "13 : Blood on My Jeans\n",
      "14 : Conversations\n",
      "15 : Bad Energy\n",
      "16 : Stay High)\n",
      "17 : I Want It\n",
      "18 : Fighting Demons\n"
     ]
    }
   ],
   "source": [
    "# Print lover_album in more readable format\n",
    "for k,v in album_v2.items(): # iterate using a for loop for key and value\n",
    "    print(str(k) + \": \" + str(v))\n",
    "\n",
    "for k,v in album_v2[\"tracks\"].items():\n",
    "    print(str(k) + \" : \" + str(v))\n",
    "\n",
    "\n",
    "# Write your own code to print tracks in readable format\n",
    "#\n",
    "#"
   ]
  },
  {
   "cell_type": "code",
   "execution_count": 3,
   "metadata": {},
   "outputs": [
    {
     "name": "stdout",
     "output_type": "stream",
     "text": [
      "Hate the Other Side (feat. Marshmello, Polo G & Kid Laroi)\n",
      "Hate the Other Side (feat. Marshmello, Polo G & Kid Laroi)\n"
     ]
    }
   ],
   "source": [
    "# Retrieve value from a dictionary inside a dictionary\n",
    "print(album_v2.get('tracks')[4])\n",
    "# or\n",
    "print(album_v2['tracks'][4])"
   ]
  },
  {
   "cell_type": "code",
   "execution_count": 4,
   "metadata": {},
   "outputs": [
    {
     "name": "stdout",
     "output_type": "stream",
     "text": [
      "{1: \"Life's a Mess\", 2: 'Come & Go (feat. Marshmello)', 3: 'Tell Me U Luv Me', 4: 'Hate the Other Side (feat. Marshmello, Polo G & Kid Laroi)', 5: 'Wishing Well', 6: 'The Man, the Myth, the Legend', 7: 'Man of the Year (999)', 8: 'Up Up and Away', 9: \"Can't Die\", 10: 'Get Through it', 11: 'Titanic', 12: 'Righteous', 13: 'Blood on My Jeans', 14: 'Conversations', 15: 'Bad Energy', 16: 'Stay High)', 17: 'I Want It', 18: 'Fighting Demons'}\n",
      "{1: \"Life's a Mess\", 2: 'Come & Go (feat. Marshmello)', 3: 'Tell Me U Luv Me', 4: 'Hate the Other Side (feat. Marshmello, Polo G & Kid Laroi)', 5: 'Wishing Well', 6: 'The Man, the Myth, the Legend', 7: 'Man of the Year (999)', 8: 'Up Up and Away', 9: \"Can't Die\", 10: 'Get Through it', 11: 'Titanic', 12: 'Righteous', 13: 'Blood on My Jeans', 14: 'Conversations', 15: 'Bad Energy', 16: 'Stay High)', 17: 'I Want It', 18: 'Fighting Demons'}\n"
     ]
    }
   ],
   "source": [
    "# Retrieve value from dictionary with key\n",
    "print(album_v2.get('tracks'))\n",
    "# or\n",
    "print(album_v2['tracks'])"
   ]
  },
  {
   "attachments": {},
   "cell_type": "markdown",
   "metadata": {},
   "source": [
    "## Favorite Taylor Swift Song Seed\n",
    "My favorite Taylor Swift song is Love Story. Love Story is on many of my Spotify playlists that I listen to frequently because I like it so much. I first heard it in many Instagram edits and I loved the catchy tune. I was also reading Romeo and Juliet at the time, and I greatly appreciated the reference to the great romance tragedy classic by William Shakespeare. I also liked the theme of young romance and it helped me relate to it. A song of impossible fantasy. I also loved the melody and it was very easy to hum or sing along to. I also enjoyed Taylor Swift's singing in the song, which was soft yet powerful. She sang in way that made the lyrics stand out and enabled me to hear it clearly. I especially liked the parts where the dad says \"Stay Away from Juliet\" because it shows a kind of forbidden love. I also like the part \n",
    "\"Marry me, Juliet, you'll never have to be alone\n",
    "I love you, and that's all I really know\n",
    "I talked to your dad, go pick out a white dress\n",
    "It's a love story, baby, just say yes\"\n",
    "because it shows a happy ending and this part of song is especially exciting. I just enjoyed the calmness of the song and this is one of the greatest songs ever."
   ]
  }
 ],
 "metadata": {
  "kernelspec": {
   "display_name": "base",
   "language": "python",
   "name": "python3"
  },
  "language_info": {
   "codemirror_mode": {
    "name": "ipython",
    "version": 3
   },
   "file_extension": ".py",
   "mimetype": "text/x-python",
   "name": "python",
   "nbconvert_exporter": "python",
   "pygments_lexer": "ipython3",
   "version": "3.9.12"
  },
  "orig_nbformat": 4
 },
 "nbformat": 4,
 "nbformat_minor": 2
}
