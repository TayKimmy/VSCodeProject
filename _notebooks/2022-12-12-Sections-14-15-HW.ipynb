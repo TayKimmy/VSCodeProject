{
 "cells": [
  {
   "cell_type": "markdown",
   "metadata": {},
   "source": [
    "# Unit 3 Sections 14-15 Homework and Challenges\n",
    "- toc: true\n",
    "- layout: post\n",
    "- description: This is the homework for Unit 3 Sections 14-15\n",
    "- categories: [jupyter, Week 15]"
   ]
  },
  {
   "cell_type": "markdown",
   "metadata": {},
   "source": [
    "## Notes\n",
    "### 3.14\n",
    "\n",
    "(Fill in the blank)\n",
    "\n",
    "Okay, so we've learned a lot of code, and all of you now can boast that you can code at least some basic programs in python. But, what about more advanced stuff? What if there's a more advanced program you don't know how to make? Do you need to make it yourself? Well, not always.\n",
    "\n",
    "You've already learned about functions that you can write to reuse in your code in previous lessons. But,there are many others who code in python just like you. So why would you do again what someone has already done, and is available for any python user?\n",
    "\n",
    "Packages allow a python user to import methods from a library, and use the methods in their code. Most package come with documentation on the different methods they entail and how to use them, and they can be found with a quick google search. methods are used with the following:\n",
    "\n",
    "Note: a method from a package can only be used after the import statement.\n",
    "Some methods are always installed, such as those with the list methods which we have previously discussed. But others require a special python keyword called import. We will learn different ways to import in Challenge 1.\n",
    "\n",
    "Sometimes we only need to import a single method from the package. We can do that with the word \"from\", followed by the package name, then the word \"import\", then the method. This will alllow you to use the method without mentioning the package's name, unlike what we did before, however other methods from that package cannot be used. To get the best of both worlds you can use \"*\".\n",
    "\n",
    "To import a method as an easier name, just do what we did first, add the word \"as\", and write the name you would like to use that package as.\n",
    "\n",
    "### 3.15\n",
    "Random Values are a number generated using a large set of numbers and a mathematical algorithm which gives equal probability to all number occuring\n",
    "\n",
    "Each Result from randomization is equally likely to occur Using random number generation in a program means each execution may produce a different result\n",
    "\n",
    "Examples:\n",
    "- Dice\n",
    "- Marbles\n",
    "\n",
    "Used in coding:\n",
    "- Games\n",
    "- Statistical Sampling\n",
    "- Cryptography"
   ]
  },
  {
   "cell_type": "markdown",
   "metadata": {},
   "source": [
    "# 3.14 Libraries Challenges and Homework\n",
    "\n",
    "\n",
    "## Challenge 1: Bsic Libraries\n",
    "1. Find a python package on the internet and import it\n",
    "2. Choose a method from the package and import only the method\n",
    "3. Import the package as a more convenient name."
   ]
  },
  {
   "cell_type": "code",
   "execution_count": 3,
   "metadata": {},
   "outputs": [
    {
     "name": "stdout",
     "output_type": "stream",
     "text": [
      "40320\n"
     ]
    }
   ],
   "source": [
    "import math\n",
    "x = math.factorial(8)\n",
    "print(x)"
   ]
  },
  {
   "cell_type": "markdown",
   "metadata": {},
   "source": [
    "## Challenge 2: Turtles\n",
    "Task: Have fun with turtle! Create something that uses at least 2 lines of different lengths and 2 turns with different angles, and changes at least one setting about either the pen or canvas. Also use one command that isn't mentioned on the table below(there are a lot). Paste a screenshot of the code and the drawing from repl.it"
   ]
  },
  {
   "cell_type": "markdown",
   "metadata": {},
   "source": [
    "![]({{ site.baseurl }}/images/challenge-turtle.png)"
   ]
  },
  {
   "cell_type": "markdown",
   "metadata": {},
   "source": [
    "## Challenge 3: Math\n",
    "Create a program which asks for a user input of two numbers, and returns the following:\n",
    "- each number rounded up\n",
    "- each number rounded down\n",
    "- the lcm of the rounded down numbers\n",
    "- the gcf of the rounded up numbers\n",
    "- the factorial of each number\n",
    "- something else using the math package!"
   ]
  },
  {
   "cell_type": "code",
   "execution_count": 10,
   "metadata": {},
   "outputs": [
    {
     "name": "stdout",
     "output_type": "stream",
     "text": [
      "4\n",
      "6\n",
      "4\n",
      "6\n",
      "12\n",
      "2\n",
      "24\n",
      "720\n",
      "4.000000000000001\n"
     ]
    }
   ],
   "source": [
    "from math import *\n",
    "x = int(input(\"Choose a number\"))\n",
    "y = int(input(\"Choose a second number\"))\n",
    "print(math.ceil(x))\n",
    "print(math.ceil(y))\n",
    "print(math.floor(x))\n",
    "print(math.floor(y))\n",
    "print(math.lcm(x,y))\n",
    "print(math.gcd(x,y))\n",
    "print(math.factorial(x))\n",
    "print(math.factorial(y))\n",
    "print(math.nextafter(x, y))"
   ]
  },
  {
   "cell_type": "markdown",
   "metadata": {},
   "source": [
    "## Homework - Libraries\n",
    "Option 1: Create a python program which generates a random number between 1 and 10, and use turtle to draw a regular polygon with that many sides. As a hint, remember that the total sum of all the angles in a polygon is (the number of sides - 2) * 180. Note: a regular polygon has all sides and angles the same size. Paste a screenshot of the code and the drawing from repl.it\n",
    "\n",
    "Option 2: use the \"datetime\" package, and looking up documentation, create a program to generate 2 random dates and find the number of days between\n",
    "\n",
    "Extra ideas: customize the settings, draw a picture, or something else!"
   ]
  },
  {
   "cell_type": "markdown",
   "metadata": {},
   "source": [
    "![]({{ site.baseurl }}/images/Sections-14-15-HW.png)"
   ]
  },
  {
   "cell_type": "markdown",
   "metadata": {},
   "source": [
    "# 3.15 - Random Values Challenges and Homework\n",
    "\n",
    "\n",
    "## Challenge 1\n",
    "Write a function that will a simulate a coinflip and print the output\n",
    "EXTRA: Create a function that will randomly select 5 playing Cards and check if the 5 cards are a Royal Flush"
   ]
  },
  {
   "cell_type": "code",
   "execution_count": 14,
   "metadata": {},
   "outputs": [
    {
     "name": "stdout",
     "output_type": "stream",
     "text": [
      "Flip # 1 : Heads\n",
      "Flip # 2 : Tails\n",
      "Flip # 3 : Heads\n",
      "Flip # 4 : Tails\n"
     ]
    }
   ],
   "source": [
    "import random\n",
    "def coinflip():\n",
    "    x = \"\"\n",
    "    for i in range(4):\n",
    "        flip = random.randint(1,2)\n",
    "        if flip == 1:\n",
    "            x = \"Heads\"\n",
    "        elif flip == 2:\n",
    "            x = \"Tails\"\n",
    "        print(\"Flip #\", i+1, \":\", x)\n",
    "\n",
    "coinflip()"
   ]
  },
  {
   "cell_type": "markdown",
   "metadata": {},
   "source": [
    "## Homework - Random Values\n",
    "Given a random decimal number, convert it into binary. If you would like an opportunity for extra points, find a way to convert it into hexadecimal as well."
   ]
  },
  {
   "cell_type": "code",
   "execution_count": 27,
   "metadata": {},
   "outputs": [
    {
     "name": "stdout",
     "output_type": "stream",
     "text": [
      "The binary of 41 is: 101001\n",
      "The hexadecimal of 41 is: 0x18a89\n",
      "0x18a89\n"
     ]
    }
   ],
   "source": [
    "import random\n",
    "x = random.randint(1, 50)\n",
    "c = bin(x)\n",
    "y = hex(int(c.replace(\"0b\",\"0\")))\n",
    "print(\"The binary of\", x, \"is:\", int(c.replace(\"0b\", \"0\")))\n",
    "print(\"The hexadecimal of\", x, \"is:\", y)"
   ]
  }
 ],
 "metadata": {
  "kernelspec": {
   "display_name": "Python 3.9.12 ('base')",
   "language": "python",
   "name": "python3"
  },
  "language_info": {
   "codemirror_mode": {
    "name": "ipython",
    "version": 3
   },
   "file_extension": ".py",
   "mimetype": "text/x-python",
   "name": "python",
   "nbconvert_exporter": "python",
   "pygments_lexer": "ipython3",
   "version": "3.9.12"
  },
  "orig_nbformat": 4,
  "vscode": {
   "interpreter": {
    "hash": "1b2d041746c7b3ba1eb0aacc992799c1dfdaf7cc8fa7dfef2e90211c0a9fde58"
   }
  }
 },
 "nbformat": 4,
 "nbformat_minor": 2
}
