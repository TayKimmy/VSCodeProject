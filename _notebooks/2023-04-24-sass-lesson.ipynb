{
 "cells": [
  {
   "attachments": {},
   "cell_type": "markdown",
   "metadata": {},
   "source": [
    "# SASS"
   ]
  },
  {
   "attachments": {},
   "cell_type": "markdown",
   "metadata": {},
   "source": [
    "# Why SASS?\n",
    "\n",
    "SASS is an improvement on CSS in that there are methods of abstraction. It is a stylesheet language that is compiled into CSS, which means that Sass will translate the Sass code you wrote into CSS, which is what your web browser can read.\n",
    "\n",
    "# SASS vs SCSS\n",
    "As you learn about Sass, you might notice something called Scss. They are basically the same thing except that Scss uses curly braces and semicolons to distinguish between lines. Sass uses indentation and newlines instead.\n",
    "\n",
    "We will be teaching the Scss syntax because it is more commonly used."
   ]
  },
  {
   "attachments": {},
   "cell_type": "markdown",
   "metadata": {},
   "source": [
    "# Getting started\n",
    "\n",
    "A easy way to write SASS and have it preprocessed into CSS is by using a Jekyll powered website, such as GitHub pages or Fastpages.\n",
    "\n",
    "The first step is to clone a GitHub pages repo, such as this [one](https://github.com/lwu1822/sassy_squad).\n",
    "\n",
    "Within the repository, head over to `assets/css/`, and open `style.scss`.\n",
    "\n",
    "This is where you can create your SASS code.\n",
    "\n",
    "To see your CSS-translated SASS code, head over to `_site/assets/css/style.css`\n",
    "\n",
    "Note: You will need to run bundle exec jekyll serve before the _site directory appears.\n",
    "\n",
    "The first few hundred lines are used to style Github's theme. Make sure to scroll to the very bottom to see the SASS code that you wrote, which is in the form of CSS."
   ]
  },
  {
   "attachments": {},
   "cell_type": "markdown",
   "metadata": {},
   "source": [
    "# Nesting\n",
    "\n",
    "- Many different selectors and objects may share the same element.\n",
    "- Through nesting, you can write the styling code in a heirarchy"
   ]
  },
  {
   "attachments": {},
   "cell_type": "markdown",
   "metadata": {},
   "source": [
    "# Mini-hack\n",
    "\n",
    "Write out the SASS equivalent for the following CSS code:\n",
    "\n",
    "```\n",
    ".a .b {\n",
    "    color: green;\n",
    "}\n",
    "\n",
    ".a .c {\n",
    "    color: blue;\n",
    "}\n",
    "```\n",
    "\n",
    "SASS equivalent:\n",
    "```\n",
    ".a {\n",
    "    .b {\n",
    "    color: green;\n",
    "\n",
    "    .c {\n",
    "    color: blue;\n",
    "}}}\n",
    "```"
   ]
  },
  {
   "attachments": {},
   "cell_type": "markdown",
   "metadata": {},
   "source": [
    "# Extend/Inheritance\n",
    "\n",
    "What are some similarities that the buttons share? What are the differences?\n",
    "\n",
    "Take notes here:\n",
    "- The buttons have the same size - width, height\n",
    "- They also have the same font size and font color\n",
    "- The spacing of the buttons are also similar\n",
    "- The background colors of the buttons differ "
   ]
  },
  {
   "attachments": {},
   "cell_type": "markdown",
   "metadata": {},
   "source": [
    "# Mixin\n",
    "\n",
    "- Creates a code template that can be reused\n",
    "- Can also accept parameters so that dynamic styling can be utilized\n",
    "- Create mixin through `@mixin` and call it through `@include`"
   ]
  },
  {
   "attachments": {},
   "cell_type": "markdown",
   "metadata": {},
   "source": [
    "# Mini-hack\n",
    "\n",
    "Write out a mixin in SASS that takes in a color and a font size as the parameter. Within the mixin, set the background color and font color to the color parameter, and set the font size to the font size parameter. Then create a selector that calls the mixin, and pass in a color and font size of your choice as the arguments.\n",
    "\n",
    "SASS code:\n",
    "```\n",
    "@mixin testCode($testColor, $fontSize) {\n",
    "    background: $testColor;\n",
    "    color: $testColor;\n",
    "    font-size: $fontSize;\n",
    "}\n",
    ".testCodeSelector {\n",
    "    @include testCode(#00ffc1, 10px);\n",
    "}\n",
    "```"
   ]
  },
  {
   "attachments": {},
   "cell_type": "markdown",
   "metadata": {},
   "source": [
    "# Function\n",
    "\n",
    "Take notes here:\n",
    "- Can be created in SASS using `@function`\n",
    "- Like a function in a Python, it follows the format `functionName(Parameters)`\n",
    "- There should also be brackets after, like a Javascript function\n",
    "- Are called by specifying the function name with parenthesis\n",
    "    - Inside the parenthesis, define the arguments that the function will take in as parameters"
   ]
  },
  {
   "attachments": {},
   "cell_type": "markdown",
   "metadata": {},
   "source": [
    "# Import\n",
    "\n",
    "Take notes here:\n",
    "- SASS code can be split into multiple files and imported into one file\n",
    "- For example, create a directory called `_sass`\n",
    "    - You can create multiple files in here, such as `style.scss` and `color.scss`\n",
    "    - If you want the code from `style.scss` to be imported into `color.scss`, use the command `@import \"style\"`\n",
    "    - The `.scss` is not needed and there has to be quotation marks around the function name"
   ]
  },
  {
   "attachments": {},
   "cell_type": "markdown",
   "metadata": {},
   "source": [
    "# SASS Hacks\n",
    "\n",
    "1. Take notes and complete the mini-hacks. (0.9)\n",
    "\n",
    "2. Complete the [quiz questions](https://lwu1822.github.io/sassy_squad/quizQuestions) and provide your answers in this notebook. (0.9)\n",
    "\n",
    "3. Use SASS to create something that uses either extend or mixin. (0.9)\n",
    "\n",
    "4. Extra credit: Research other SASS features and blog about what you learned or add to your SASS project with any extra features not covered in this lesson. More points will be given if both are done."
   ]
  },
  {
   "attachments": {},
   "cell_type": "markdown",
   "metadata": {},
   "source": [
    "## Quiz Answers\n",
    "\n",
    "1. B\n",
    "2. A\n",
    "3. C\n",
    "4. B\n",
    "5. D\n",
    "6. B\n",
    "7. B"
   ]
  },
  {
   "attachments": {},
   "cell_type": "markdown",
   "metadata": {},
   "source": [
    "## Researched SASS features\n",
    "\n",
    "Variables:\n",
    "- Enables users to define values\n",
    "    - Can be used to define colors, font sizes, margins, padding values, and more.\n",
    "\n",
    "Control Directives:\n",
    "- Some examples are `@if`, `@for`, and `@each`\n",
    "- These enable us to write conditional statements and loops, and also allow iteration\n",
    "\n",
    "Partials:\n",
    "- Partial SASS files that contain small code segments\n",
    "- Can be included in other files\n",
    "- Is an easy way to organize code\n",
    "- Name with an underscore like `_partial.scss`\n",
    "\n",
    "Modules:\n",
    "- Can be used to split SASS code in a single file\n",
    "- `@use`\n",
    "- Loads another SASS file as a module\n",
    "    - Its variables, mixins, and functions can be accessed\n"
   ]
  },
  {
   "attachments": {},
   "cell_type": "markdown",
   "metadata": {},
   "source": [
    "<style>\n",
    "    @mixin button {\n",
    "    display: inline-block;\n",
    "    padding: 10px 20px;\n",
    "    border: 1px solid #f8057e;\n",
    "    border-radius: 5px;\n",
    "    background-color: #04f886;\n",
    "    color: #1d1c1c;\n",
    "    text-align: center;\n",
    "    text-decoration: none;\n",
    "    font-size: 20px;\n",
    "    font-weight: bold;\n",
    "    cursor: pointer;\n",
    "    \n",
    "    &:hover {\n",
    "      background-color: #ccc;\n",
    "      color: #fff;\n",
    "    }\n",
    "  }\n",
    "  .primary-btn {\n",
    "    @include button;\n",
    "    //background-color: #007bff;\n",
    "    //color: #fff;\n",
    "  }\n",
    "  \n",
    "  .secondary-btn {\n",
    "    @extend .primary-btn;\n",
    "    //background-color: #6c757d;\n",
    "  }\n",
    "  \n",
    "</style>\n",
    "<!DOCTYPE html>\n",
    "<html>\n",
    "<head>\n",
    "</head>\n",
    "    <body>\n",
    "        <div class=\"button\">\n",
    "            <button class=\"primary-btn\">First Button</button>\n",
    "            <button class=\"secondary-btn\">Second Button</button>\n",
    "        </div>\n",
    "    </body>\n",
    "</html>"
   ]
  }
 ],
 "metadata": {
  "kernelspec": {
   "display_name": "JavaScript (Node.js)",
   "language": "javascript",
   "name": "javascript"
  },
  "language_info": {
   "file_extension": ".js",
   "mimetype": "application/javascript",
   "name": "javascript",
   "version": "6.11.2"
  },
  "orig_nbformat": 4
 },
 "nbformat": 4,
 "nbformat_minor": 2
}
