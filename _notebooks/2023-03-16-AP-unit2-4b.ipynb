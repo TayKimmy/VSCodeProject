{
 "cells": [
  {
   "attachments": {},
   "cell_type": "markdown",
   "metadata": {},
   "source": [
    "#  Unit 2.4b Using Programs with Data, SQL\n",
    "> Blog about Big Idea 2.4b and Hacks\n",
    "- categories: [jupyter, Week 26]\n",
    "- toc: true"
   ]
  },
  {
   "attachments": {},
   "cell_type": "markdown",
   "metadata": {},
   "source": [
    "# Database Programming is Program with Data\n",
    "> Each Tri 2 Final Project should be an example of a Program with Data. \n",
    "\n",
    ">  Prepare to use SQLite in common Imperative Technique\n",
    "- Explore [SQLite Connect object](https://www.tutorialspoint.com/python_data_access/python_sqlite_establishing_connection.htm) to establish database connection\n",
    "- Explore [SQLite Cursor Object](https://www.tutorialspoint.com/python_data_access/python_sqlite_cursor_object.htm) to fetch data from a table within a database\n"
   ]
  },
  {
   "attachments": {},
   "cell_type": "markdown",
   "metadata": {},
   "source": [
    "## Schema of Users table in Sqlite.db\n",
    "> Uses PRAGMA statement to read schema.\n",
    "\n",
    "Describe Schema, here is resource [Resource](https://www.sqlite.org/index.html)\n",
    "- What is a database schema?\n",
    "    - The structure of the database with the data organized into a blueprint.\n",
    "- What is the purpose of identity Column in SQL database?\n",
    "    - Identity columns are used for generating key values, which enable the rows to be unique and identified.\n",
    "- What is the purpose of a primary key in SQL database?\n",
    "    - Gives a unique value to each row and allows them to be identified.\n",
    "- What are the Data Types in SQL table?\n",
    "    - String, text, images, basically any data type - lists, dictionaries classes."
   ]
  },
  {
   "cell_type": "code",
   "execution_count": 2,
   "metadata": {},
   "outputs": [
    {
     "name": "stdout",
     "output_type": "stream",
     "text": [
      "(0, 'id', 'INTEGER', 1, None, 1)\n",
      "(1, '_name', 'VARCHAR(255)', 1, None, 0)\n",
      "(2, '_uid', 'VARCHAR(255)', 1, None, 0)\n",
      "(3, '_mascot', 'VARCHAR(255)', 1, None, 0)\n",
      "(4, '_car', 'VARCHAR(255)', 1, None, 0)\n",
      "(5, '_mile', 'INTEGER', 0, None, 0)\n"
     ]
    }
   ],
   "source": [
    "import sqlite3\n",
    "\n",
    "database = 'instance/sqlite.db' # this is location of database\n",
    "\n",
    "def schema():\n",
    "    \n",
    "    # Connect to the database file\n",
    "    conn = sqlite3.connect(database)\n",
    "\n",
    "    # Create a cursor object to execute SQL queries\n",
    "    cursor = conn.cursor()\n",
    "    \n",
    "    # Fetch results of Schema\n",
    "    results = cursor.execute(\"PRAGMA table_info('cars')\").fetchall()\n",
    "\n",
    "    # Print the results\n",
    "    for row in results:\n",
    "        print(row)\n",
    "\n",
    "    # Close the database connection\n",
    "    conn.close()\n",
    "    \n",
    "schema()\n"
   ]
  },
  {
   "attachments": {},
   "cell_type": "markdown",
   "metadata": {},
   "source": [
    "## Reading Users table in Sqlite.db\n",
    "> Uses SQL SELECT statement to read data\n",
    "\n",
    "- What is a connection object?  After you google it, what do you think it does?\n",
    "    - A connection object represents a unique session with a data source. Its purpose is to create an open connection to a data source.\n",
    "- Same for cursor object?\n",
    "    - It is used to make a connection for executing SQL queries.\n",
    "- Look at conn object and cursor object in VSCode debugger.  What attributes are in the object?\n",
    "    - They both have many special variables and function variables.\n",
    "- Is \"results\" an object?  How do you know?\n",
    "    - \"results\" is an object because it contains data and many variables."
   ]
  },
  {
   "cell_type": "code",
   "execution_count": 4,
   "metadata": {},
   "outputs": [
    {
     "name": "stdout",
     "output_type": "stream",
     "text": [
      "(1, 'Cameron Yarbough', 'cam', 'nighthawks', 'Tesla Model Y', 4.21)\n",
      "(2, 'Luke Jin', 'luke', 'nighthawks', 'Lamborghini', 4.39)\n",
      "(3, 'Adrian Welton', 'adrian', 'wolverines', 'Ferrari', 4.33)\n",
      "(4, 'Tom Bell', 'tommy', 'sundevils', 'NIO ec6', 4.19)\n",
      "(5, 'Stanley Yan', 'stanley', 'nighthawks', 'Mercedes Benz', 4.38)\n",
      "(6, 'Nathan Cristmore', 'nathan', 'falcons', 'Aston Martin', 4.22)\n"
     ]
    }
   ],
   "source": [
    "import sqlite3\n",
    "\n",
    "def read():\n",
    "    # Connect to the database file\n",
    "    conn = sqlite3.connect(database)\n",
    "\n",
    "    # Create a cursor object to execute SQL queries\n",
    "    cursor = conn.cursor()\n",
    "    \n",
    "    # Execute a SELECT statement to retrieve data from a table\n",
    "    results = cursor.execute('SELECT * FROM cars').fetchall()\n",
    "\n",
    "    # Print the results\n",
    "    if len(results) == 0:\n",
    "        print(\"Table is empty\")\n",
    "    else:\n",
    "        for row in results:\n",
    "            print(row)\n",
    "\n",
    "    # Close the cursor and connection objects\n",
    "    cursor.close()\n",
    "    conn.close()\n",
    "    \n",
    "read()\n"
   ]
  },
  {
   "attachments": {},
   "cell_type": "markdown",
   "metadata": {},
   "source": [
    "## Create a new User in table in Sqlite.db\n",
    "> Uses SQL INSERT to add row\n",
    "-  Compare create() in both SQL lessons.  What is better or worse in the two implementations?\n",
    "    - This create is better and can do more functions but is relatively worse when the SQL database is small. In this case, the other method is better because it works better in less data.\n",
    "-  Explain purpose of SQL INSERT.   Is this the same as User __init__?\n",
    "    - This inserts data into the table while the User __init__ initializes user object with the data."
   ]
  },
  {
   "cell_type": "code",
   "execution_count": 8,
   "metadata": {},
   "outputs": [
    {
     "name": "stdout",
     "output_type": "stream",
     "text": [
      "A new user record micah has been created\n"
     ]
    }
   ],
   "source": [
    "import sqlite3\n",
    "\n",
    "def create():\n",
    "    name = input(\"Enter your name:\")\n",
    "    uid = input(\"Enter your user id:\")\n",
    "    mascot = input(\"Enter your school mascot:\")\n",
    "    car = input(\"Enter your car:\")\n",
    "    mile = input(\"Enter your mile time:\")\n",
    "    \n",
    "    # Connect to the database file\n",
    "    conn = sqlite3.connect(database)\n",
    "\n",
    "    # Create a cursor object to execute SQL commands\n",
    "    cursor = conn.cursor()\n",
    "\n",
    "    try:\n",
    "        # Execute an SQL command to insert data into a table\n",
    "        cursor.execute(\"INSERT INTO cars (_name, _uid, _mascot, _car, _mile) VALUES (?, ?, ?, ?, ?)\", (name, uid, mascot, car, mile))\n",
    "        \n",
    "        # Commit the changes to the database\n",
    "        conn.commit()\n",
    "        print(f\"A new user record {uid} has been created\")\n",
    "                \n",
    "    except sqlite3.Error as error:\n",
    "        print(\"Error while executing the INSERT:\", error)\n",
    "\n",
    "\n",
    "    # Close the cursor and connection objects\n",
    "    cursor.close()\n",
    "    conn.close()\n",
    "    \n",
    "create()"
   ]
  },
  {
   "attachments": {},
   "cell_type": "markdown",
   "metadata": {},
   "source": [
    "## Updating a User in table in Sqlite.db\n",
    "> Uses SQL UPDATE to modify password\n",
    "- What does the hacked part do?\n",
    "    - The hacked part appears when the password is less than 2 characters. It sets the passwrod to a new one.\n",
    "- Explain try/except, when would except occur?\n",
    "    - Try and except enable coders to test error code. Except occurs if there is an error with try.\n",
    "- What code seems to be repeated in each of these examples to point, why is it repeated?\n",
    "    - Defining conn and cursor seem to repeat, and cursor uses SQL commands ```UPDATE```, ```DELETE```, ```INSERT```, and ```SELECT```."
   ]
  },
  {
   "cell_type": "code",
   "execution_count": 9,
   "metadata": {},
   "outputs": [
    {
     "name": "stdout",
     "output_type": "stream",
     "text": [
      "The row with user id micah\n"
     ]
    }
   ],
   "source": [
    "import sqlite3\n",
    "\n",
    "def update():\n",
    "    uid = input(\"Enter user id to update\")\n",
    "    mascot = input(\"Enter your school mascot:\")\n",
    "    car = input(\"Enter your car:\")\n",
    "    mile = input(\"Enter your mile time:\")\n",
    "\n",
    "    # Connect to the database file\n",
    "    conn = sqlite3.connect(database)\n",
    "\n",
    "    # Create a cursor object to execute SQL commands\n",
    "    cursor = conn.cursor()\n",
    "\n",
    "    try:\n",
    "        # Execute an SQL command to update data in a table\n",
    "        cursor.execute(\"UPDATE cars SET _mascot = ?, _car = ?, _mile = ? WHERE _uid = ?\", (mascot, car, mile , uid))\n",
    "        if cursor.rowcount == 0:\n",
    "            # The uid was not found in the table\n",
    "            print(f\"No uid {uid} was not found in the table\")\n",
    "        else:\n",
    "            print(f\"The row with user id {uid}\")\n",
    "            conn.commit()\n",
    "    except sqlite3.Error as error:\n",
    "        print(\"Error while executing the UPDATE:\", error)\n",
    "        \n",
    "    \n",
    "    # Close the cursor and connection objects\n",
    "    cursor.close()\n",
    "    conn.close()\n",
    "    \n",
    "update()\n"
   ]
  },
  {
   "attachments": {},
   "cell_type": "markdown",
   "metadata": {},
   "source": [
    "## Delete a User in table in Sqlite.db\n",
    "> Uses a delete function to remove a user based on a user input of the id.\n",
    "- Is DELETE a dangerous operation?  Why?\n",
    "    - DELETE is a dangerous operation because if done incorrectly, it can delete all the data and all the records from the database.\n",
    "- In the print statemements, what is the \"f\" and what does {uid} do?\n",
    "    - The use of f makes it an f-string, or string format. The {uid} is a placeholder and the variable will be used within the string.\n"
   ]
  },
  {
   "cell_type": "code",
   "execution_count": 11,
   "metadata": {},
   "outputs": [
    {
     "name": "stdout",
     "output_type": "stream",
     "text": [
      "The row with uid micah was successfully deleted\n"
     ]
    }
   ],
   "source": [
    "import sqlite3\n",
    "\n",
    "def delete():\n",
    "    uid = input(\"Enter user id to delete\")\n",
    "\n",
    "    # Connect to the database file\n",
    "    conn = sqlite3.connect(database)\n",
    "\n",
    "    # Create a cursor object to execute SQL commands\n",
    "    cursor = conn.cursor()\n",
    "    \n",
    "    try:\n",
    "        cursor.execute(\"DELETE FROM cars WHERE _uid = ?\", (uid,))\n",
    "        if cursor.rowcount == 0:\n",
    "            # The uid was not found in the table\n",
    "            print(f\"No uid {uid} was not found in the table\")\n",
    "        else:\n",
    "            # The uid was found in the table and the row was deleted\n",
    "            print(f\"The row with uid {uid} was successfully deleted\")\n",
    "        conn.commit()\n",
    "    except sqlite3.Error as error:\n",
    "        print(\"Error while executing the DELETE:\", error)\n",
    "        \n",
    "    # Close the cursor and connection objects\n",
    "    cursor.close()\n",
    "    conn.close()\n",
    "    \n",
    "delete()"
   ]
  },
  {
   "attachments": {},
   "cell_type": "markdown",
   "metadata": {},
   "source": [
    "# Menu Interface to CRUD operations\n",
    "> CRUD and Schema interactions from one location by running menu. Observe input at the top of VSCode, observe output underneath code cell.\n",
    "- Why does the menu repeat?\n",
    "    - The menue repeats because it is a sorce of recursion. It keeps going and does the crud operations until the user decides to stop.\n",
    "- Could you refactor this menu?  Make it work with a List?\n",
    "    - THis menu could be refacted using loops and it could possibly work with a list."
   ]
  },
  {
   "cell_type": "code",
   "execution_count": 12,
   "metadata": {},
   "outputs": [
    {
     "name": "stdout",
     "output_type": "stream",
     "text": [
      "A new user record  has been created\n"
     ]
    }
   ],
   "source": [
    "# Menu, to run other cells from one control point\n",
    "def menu():\n",
    "    operation = input(\"Enter: (C)reate (R)ead (U)pdate or (D)elete or (S)chema\")\n",
    "    if operation.lower() == 'c':\n",
    "        create()\n",
    "    elif operation.lower() == 'r':\n",
    "        read()\n",
    "    elif operation.lower() == 'u':\n",
    "        update()\n",
    "    elif operation.lower() == 'd':\n",
    "        delete()\n",
    "    elif operation.lower() == 's':\n",
    "        schema()\n",
    "    elif len(operation)==0: # Escape Key\n",
    "        return\n",
    "    else:\n",
    "        print(\"Please enter c, r, u, or d\") \n",
    "    menu() # recursion, repeat menu\n",
    "        \n",
    "try:\n",
    "    menu() # start menu\n",
    "except:\n",
    "    print(\"Perform Jupyter 'Run All' prior to starting menu\")\n"
   ]
  },
  {
   "attachments": {},
   "cell_type": "markdown",
   "metadata": {},
   "source": [
    "# Hacks\n",
    "- Add this Blog to you own Blogging site.  In the Blog add notes and observations on each code cell.\n",
    "- In this implementation, do you see procedural abstraction?\n",
    "- In 2.4a or 2.4b lecture\n",
    "    - Do you see data abstraction?  Complement this with Debugging example.\n",
    "    - Use Imperative or OOP style to Create a new Table or do something that applies to your CPT project.\n",
    "    \n",
    "\n",
    "Reference... [sqlite documentation](https://www.sqlitetutorial.net/sqlite-python/creating-tables/)\n"
   ]
  },
  {
   "attachments": {},
   "cell_type": "markdown",
   "metadata": {},
   "source": [
    "## Hacks Answered\n",
    "\n",
    "### Data Abstraction\n",
    "Data Abstraction is used in 2.4a, as it simplifies the representation of the whole database. Within the classes in the database, objects are used to simplify the data. Each aspect of the user, like name and uid, are an object. It is also apparent when the code is debugged. There are many class variables in local and global, and objects are used.\n",
    "\n",
    "\n",
    "### Create New Table"
   ]
  },
  {
   "cell_type": "code",
   "execution_count": 19,
   "metadata": {},
   "outputs": [],
   "source": [
    "import sqlite3\n",
    "\n",
    "conn = sqlite3.connect(database)\n",
    "cursor = conn.cursor()\n",
    "try:\n",
    "    cursor.execute(\"CREATE TABLE tracks AS SELECT _name, _uid, _mascot, _car, _mile FROM cars;\")\n",
    "    conn.commit()\n",
    "except sqlite3.Error as error:\n",
    "    print(\"Error while executing the CREATE:\", error)\n",
    "        \n",
    "# Close the cursor and connection objects\n",
    "cursor.close()\n",
    "conn.close()\n"
   ]
  },
  {
   "cell_type": "code",
   "execution_count": 20,
   "metadata": {},
   "outputs": [
    {
     "name": "stdout",
     "output_type": "stream",
     "text": [
      "('Cameron Yarbough', 'cam', 'nighthawks', 'Tesla Model Y', 4.21)\n",
      "('Luke Jin', 'luke', 'nighthawks', 'Lamborghini', 4.39)\n",
      "('Adrian Welton', 'adrian', 'wolverines', 'Ferrari', 4.33)\n",
      "('Tom Bell', 'tommy', 'sundevils', 'NIO ec6', 4.19)\n",
      "('Stanley Yan', 'stanley', 'nighthawks', 'Mercedes Benz', 4.38)\n",
      "('Nathan Cristmore', 'nathan', 'falcons', 'Aston Martin', 4.22)\n"
     ]
    }
   ],
   "source": [
    "def read():\n",
    "    # Connect to the database file\n",
    "    conn = sqlite3.connect(database)\n",
    "\n",
    "    # Create a cursor object to execute SQL queries\n",
    "    cursor = conn.cursor()\n",
    "    \n",
    "    # Execute a SELECT statement to retrieve data from a table\n",
    "    results = cursor.execute('SELECT * FROM tracks').fetchall()\n",
    "\n",
    "    # Print the results\n",
    "    if len(results) == 0:\n",
    "        print(\"Table is empty\")\n",
    "    else:\n",
    "        for row in results:\n",
    "            print(row)\n",
    "\n",
    "    # Close the cursor and connection objects\n",
    "    cursor.close()\n",
    "    conn.close()\n",
    "    \n",
    "read()"
   ]
  }
 ],
 "metadata": {
  "kernelspec": {
   "display_name": "base",
   "language": "python",
   "name": "python3"
  },
  "language_info": {
   "codemirror_mode": {
    "name": "ipython",
    "version": 3
   },
   "file_extension": ".py",
   "mimetype": "text/x-python",
   "name": "python",
   "nbconvert_exporter": "python",
   "pygments_lexer": "ipython3",
   "version": "3.9.12"
  },
  "orig_nbformat": 4,
  "vscode": {
   "interpreter": {
    "hash": "1b2d041746c7b3ba1eb0aacc992799c1dfdaf7cc8fa7dfef2e90211c0a9fde58"
   }
  }
 },
 "nbformat": 4,
 "nbformat_minor": 2
}
