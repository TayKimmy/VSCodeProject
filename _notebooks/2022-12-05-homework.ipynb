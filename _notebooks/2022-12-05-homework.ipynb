{
 "cells": [
  {
   "cell_type": "markdown",
   "metadata": {},
   "source": [
    "# Unit 3 Sections 8 and 10 Homework and Challenges\n",
    "> The homework and challenge for Unit 3 Sections 8 and 10.\n",
    "- toc: true\n",
    "- categories: [jupyter, Week 15]\n",
    "- comments: true"
   ]
  },
  {
   "cell_type": "markdown",
   "metadata": {},
   "source": [
    "\n",
    "\n",
    "|   Pseudocode Operation  | Python Syntax |                                                           Description                                                          |\n",
    "|:-----------------------:|---------------|:------------------------------------------------------------------------------------------------------------------------------:|\n",
    "|         aList[i]        |       aList[i]        | _Accesses the element of aList at index i_                                                                                     |\n",
    "|       x ← aList[i]      |       x = aList[i]        | _Assigns the element of aList at index i <br>to a variable 'x'_                                                                |\n",
    "|       aList[i] ← x      |      aList(i) = x         | _Assigns the value of a variable 'x' to <br>the element of a List at index i_                                                  |\n",
    "|   aList[i] ← aList[j]   |       aList[i] = aList[j]        | _Assigns value of aList[j] to aList[i]_                                                                                        |\n",
    "| INSERT(aList, i, value) |       aList.insert(i, value)        | _value is placed at index i in aList. Any <br>element at an index greater than i will shift<br>one position to the right._    |\n",
    "|   APPEND(aList, value)  |      aList.append(value)         | _value is added as an element to the end <br> of aList and length of aList is increased by_ 1                                    |\n",
    "|     REMOVE(aList, i)\t    |      aList.pop(i)<br>OR<br>aList.remove(value)         | _Removes item at index i and any values at <br>indices greater than i shift to the left. <br>Length of aList decreased by 1._ |\n"
   ]
  },
  {
   "cell_type": "markdown",
   "metadata": {},
   "source": [
    "## Notes\n",
    "\n",
    "- Lists are collections of data\n",
    "- Lists are very helpful because you can use them to store unlimited amounts of data\n",
    "- Using loops and functions that locate list data using indexes, you can perform specific functions on lists\n",
    "- List indexes generally start with 0\n",
    "- Numbers in list can be used for math\n",
    "- Iteration is basically repetition\n",
    "- It is helpful to have code that repeat a function so that you don't have to copy-and-paste over and over again\n",
    "- A function generally iterates a certain number of times based on its purpose\n",
    "- For loops check the information stored within a list and use it as specified by the given variable\n",
    "- For loops are good for applying a certain alogrithm or function to an entire list of similar things\n",
    "- You can also use dictionaries to perform functions and make your code neater and more organized\n",
    "- Recursive loops involve incrementing a variable until it reaches a certain break point\n",
    "- While loops are very similar to recursive loops, but with a different syntax."
   ]
  },
  {
   "cell_type": "markdown",
   "metadata": {},
   "source": [
    "## Homework\n",
    "\n",
    "Instead of us making a quiz for you to take, we would like YOU to make a quiz about the material we reviewed.\n",
    "\n",
    "We would like you to <mark>input questions into a list</mark>, and use some sort of iterative system to print the questions, detect an input, and determine if you answered correctly. There should be *at least* <mark>five questions</mark>, each with *at least* <mark>three possible answers</mark>.\n",
    "\n",
    "You may use the template below as a framework for this assignment."
   ]
  },
  {
   "cell_type": "code",
   "execution_count": 1,
   "metadata": {},
   "outputs": [
    {
     "name": "stdout",
     "output_type": "stream",
     "text": [
      "Hello, you will be asked 5 short multiple chocie questions.\n",
      "Question: What is the type of loop covered in the lesson?\n",
      "for loop\n",
      "when loop\n",
      "do loop\n",
      "Answer is correct\n",
      "Question: What number do most coding language indexes start with?\n",
      "0\n",
      "1\n",
      "-1\n",
      "Answer is correct\n",
      "Question: How can you add a value into a list?\n",
      "append()\n",
      "remove()\n",
      "index()\n",
      "Answer is incorrect\n",
      "Question: How can you remove a value into a list?\n",
      "insert()\n",
      "pop()\n",
      "int()\n",
      "Answer is incorrect\n",
      "Question: What is it called when you repeat a function over and over?\n",
      "dictionary\n",
      "iteration\n",
      "repetition\n",
      "Answer is incorrect\n",
      "Your score is: 2/5 and you got 40.0%\n"
     ]
    }
   ],
   "source": [
    "import random\n",
    "\n",
    "def Quiz(prompt, choices):\n",
    "    global word\n",
    "    print(\"Question: \" + prompt)\n",
    "    for c in choices:\n",
    "        print(c)\n",
    "    \n",
    "    word = input()\n",
    "    return word\n",
    "\n",
    "\n",
    "questions = [\n",
    "    {\"question\":\"What is the type of loop covered in the lesson?\", \"correct_answer\":\"for loop\", \"incorrect_answer\":[\"when loop\", \"do loop\"]},\n",
    "    {\"question\":\"What number do most coding language indexes start with?\", \"correct_answer\":\"0\", \"incorrect_answer\":[\"1\", \"-1\"]},\n",
    "    {\"question\":\"How can you add a value into a list?\", \"correct_answer\":\"append()\", \"incorrect_answer\":[\"index()\", \"remove()\"]},\n",
    "    {\"question\":\"How can you remove a value into a list?\", \"correct_answer\":\"pop()\", \"incorrect_answer\":[\"insert()\", \"int()\"]},\n",
    "    {\"question\":\"What is it called when you repeat a function over and over?\", \"correct_answer\":\"iteration\", \"incorrect_answer\":[\"dictionary\", \"repetition\"]}]\n",
    "    \n",
    "\n",
    "correct_answers = 0\n",
    "#for i in questions: \n",
    "#    print (i.items())\n",
    "#    for n in i:\n",
    "#        print(n)\n",
    "print(\"Hello, you will be asked 5 short multiple chocie questions.\")\n",
    "for i in range(0, len(questions)):\n",
    "    multiple_choices = []\n",
    "    multiple_choices.append(questions[i][\"correct_answer\"])\n",
    "    multiple_choices.append(questions[i][\"incorrect_answer\"][0])\n",
    "    multiple_choices.append(questions[i][\"incorrect_answer\"][1])\n",
    "    random.shuffle(multiple_choices)\n",
    "    Quiz(questions[i][\"question\"], multiple_choices)\n",
    "    if word.lower() == questions[i][\"correct_answer\"]:\n",
    "        print(\"Answer is correct\")\n",
    "        correct_answers += 1\n",
    "    else:\n",
    "        print(\"Answer is incorrect\")\n",
    "print(\"Your score is: \" + str(correct_answers) + \"/5\" + \" and you got \" + str((correct_answers/5)*100) + \"%\")"
   ]
  },
  {
   "cell_type": "markdown",
   "metadata": {},
   "source": [
    "### Hacks\n",
    "\n",
    "Here are some ideas of things you can do to make your program even cooler. Doing these will raise your grade if done correctly.\n",
    "\n",
    "- Add more than five questions with more than three answer choices\n",
    "- Randomize the order in which questions/answers are output\n",
    "- At the end, display the user's score and determine whether or not they passed\n",
    "\n",
    "## Challenges\n"
   ]
  },
  {
   "cell_type": "code",
   "execution_count": 6,
   "metadata": {},
   "outputs": [
    {
     "name": "stdout",
     "output_type": "stream",
     "text": [
      "carrots\n",
      "carrots\n",
      "artichokes\n",
      "['apples', 'eggs', 'artichokes', 'carrots', 'cucumbers', 'umbrellas', 'artichokes']\n"
     ]
    }
   ],
   "source": [
    "grocery_list = ['apples', 'milk', 'oranges', 'carrots', 'cucumbers']\n",
    "\n",
    "# Print the fourth item in the list\n",
    "print(grocery_list[3])\n",
    "\n",
    "# Now, assign the fourth item in the list to a variable, x and then print the variable\n",
    "x = grocery_list[3]\n",
    "print(x)\n",
    "\n",
    "# Add these two items at the end of the list : umbrellas and artichokes\n",
    "grocery_list.append(\"umbrellas\")\n",
    "grocery_list.append(\"artichokes\")\n",
    "\n",
    "# Insert the item eggs as the third item of the list \n",
    "grocery_list.insert(2, \"eggs\")\n",
    "\n",
    "# Remove milk from the list \n",
    "grocery_list.remove(\"milk\")\n",
    "\n",
    "# Assign the element at the end of the list to index 2. Print index 2 to check\n",
    "grocery_list[2] = \"artichokes\"\n",
    "print(grocery_list[2])\n",
    "\n",
    "# Print the entire list, does it match ours ? \n",
    "print(grocery_list)\n",
    "\n",
    "# Expected output\n",
    "# carrots\n",
    "# carrots\n",
    "# artichokes\n",
    "# ['apples', 'eggs', 'artichokes', 'carrots', 'cucumbers', 'umbrellas', 'artichokes']"
   ]
  },
  {
   "cell_type": "code",
   "execution_count": 1,
   "metadata": {},
   "outputs": [
    {
     "name": "stdout",
     "output_type": "stream",
     "text": [
      "[73, 55]\n"
     ]
    }
   ],
   "source": [
    "binarylist = [\n",
    "    \"01001001\", \"10101010\", \"10010110\", \"00110111\", \"11101100\", \"11010001\", \"10000001\"\n",
    "]\n",
    "\n",
    "newlist = []\n",
    "finallist=[]\n",
    "for i in binarylist:\n",
    "    newlist.append(int(i, 2))\n",
    "for number in newlist:\n",
    "    if number < 100:\n",
    "        finallist.append(number)\n",
    "print(finallist)\n"
   ]
  }
 ],
 "metadata": {
  "kernelspec": {
   "display_name": "Python 3.8.10 64-bit",
   "language": "python",
   "name": "python3"
  },
  "language_info": {
   "codemirror_mode": {
    "name": "ipython",
    "version": 3
   },
   "file_extension": ".py",
   "mimetype": "text/x-python",
   "name": "python",
   "nbconvert_exporter": "python",
   "pygments_lexer": "ipython3",
   "version": "3.8.10"
  },
  "orig_nbformat": 4,
  "vscode": {
   "interpreter": {
    "hash": "916dbcbb3f70747c44a77c7bcd40155683ae19c65e1c03b4aa3499c5328201f1"
   }
  }
 },
 "nbformat": 4,
 "nbformat_minor": 2
}
