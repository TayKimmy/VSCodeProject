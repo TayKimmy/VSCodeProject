{
 "cells": [
  {
   "attachments": {},
   "cell_type": "markdown",
   "metadata": {},
   "source": [
    "# Unit 3 Section 16 Homework and Challenge\n",
    "- toc: true\n",
    "- comments: true \n",
    "- categories: [jupyter, Week 16]"
   ]
  },
  {
   "attachments": {},
   "cell_type": "markdown",
   "metadata": {},
   "source": [
    "### Hack #1 - Class Notes\n",
    "\n",
    "- Simulations are abstractions that mimic more complex objects or phenomena from the real world\n",
    "- Purposes:\n",
    "    - Drawing inferences without the contraints of the real world\n",
    "- Simulations use varying sets of values to reflect the changing state of a real phenomenon\n",
    "- Often, when developing a simulation, it is necessary to remove specific details or simplify aspects\n",
    "- Simulations can often contain bias based on which details or real-world elements were included/excluded\n",
    "- Simulations allow the formulation of hypotheses under consideration\n",
    "- Variability and randomness of the world is considered using random number generators\n",
    "- Examples: \n",
    "    - Rolling dice, spinners, molecular models, analyze chemicals/reactions...\n",
    "- A simulation allows us to explore this question without real world contraints of money, time, safety\n",
    "- Since the simulation won't be able to take all variables into control, it may have a bias towards one answer\n"
   ]
  },
  {
   "attachments": {},
   "cell_type": "markdown",
   "metadata": {},
   "source": [
    "### Hack #2 - Functions Classwork"
   ]
  },
  {
   "cell_type": "code",
   "execution_count": 1,
   "metadata": {},
   "outputs": [
    {
     "name": "stdout",
     "output_type": "stream",
     "text": [
      "85\n"
     ]
    }
   ],
   "source": [
    "# insert your work with randomization/ functions and the mycloset code here # Hint: Use the functions we talked about in the beginning!\n",
    "\n",
    "import random  # importing the package - random\n",
    "x = random.randint(1,100)  #getting a random integer between 1 and 100\n",
    "print(x) # printing the random integer"
   ]
  },
  {
   "attachments": {},
   "cell_type": "markdown",
   "metadata": {},
   "source": [
    "My-closet function:"
   ]
  },
  {
   "cell_type": "code",
   "execution_count": 4,
   "metadata": {},
   "outputs": [
    {
     "data": {
      "text/plain": [
       "['red shoes', 'green pants', 'belt']"
      ]
     },
     "execution_count": 4,
     "metadata": {},
     "output_type": "execute_result"
    }
   ],
   "source": [
    "import random\n",
    "def mycloset(): #def function\n",
    "    myclothes = [\"red shoes\", \"green pants\", \"tie\", \"belt\"] # defining clothes list\n",
    "    newclothes = [\"black shoes\", \"white shirt\", \"blue socks\", \"red jacket\"] # defining new clothes list\n",
    "    x = random.randint(1, len(newclothes)) # Creating random integer between 1 and the length of new clothes list\n",
    "    y = random.randint(1, len(myclothes)) #Creating random integer between 1 and the length of clothes list\n",
    "    user = input(\"Please decide whether to add or trash an item\") #creating user input\n",
    "    if user.lower() == \"add\":        # if user chooses add\n",
    "        myclothes.append(newclothes[x])   # adding a random item from new clothes into myclothes\n",
    "    elif user.lower() == \"trash\":      #if user chooses trash\n",
    "        myclothes.remove(myclothes[y])      #removing a random item from myclothes list\n",
    "    return myclothes    # returning the list\n",
    "\n",
    "mycloset()   # calling function"
   ]
  },
  {
   "attachments": {},
   "cell_type": "markdown",
   "metadata": {},
   "source": [
    "### Example: Coin Flip\n",
    "Edits:"
   ]
  },
  {
   "cell_type": "code",
   "execution_count": 6,
   "metadata": {},
   "outputs": [
    {
     "name": "stdout",
     "output_type": "stream",
     "text": [
      "Heads\n",
      "Heads\n",
      "Heads\n",
      "Heads\n",
      "Tails\n"
     ]
    }
   ],
   "source": [
    "import random\n",
    "\n",
    "def coinflip():         #def function \n",
    "    randomflip = random.randint(0, 2) #picks 0, 1, or 2 randomly - creating a weighted coin with 33% fail and 66% head\n",
    "    if randomflip == 0: #assigning 0 to be tails--> if 0 is chosen then it will print, \"tails\"\n",
    "        print(\"Tails\")\n",
    "    else:\n",
    "        if randomflip == 1 or randomflip == 2: #assigning 1 or 2 to be heads--> if 1 or 2 is chosen then it will print, \"heads\"\n",
    "            print(\"Heads\")\n",
    "\n",
    "#Tossing the coin 5 times:\n",
    "t1 = coinflip()\n",
    "t2 = coinflip()\n",
    "t3 = coinflip()\n",
    "t4 = coinflip()\n",
    "t5 = coinflip()"
   ]
  },
  {
   "cell_type": "markdown",
   "metadata": {},
   "source": [
    "### Hack #3 - Binary Simulation Problem"
   ]
  },
  {
   "cell_type": "code",
   "execution_count": 43,
   "metadata": {},
   "outputs": [
    {
     "name": "stdout",
     "output_type": "stream",
     "text": [
      "Jiya is a zombie\n",
      "Shruthi is a zombie\n",
      "Noor is a zombie\n",
      "Ananya is a survivor\n",
      "Peter Parker is a zombie\n",
      "Andrew Garfield is a zombie\n",
      "Tom Holland is a zombie\n",
      "Tobey Maguire is a zombie\n"
     ]
    }
   ],
   "source": [
    "# insert your zombie simulation here; you don't have to use this template but it will help you get started\n",
    "\n",
    "import random\n",
    "\n",
    "def randomnum(): # function for generating random int\n",
    "    x = random.randint(0, 255)   # random integer from 0 to 255\n",
    "    return x    # returning random integer\n",
    "\n",
    "def converttobin(n): # function for converting decimal to binary\n",
    "    binary = bin(n).replace(\"0b\", \"0\")\n",
    "    binary = binary.zfill(8)\n",
    "    return binary\n",
    "    \n",
    "def survivors(binary): # function to assign position\n",
    "    survivorstatus = [\"Jiya\", \"Shruthi\", \"Noor\", \"Ananya\" , \"Peter Parker\", \"Andrew Garfield\", \"Tom Holland\", \"Tobey Maguire\"]\n",
    "    num = 0\n",
    "    for bin in binary:\n",
    "        if bin == \"0\":\n",
    "            print(survivorstatus[num] + \" is a zombie\")\n",
    "        else:\n",
    "            print(survivorstatus[num] + \" is a survivor\")\n",
    "        num += 1\n",
    "\n",
    "\n",
    "survivors(converttobin(randomnum()))\n",
    "    # replace the names above with your choice of people in the house"
   ]
  },
  {
   "cell_type": "markdown",
   "metadata": {},
   "source": [
    "### Hack #4 - Thinking through a problem\n",
    "- create your own simulation involving a dice roll\n",
    "- should include randomization and a function for rolling + multiple trials"
   ]
  },
  {
   "cell_type": "code",
   "execution_count": 50,
   "metadata": {},
   "outputs": [
    {
     "name": "stdout",
     "output_type": "stream",
     "text": [
      "Roll 1: 5\n",
      "Roll 2: 6\n",
      "Roll 3: 5\n",
      "Roll 4: 3\n",
      "Roll 5: 3\n",
      "Roll 6: 6\n"
     ]
    }
   ],
   "source": [
    "import random\n",
    "def diceroll():\n",
    "    x = random.randint(1,6)\n",
    "    return x\n",
    "\n",
    "roll1 = diceroll()\n",
    "roll2 = diceroll()\n",
    "roll3 = diceroll()\n",
    "roll4 = diceroll()\n",
    "roll5 = diceroll()\n",
    "roll6 = diceroll()\n",
    "print(\"Roll 1:\", roll1)\n",
    "print(\"Roll 2:\", roll2)\n",
    "print(\"Roll 3:\", roll3)\n",
    "print(\"Roll 4:\", roll4)\n",
    "print(\"Roll 5:\", roll5)\n",
    "print(\"Roll 6:\", roll6)\n"
   ]
  },
  {
   "attachments": {},
   "cell_type": "markdown",
   "metadata": {},
   "source": [
    "### Hack 5 - Applying your knowledge to situation based problems\n",
    "\n",
    "Using the questions bank below, create a quiz that presents the user a random question and calculates the user's score. You can use the template below or make your own. Making your own using a loop can give you extra points. "
   ]
  },
  {
   "cell_type": "code",
   "execution_count": 69,
   "metadata": {},
   "outputs": [
    {
     "name": "stdout",
     "output_type": "stream",
     "text": [
      "Question: What is a simulation?\n",
      "mimic real world situations\n",
      "a procedure in coding\n",
      "a function of loops\n",
      "Answer is correct\n",
      "Question: What is always true of a simulation of a natural phenomenon?\n",
      "it abstracts away some details of the real world\n",
      "the simulation will always be accurate\n",
      "the simulation will always be focused on how damagineg natural phenomenons can be\n",
      "Answer is correct\n",
      "You scored 2/2\n"
     ]
    }
   ],
   "source": [
    "import random\n",
    "def Quiz(question, choices):\n",
    "    global word\n",
    "    print(\"Question: \" + question)\n",
    "    for c in choices:\n",
    "        print(c)\n",
    "    word = input()\n",
    "    return word\n",
    "\n",
    "questions = 2\n",
    "correct = 0\n",
    "list = [\n",
    "    {\"question\":\"What is a simulation?\", \"correct_answer\":\"mimic real world situations\", \"incorrect_answer\":[\"a procedure in coding\", \"a function of loops\"]},\n",
    "    {\"question\":\"What is always true of a simulation of a natural phenomenon?\", \"correct_answer\":\"it abstracts away some details of the real world\", \"incorrect_answer\":[\"the simulation will always be accurate\", \"the simulation will always be focused on how damagineg natural phenomenons can be\"]}]\n",
    "\n",
    "\n",
    "for i in range(len(list)):\n",
    "    multiple_choices = []\n",
    "    multiple_choices.append(list[i][\"correct_answer\"])\n",
    "    multiple_choices.append(list[i][\"incorrect_answer\"][0])\n",
    "    multiple_choices.append(list[i][\"incorrect_answer\"][1])\n",
    "    Quiz(list[i][\"question\"], multiple_choices)\n",
    "    if word.lower() == list[i][\"correct_answer\"]:\n",
    "        print(\"Answer is correct\")\n",
    "        correct += 1\n",
    "    else:\n",
    "        print(\"Answer is incorrect\")\n",
    "print( \"You scored \" + str(correct) +\"/\" + str(questions))"
   ]
  },
  {
   "attachments": {},
   "cell_type": "markdown",
   "metadata": {},
   "source": [
    "### Hack #6 / Challenge - Taking real life problems and implementing them into code"
   ]
  },
  {
   "attachments": {},
   "cell_type": "markdown",
   "metadata": {},
   "source": [
    "Create your own simulation based on your experiences/knowledge!\n",
    "Be creative! Think about instances in your own life, science, puzzles that can be made into simulations\n",
    "\n",
    "Some ideas to get your brain running: A simulation that breeds two plants and tells you phenotypes of offspring, an adventure simulation..."
   ]
  },
  {
   "cell_type": "code",
   "execution_count": 85,
   "metadata": {},
   "outputs": [
    {
     "name": "stdout",
     "output_type": "stream",
     "text": [
      "Runner 1 position: 600\n",
      "Runner 2 position: 602\n"
     ]
    }
   ],
   "source": [
    "runner1speed = 5\n",
    "runner2speed = 7\n",
    "runner1pos = 0\n",
    "runner2pos = 0\n",
    "totaldistance = 600\n",
    "uphillspeed = 0\n",
    "while runner1pos < totaldistance and runner2pos < totaldistance:\n",
    "    runner1pos += runner1speed\n",
    "    runner2pos += runner2speed\n",
    "    for x in range(340, 400):\n",
    "        uphillspeed = x//70\n",
    "        runner1speed = uphillspeed\n",
    "        runner2speed = uphillspeed\n",
    "print(\"Runner 1 position:\", runner1pos)\n",
    "print(\"Runner 2 position:\", runner2pos)"
   ]
  }
 ],
 "metadata": {
  "kernelspec": {
   "display_name": "Python 3",
   "language": "python",
   "name": "python3"
  },
  "language_info": {
   "codemirror_mode": {
    "name": "ipython",
    "version": 3
   },
   "file_extension": ".py",
   "mimetype": "text/x-python",
   "name": "python",
   "nbconvert_exporter": "python",
   "pygments_lexer": "ipython3",
   "version": "3.8.10 (default, Jun 22 2022, 20:18:18) \n[GCC 9.4.0]"
  },
  "orig_nbformat": 4,
  "vscode": {
   "interpreter": {
    "hash": "916dbcbb3f70747c44a77c7bcd40155683ae19c65e1c03b4aa3499c5328201f1"
   }
  }
 },
 "nbformat": 4,
 "nbformat_minor": 2
}
