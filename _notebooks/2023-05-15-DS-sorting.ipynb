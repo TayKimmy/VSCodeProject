{
 "cells": [
  {
   "attachments": {},
   "cell_type": "markdown",
   "metadata": {},
   "source": [
    "# Sorting Algorithms\n",
    "> Working with Data Structures and manipulating data.\n",
    "\n",
    "- toc: true\n",
    "- categories: []\n",
    "- week: 34"
   ]
  },
  {
   "attachments": {},
   "cell_type": "markdown",
   "metadata": {},
   "source": [
    "[wget link](https://raw.githubusercontent.com/nighthawkcoders/APCSP/master/_notebooks/2023-05-15-DS-sorting.ipynb)"
   ]
  },
  {
   "cell_type": "code",
   "execution_count": 1,
   "metadata": {},
   "outputs": [
    {
     "name": "stdout",
     "output_type": "stream",
     "text": [
      "Random List\n",
      "[88, 84, 97, 75, 49, 44, 16, 40, 96, 42]\n"
     ]
    }
   ],
   "source": [
    "import random\n",
    "\n",
    "numbers = []\n",
    "for i in range(10):\n",
    "    numbers.append(random.randint(0,100))\n",
    "print(\"Random List\")\n",
    "print(numbers)"
   ]
  },
  {
   "attachments": {},
   "cell_type": "markdown",
   "metadata": {},
   "source": [
    "# Warm Up\n",
    "\n",
    "> Discuss with a partner... \n",
    "What are some strategies you would use to sort this list? (Don't worry about writing code for now)\n",
    "- I would most likely sort this list in order from greatest to least or least to greatest. I can look through the numbers in the list and place the smallest/greatest in the front."
   ]
  },
  {
   "attachments": {},
   "cell_type": "markdown",
   "metadata": {},
   "source": [
    "# Explore\n",
    "\n",
    "Get into groups of 3\n",
    "\n",
    "We will be focusing on 4 algorithms today.\n",
    "\n",
    "We will look at the first one together, Bubble Sort\n",
    "\n",
    "![d](images/bubble-sort.png)\n",
    "\n",
    "What is happening with this sort?\n",
    "\n",
    "In your groups you will each choose to be an expert on a sorting algorithm. Merge, Selection, and Insertion.\n",
    "Take about 5 minutes to read about your algorithm (Geek for Geeks linked below) and be ready to explain it to your other group members. \n",
    "\n",
    "[Merge](https://www.geeksforgeeks.org/merge-sort/#)\n",
    "\n",
    "[Selection](https://www.geeksforgeeks.org/selection-sort/)\n",
    "\n",
    "[Insertion](https://www.geeksforgeeks.org/insertion-sort/)"
   ]
  },
  {
   "attachments": {},
   "cell_type": "markdown",
   "metadata": {},
   "source": [
    "## Practice\n",
    "\n",
    "[75, 17, 46, 80, 67, 45, 69, 79, 40, 0]\n",
    "\n",
    "How would you sort this list with... \n",
    "- Bubble Sort\n",
    "- Selection Sort\n",
    "> Explain.\n",
    "Bubble Sort: I would sort this list with bubble sort by iterating through the list multiple times. Each time, I would go to the right and look at 2 consecutive elements - for example, 75 and 17. If the one on the right is smaller than the one on the left, I will switch the two, so here, I switch 75 and 17 since 17 is smaller than 75. I keep doing this until the list is sorted.\n",
    "Selection Sort: I will look at the biggest number and the smallest number in the list and then switch the 2 - 80 and 0. Then, I will look at the 2nd biggest and the 2nd smallest and switch - 79, 17. I keep doing this until the list is sorted.\n",
    "\n",
    "[88, 39, 53, 39, 58, 43, 74, 81, 71, 51]\n",
    "\n",
    "How would you sort this list with... \n",
    "- Merge Sort\n",
    "- Insertion Sort\n",
    "> Explain.\n",
    "Merge Sort: I will split the list until only individual elements remain - 88, 39, 53, 39, 58, 43, 74, 81, 71, 51. The elements are sorted and then merged into 1 sorted list.\n",
    "Insertion Sort: The process will be very similar to Bubble Sort except insertion will only iterate through the list once. It looks at 2 consecutive elements and switches them if the one on the right is smaller - 75 and 17. It also looks at the new consecutive elements after switching so that the whole list is sorted. For example, after switching 75 and 17, 75 is also bigger than 46 so the two are switched."
   ]
  },
  {
   "attachments": {},
   "cell_type": "markdown",
   "metadata": {},
   "source": [
    "# Sorting Words\n",
    "> Sorting strings works in the same way as integers. Using your expertise algorithm, sort the following list of random words."
   ]
  },
  {
   "cell_type": "code",
   "execution_count": 1,
   "metadata": {},
   "outputs": [
    {
     "name": "stdout",
     "output_type": "stream",
     "text": [
      "Random List\n",
      "['wickerwork', 'eyepiece', 'dissimilarly', 'viscerotropic', 'frush', 'slough', 'trawl', 'countercheck', 'amimia', 'hypho']\n"
     ]
    },
    {
     "name": "stderr",
     "output_type": "stream",
     "text": [
      "[nltk_data] Downloading package words to /home/taykim/nltk_data...\n",
      "[nltk_data]   Package words is already up-to-date!\n"
     ]
    }
   ],
   "source": [
    "import nltk\n",
    "import random\n",
    "from nltk.corpus import words\n",
    "nltk.download('words')  # Download the word list (only required once)\n",
    "english_words = words.words()\n",
    "\n",
    "def new_words():\n",
    "    # You can now use the 'english_words' list in your code\n",
    "    random_words = []\n",
    "    for i in range(10):\n",
    "        random_words.append(english_words[random.randint(0,len(english_words))])\n",
    "    return random_words\n",
    "        \n",
    "\n",
    "print(\"Random List\")\n",
    "print(new_words())"
   ]
  },
  {
   "cell_type": "code",
   "execution_count": 12,
   "metadata": {},
   "outputs": [
    {
     "name": "stdout",
     "output_type": "stream",
     "text": [
      "Random List:\n",
      "['seizable', 'supererogate', 'venerability', 'cloistress', 'corvillosum', 'chamaeprosopic', 'subassembly', 'bearwood', 'rakan', 'archgenethliac']\n",
      "Sorted List:\n",
      "['archgenethliac', 'bearwood', 'chamaeprosopic', 'cloistress', 'corvillosum', 'rakan', 'seizable', 'subassembly', 'supererogate', 'venerability']\n"
     ]
    }
   ],
   "source": [
    "def insertion_sort(word_list):\n",
    "    for i in range(1, len(word_list)):\n",
    "        current_word = word_list[i]\n",
    "        j = i - 1\n",
    "        while j >= 0 and word_list[j] > current_word:\n",
    "            word_list[j + 1] = word_list[j]\n",
    "            j -= 1\n",
    "        word_list[j + 1] = current_word\n",
    "\n",
    "random_words = new_words()\n",
    "print(\"Random List:\")\n",
    "print(random_words)\n",
    "\n",
    "insertion_sort(random_words)\n",
    "print(\"Sorted List:\")\n",
    "print(random_words)"
   ]
  },
  {
   "attachments": {},
   "cell_type": "markdown",
   "metadata": {},
   "source": [
    "## Bubble Sort Popcorn Hack"
   ]
  },
  {
   "attachments": {},
   "cell_type": "markdown",
   "metadata": {},
   "source": [
    "Edits:\n",
    "- ```Len(list) - 1``` changed to ```len(list)```\n",
    "- Changing ranges to ```x-1``` and ```x-i-1```\n",
    "- Changing ```return``` to ```break```\n",
    "- Changing the ```for loop``` so that ```if not swapped``` is outside\n",
    "- Putting ```words = new_words()``` at the end so that the function works better"
   ]
  },
  {
   "cell_type": "code",
   "execution_count": 36,
   "metadata": {},
   "outputs": [
    {
     "name": "stdout",
     "output_type": "stream",
     "text": [
      "['gunnel', 'abjure', 'geopolitics', 'incommunicable', 'connexity', 'invigorative', 'abiology', 'prodigalish', 'claustral', 'rebop']\n",
      "Sorted List:\n",
      "['abiology', 'abjure', 'claustral', 'connexity', 'geopolitics', 'gunnel', 'incommunicable', 'invigorative', 'prodigalish', 'rebop']\n"
     ]
    }
   ],
   "source": [
    "def bubbleSort(word_list):\n",
    "    x = len(word_list)\n",
    "\n",
    "    for i in range(x - 1):\n",
    "        swapped = False\n",
    "\n",
    "        for j in range(x - i - 1):\n",
    "            if word_list[j] > word_list[j + 1]:\n",
    "                word_list[j], word_list[j + 1] = word_list[j + 1], word_list[j]\n",
    "                swapped = True         \n",
    "        if not swapped:\n",
    "            break\n",
    "        \n",
    "\n",
    "words = new_words()\n",
    "print(words)\n",
    "\n",
    "bubbleSort(words)\n",
    "print(\"Sorted List:\")\n",
    "print(words)"
   ]
  },
  {
   "attachments": {},
   "cell_type": "markdown",
   "metadata": {},
   "source": [
    "## Selection Sort Popcorn Hack"
   ]
  },
  {
   "attachments": {},
   "cell_type": "markdown",
   "metadata": {},
   "source": [
    "Edits:\n",
    "- Removing the use of ```keyV``` because it is unnecessary and using ```word_list[j]``` directly\n",
    "- Putting ```words = new_words()``` at the end so that the function works better"
   ]
  },
  {
   "cell_type": "code",
   "execution_count": 33,
   "metadata": {},
   "outputs": [
    {
     "name": "stdout",
     "output_type": "stream",
     "text": [
      "['wampee', 'casuistic', 'verdugoship', 'flatbottom', 'anaesthesia', 'coincidentally', 'balancement', 'ethnozoological', 'obstetrics', 'expressible']\n",
      "Sorted List:\n",
      "['anaesthesia', 'balancement', 'casuistic', 'coincidentally', 'ethnozoological', 'expressible', 'flatbottom', 'obstetrics', 'verdugoship', 'wampee']\n"
     ]
    }
   ],
   "source": [
    "def selectionSort(word_list):\n",
    "    n = len(word_list)\n",
    "    \n",
    "    for i in range(n):\n",
    "        smallI = i\n",
    "        smallV = word_list[i]\n",
    "\n",
    "        for j in range(i + 1, n):\n",
    "            if word_list[j] < smallV:\n",
    "                smallI = j\n",
    "                smallV = word_list[j]\n",
    "        \n",
    "        word_list[i], word_list[smallI] = word_list[smallI], word_list[i]\n",
    "        \n",
    "\n",
    "words = new_words()\n",
    "print(words)\n",
    "\n",
    "selectionSort(words)\n",
    "print(\"Sorted List:\")\n",
    "print(words)"
   ]
  },
  {
   "attachments": {},
   "cell_type": "markdown",
   "metadata": {},
   "source": [
    "## Discuss \n",
    "Answer the following with your group.\n",
    "\n",
    "- When should you use each algorithm? What makes an algorithm the right choice?\n",
    "- Given the following lists...\n",
    "    - [0, 2, 6, 4, 8, 10]\n",
    "    - [Elephant, Banana, Cat, Dog, Apple]\n",
    "    - [29, 13, 83, 47, 32, 78, 100, 60, 65, 15, 24, 9, 40, 68, 53, 8, 90, 58, 39, 32, 34, 91, 74, 94, 49, 87, 34, 87, 23, 17, 27, 2, 38, 58, 84, 15, 9, 46, 74, 40, 44, 8, 55, 28, 81, 92, 81, 88, 53, 38, 19, 21, 9, 54, 21, 67, 3, 41, 3, 74, 13, 71, 70, 45, 5, 36, 80, 64, 97, 86, 73, 74, 94, 79, 49, 32, 20, 68, 64, 69, 1, 77, 31, 56, 100, 80, 48, 75, 85, 93, 67, 57, 26, 56, 43, 53, 59, 28, 67, 50]\n",
    "Select the algorithm you believe is best for each, explain.\n",
    "\n",
    "1: Insertion Sort is the best option because there are only 2 elements that need to be switched and insertion only iterates through the list once, so it will be much faster than the other algorithms.\n",
    "\n",
    "2: Selection Sort is the best option because the 2 elements that are misplaced are the \"greatest\" and \"smallest\" values in terms of alphabetical order. In this list, only ```Elephant``` and ```Apple``` need to be replaced so selection is much better.\n",
    "\n",
    "3: Merge Sort is the best option because it is the only one with an efficient time complexity and works well for long lists."
   ]
  },
  {
   "attachments": {},
   "cell_type": "markdown",
   "metadata": {},
   "source": [
    "## HACKS\n",
    "> Provided below is a Bubble Sort Algorithm sorting a list of dictionaries based off of selected key.\n",
    "\n",
    "- Now it's time to do some coding...\n",
    "\n",
    "- Run code and then research and answer these questions...\n",
    "    - Is a list and/or dictionary in python considered a primitive or collection type?  Why?\n",
    "    - Is the list passed into bubble sort \"pass-by-value\" or \"pass-by-reference? Describe why in relation to output.\n",
    "\n",
    "Lists and dictionaries are collection types than primitive types. A collection type is a data type that can hold multiple values, whereas a primitive type represents a single value. Both lists and dictionaries contain multiple values. The list passed into the bubble sort is \"pass-by-reference\" because \"pass-by-reference\" means the original list is changed through the function. Since the bubble sort changes the order of the original list, the list is \"pass-by-reference\".\n",
    "\n",
    "- Implement new cell(s) and/or organize cells to do the following.\n",
    "    - Create your own list\n",
    "    - Use your expertise sorting algorithm (selection, insertion, merge). Note, I got my bubble sort from Geek for Geeks and made modifications. Each student in a group should have a unique algorithm.\n",
    "    - Test your list with my bubble sort\n",
    "    - Test my list with your new sort\n",
    "    - Research analysis on sorting: comparisons, swaps, time.  Build this into your hacks.\n",
    "    - Find a better way to print the data, key first, then other elements in viewable form.\n",
    "\n",
    "Use the code below to help guide your adventure"
   ]
  },
  {
   "cell_type": "code",
   "execution_count": 49,
   "metadata": {},
   "outputs": [
    {
     "name": "stdout",
     "output_type": "stream",
     "text": [
      "Original\n",
      "{'name': 'Risa', 'age': 18, 'city': 'New York'}\n",
      "{'name': 'John', 'age': 63, 'city': 'Eugene'}\n",
      "{'name': 'Shekar', 'age': 18, 'city': 'San Francisco'}\n",
      "{'name': 'Ryan', 'age': 21, 'city': 'Los Angeles'}\n",
      "name\n",
      "[{'name': 'John', 'age': 63, 'city': 'Eugene'}, {'name': 'Risa', 'age': 18, 'city': 'New York'}, {'name': 'Ryan', 'age': 21, 'city': 'Los Angeles'}, {'name': 'Shekar', 'age': 18, 'city': 'San Francisco'}]\n",
      "age\n",
      "[{'name': 'Risa', 'age': 18, 'city': 'New York'}, {'name': 'Shekar', 'age': 18, 'city': 'San Francisco'}, {'name': 'Ryan', 'age': 21, 'city': 'Los Angeles'}, {'name': 'John', 'age': 63, 'city': 'Eugene'}]\n",
      "city\n",
      "[{'name': 'John', 'age': 63, 'city': 'Eugene'}, {'name': 'Ryan', 'age': 21, 'city': 'Los Angeles'}, {'name': 'Risa', 'age': 18, 'city': 'New York'}, {'name': 'Shekar', 'age': 18, 'city': 'San Francisco'}]\n"
     ]
    }
   ],
   "source": [
    "\"\"\"\n",
    "* Creator: Nighthawk Coding Society\n",
    "Bubble Sort of a List with optimizations\n",
    "\"\"\"\n",
    "\n",
    "# bubble sorts a list of dictionaries, base off of provided key\n",
    "def bubbleSort(list, key):\n",
    "    n = len(list) - 1  # list are indexed 0 to n-1, len is n\n",
    "    \n",
    "    # Traverse through list with i index\n",
    "    for i in range(n):\n",
    "        swapped = False  # optimize code, so it exits if now swaps on inner loop\n",
    "\n",
    "        # Inner traversal using j index\n",
    "        for j in range(n-i):  # n-i as positions on right are in order in bubble\n",
    " \n",
    "            # Swap if the element KeyN is greater KeyN1\n",
    "            keyN = list[j].get(key)\n",
    "            keyN1 = list[j+1].get(key)\n",
    "            if keyN > keyN1:\n",
    "                swapped = True\n",
    "                list[j], list[j + 1] = list[j + 1], list[j]  # single line swap\n",
    "         \n",
    "        if not swapped:  # if no swaps on inner pass, list is sorted\n",
    "            return  # exit function\n",
    "    \n",
    "\n",
    "if __name__ == \"__main__\":\n",
    "    # list/dictionary sample\n",
    "    list_of_people = [\n",
    "    {\"name\": \"Risa\", \"age\": 18, \"city\": \"New York\"},\n",
    "    {\"name\": \"John\", \"age\": 63, \"city\": \"Eugene\"},\n",
    "    {\"name\": \"Shekar\", \"age\": 18, \"city\": \"San Francisco\"},\n",
    "    {\"name\": \"Ryan\", \"age\": 21, \"city\": \"Los Angeles\"}\n",
    "    ]\n",
    "    \n",
    "    # assuming uniform keys, pick 1st row as source of keys\n",
    "    key_row = list_of_people[0]\n",
    "\n",
    "    # print list as defined\n",
    "    print(\"Original\")\n",
    "    print(list_of_people)\n",
    "    \n",
    "    for key in key_row:  # finds each key in the row\n",
    "        print(key)\n",
    "        bubbleSort(list_of_people, key)  # sort list of people\n",
    "        print(list_of_people)"
   ]
  },
  {
   "attachments": {},
   "cell_type": "markdown",
   "metadata": {},
   "source": [
    "### Merge Sort for lists"
   ]
  },
  {
   "cell_type": "code",
   "execution_count": 60,
   "metadata": {},
   "outputs": [
    {
     "name": "stdout",
     "output_type": "stream",
     "text": [
      "Original number list:\n",
      "[40, 20, 12, 50, 42, 17, 83, 29]\n",
      "Sorted number list:\n",
      "[12, 17, 20, 29, 40, 42, 50, 83]\n",
      "Original word list:\n",
      "['spoihpseoihg', 'boieroiejef', 'psaovh', 'saophnn', 'waohg']\n",
      "Sorted word list\n",
      "['boieroiejef', 'psaovh', 'saophnn', 'spoihpseoihg', 'waohg']\n"
     ]
    }
   ],
   "source": [
    "def mergeSort(lst):\n",
    "    if len(lst) <= 1:\n",
    "        return lst\n",
    "    \n",
    "    mid = len(lst) // 2\n",
    "    left = lst[:mid]\n",
    "    right = lst[mid:]\n",
    "\n",
    "    left = mergeSort(left)\n",
    "    right = mergeSort(right)\n",
    "\n",
    "    return merge(left, right)\n",
    "\n",
    "def merge(left, right):\n",
    "    merged_list = []\n",
    "    left_index = right_index = 0\n",
    "    while left_index < len(left) and right_index < len(right):\n",
    "        if left[left_index] < right[right_index]:\n",
    "            merged_list.append(left[left_index])\n",
    "            left_index += 1\n",
    "        else:\n",
    "            merged_list.append(right[right_index])\n",
    "            right_index += 1\n",
    "    merged_list.extend(left[left_index:])\n",
    "    merged_list.extend(right[right_index:])\n",
    "    return merged_list\n",
    "\n",
    "num_list = [40, 20, 12, 50, 42, 17, 83, 29]\n",
    "word_list = [\"spoihpseoihg\", \"boieroiejef\", \"psaovh\", \"saophnn\", \"waohg\"]\n",
    "\n",
    "print(\"Original number list:\")\n",
    "print(num_list)\n",
    "sorted_num_list = mergeSort(num_list)\n",
    "print(\"Sorted number list:\")\n",
    "print(sorted_num_list)\n",
    "\n",
    "print(\"Original word list:\")\n",
    "print(word_list)\n",
    "sorted_word_list = mergeSort(word_list)\n",
    "print(\"Sorted word list\")\n",
    "print(sorted_word_list)\n",
    "            "
   ]
  },
  {
   "attachments": {},
   "cell_type": "markdown",
   "metadata": {},
   "source": [
    "### Merge Sort for dictionaries and testing with sample list"
   ]
  },
  {
   "cell_type": "code",
   "execution_count": 58,
   "metadata": {},
   "outputs": [
    {
     "name": "stdout",
     "output_type": "stream",
     "text": [
      "Original List:\n",
      "{'name': 'John', 'age': 63, 'city': 'Eugene'}\n",
      "{'name': 'Ryan', 'age': 21, 'city': 'Los Angeles'}\n",
      "{'name': 'Risa', 'age': 18, 'city': 'New York'}\n",
      "{'name': 'Shekar', 'age': 18, 'city': 'San Francisco'}\n",
      "Sorted by:\n",
      "Name:\n",
      "{'name': 'John', 'age': 63, 'city': 'Eugene'}\n",
      "{'name': 'Risa', 'age': 18, 'city': 'New York'}\n",
      "{'name': 'Ryan', 'age': 21, 'city': 'Los Angeles'}\n",
      "{'name': 'Shekar', 'age': 18, 'city': 'San Francisco'}\n",
      "Age:\n",
      "{'name': 'Shekar', 'age': 18, 'city': 'San Francisco'}\n",
      "{'name': 'Risa', 'age': 18, 'city': 'New York'}\n",
      "{'name': 'Ryan', 'age': 21, 'city': 'Los Angeles'}\n",
      "{'name': 'John', 'age': 63, 'city': 'Eugene'}\n",
      "City:\n",
      "{'name': 'John', 'age': 63, 'city': 'Eugene'}\n",
      "{'name': 'Ryan', 'age': 21, 'city': 'Los Angeles'}\n",
      "{'name': 'Risa', 'age': 18, 'city': 'New York'}\n",
      "{'name': 'Shekar', 'age': 18, 'city': 'San Francisco'}\n"
     ]
    }
   ],
   "source": [
    "def mergeSortDictList(list_of_dicts, key):\n",
    "    if len(list_of_dicts) <= 1:\n",
    "        return list_of_dicts\n",
    "\n",
    "    mid = len(list_of_dicts) // 2\n",
    "    left = mergeSortDictList(list_of_dicts[:mid], key)\n",
    "    right = mergeSortDictList(list_of_dicts[mid:], key)\n",
    "\n",
    "    return mergeDictlist(left, right, key)\n",
    "\n",
    "\n",
    "def mergeDictlist(left, right, key):\n",
    "    merged_list = []\n",
    "    left_index = right_index = 0\n",
    "\n",
    "    while left_index < len(left) and right_index < len(right):\n",
    "        if left[left_index][key] < right[right_index][key]:\n",
    "            merged_list.append(left[left_index])\n",
    "            left_index += 1\n",
    "        else:\n",
    "            merged_list.append(right[right_index])\n",
    "            right_index += 1\n",
    "\n",
    "    merged_list.extend(left[left_index:])\n",
    "    merged_list.extend(right[right_index:])\n",
    "\n",
    "    return merged_list\n",
    "\n",
    "\n",
    "\n",
    "print(\"Original List:\")\n",
    "for person in list_of_people:\n",
    "    print(person)\n",
    "\n",
    "sorted_name = mergeSortDictList(list_of_people, key=\"name\")\n",
    "sorted_age = mergeSortDictList(list_of_people, key=\"age\")\n",
    "sorted_city = mergeSortDictList(list_of_people, key=\"city\")\n",
    "\n",
    "print(\"Sorted by:\")\n",
    "print(\"Name:\")\n",
    "for person in sorted_name:\n",
    "    print(person)\n",
    "print(\"Age:\")\n",
    "for person in sorted_age:\n",
    "    print(person)\n",
    "print(\"City:\")\n",
    "for person in sorted_city:\n",
    "    print(person)\n"
   ]
  }
 ],
 "metadata": {
  "kernelspec": {
   "display_name": "base",
   "language": "python",
   "name": "python3"
  },
  "language_info": {
   "codemirror_mode": {
    "name": "ipython",
    "version": 3
   },
   "file_extension": ".py",
   "mimetype": "text/x-python",
   "name": "python",
   "nbconvert_exporter": "python",
   "pygments_lexer": "ipython3",
   "version": "3.9.12"
  },
  "orig_nbformat": 4
 },
 "nbformat": 4,
 "nbformat_minor": 2
}
