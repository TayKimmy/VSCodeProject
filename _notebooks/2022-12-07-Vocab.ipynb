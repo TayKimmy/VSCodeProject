{
 "cells": [
  {
   "cell_type": "markdown",
   "metadata": {},
   "source": [
    "# Vocab\n",
    "- toc: true\n",
    "- layout: post\n",
    "- description: This is a blog post about Units 2 and 3 Vocab"
   ]
  },
  {
   "cell_type": "markdown",
   "metadata": {},
   "source": [
    "## Unit 2 Vocab\n",
    "- Bits - Smallest unit of data that a computer can process and store\n",
    "- Bytes - A unit of data that is eight binary digits long\n",
    "- Hexadecimal - A numbering system with base 16\n",
    "- Binary Numbers - A numbering scheme in which there are only two possible values for each digit -- 0 or 1 :\n",
    "    - Unsigned Integer - Just like integers (whole numbers) but have the property that they don't have a + or - sign associated with them\n",
    "    - Signed Integer - Represent both positive and negative numbers\n",
    "    - Floating Point - A positive or negative whole number with a decimal point\n",
    "- Binary Data Abstractions - Reduction of a particular body of data to a simplified representation of the whole:\n",
    "    - Boolean - A logical data type that can have only the values true or false\n",
    "    - ASCII - The most common character encoding format for text data in computers and on the internet\n",
    "    - Unicode - Universal character representation standard for text in computer processing\n",
    "    - RGB - A system for representing the colors to be used on a computer display\n",
    "- Data Compression - the process of encoding, restructuring or otherwise modifying data in order to reduce its size:\n",
    "    - Lossy - the data in a file is removed and not restored to its original form after decompression\n",
    "    - Lossless - restores and rebuilds file data in its original form after the file is decompressed"
   ]
  },
  {
   "cell_type": "code",
   "execution_count": 55,
   "metadata": {},
   "outputs": [
    {
     "name": "stdout",
     "output_type": "stream",
     "text": [
      "False\n",
      "20\n",
      "-2\n",
      "5.4\n",
      "68\n"
     ]
    }
   ],
   "source": [
    "isRaining = False\n",
    "num1 = 20\n",
    "num2 = -2\n",
    "num3 = 5.4\n",
    "letter = \"D\"\n",
    "c = ord(letter)\n",
    "print(isRaining)\n",
    "print(num1)\n",
    "print(num2)\n",
    "print(num3)\n",
    "print(c)"
   ]
  },
  {
   "cell_type": "code",
   "execution_count": 56,
   "metadata": {},
   "outputs": [
    {
     "name": "stdout",
     "output_type": "stream",
     "text": [
      "10100"
     ]
    },
    {
     "data": {
      "text/plain": [
       "'0x14'"
      ]
     },
     "execution_count": 56,
     "metadata": {},
     "output_type": "execute_result"
    }
   ],
   "source": [
    "def Binary(x):\n",
    "    if x > 1:\n",
    "        Binary(x//2)\n",
    "    print(x%2, end = \"\")\n",
    "def Hexadecimal(y):\n",
    "    return hex(y)\n",
    "Binary(num1)\n",
    "Hexadecimal(num1)"
   ]
  },
  {
   "cell_type": "markdown",
   "metadata": {},
   "source": [
    "## Unit 3 Vocab\n",
    "- Variable - A value that can change, depending on conditions or on information passed to the program\n",
    "- Data types - A classification that specifies which type of value a variable has and what type of mathematical, relational or logical operations can be applied to it without causing an error\n",
    "- Assignment Operation - The operator used to assign a new value to a variable, property, event or indexer element\n",
    "- Managing Complexity with Variables - Establishes a level of complexity on which a person interacts with the system, suppressing the more complex details below the current level:\n",
    "    - Lists - abstract data type that represents a finite number of ordered values, where the same value may occur more than once\n",
    "    - 2D Lists - collection of data cells, all of the same type, which can be given a single name\n",
    "    - Dictionaries - an abstract data type that defines an unordered collection of data as a set of key-value pairs\n",
    "    - Class - template definition of the method s and variable s in a particular kind of object\n",
    "    - Algorithms -  a procedure used for solving a problem or performing a computation\n",
    "    - Sequence - the order in which the statements are executed\n",
    "    - Selection - a programming construct where a section of code is run only if a condition is met\n",
    "    - Iteration - a process where the design of a product or application is improved by repeated review and testing\n",
    "    - Expressions - a combination of values and functions that are combined and interpreted by the compiler to create a new value\n",
    "    - Comparison Operators - used to compare the values within an expression, such as to check if the value held by a variable matches the value held by another variable\n",
    "    - Booleans Expressions and Selection - a logical statement that is either TRUE or FALSE and can be selected\n",
    "    - Booleans Expressions and Iteration - a logical statement that is either TRUE or FALSE where a process can be repeated\n",
    "    - Truth Tables - a way of summarising and checking the logic of a circuit\n",
    "    - Characters - a display unit of information equivalent to one alphabetic letter or symbol\n",
    "    - Strings - a sequence of characters, either as a literal constant or as some kind of variable\n",
    "    - Length - The length of a data type, can be number of characters or number of data\n",
    "    - Concatenation - the operation of joining two strings together\n",
    "    - Upper - Uppercase characters\n",
    "    - Lower - Lowercase characters\n",
    "    - Traversing Strings - accessing all the elements of the string one after the other by using the subscript\n",
    "    - Python If, Elif, Else conditionals - expressions that evaluate to either true or false\n",
    "    - Nested Selection Statements - used when more than one decision must be made before carrying out a task\n",
    "    - Python For, While loops with Range, with List - a sequence of instruction s that is continually repeated until a certain condition is reached\n",
    "    - Combining loops with conditionals to Break, Continue - Conditionals that occur while a specific process is being repeated - can be stopped or passed\n",
    "    - Procedural Abstraction - when we write code sections which are generalised by having variable parameters\n",
    "    - Python Def procedures - A procedure allows us to group a block of code under a name, known as a procedure name\n",
    "    - Parameters - a special kind of variable used in a function to refer to one of the pieces of data provided as input to the function\n",
    "    - Return Values - ends the execution of a function, and returns control to the calling function"
   ]
  },
  {
   "cell_type": "code",
   "execution_count": 57,
   "metadata": {},
   "outputs": [
    {
     "name": "stdout",
     "output_type": "stream",
     "text": [
      "APCSP\n",
      "3\n",
      "csp\n"
     ]
    }
   ],
   "source": [
    "list = [\"milk\",\"cookies\",\"cake\"]\n",
    "list1 = [28, 46, 51, 78, 16]\n",
    "list2 = []\n",
    "list3 = []\n",
    "list4 = []\n",
    "word = \"AP\"\n",
    "word1 = \"CSP\"\n",
    "dict = {\"Messi\":\"Soccer\", \"Lebron James\":\"Basketball\", \"Usain Bolt\":\"Track Sprinter\", \"Roger Federer\":\"Baseball\"}\n",
    "isCold = True\n",
    "isRaining = False\n",
    "\n",
    "print(word + word1)\n",
    "print(len(list))\n",
    "print(word1.lower())"
   ]
  },
  {
   "cell_type": "code",
   "execution_count": 58,
   "metadata": {},
   "outputs": [
    {
     "name": "stdout",
     "output_type": "stream",
     "text": [
      "50\n",
      "['A', 'P']\n",
      "['milk', 'cookies', 'cake']\n",
      "[28, 46, 78, 16]\n",
      "{'Messi': 'Soccer', 'Lebron James': 'Basketball', 'Usain Bolt': 'Track Sprinter', 'Roger Federer': 'Tennis', 'Tiger Woods': 'Golf'}\n"
     ]
    }
   ],
   "source": [
    "for characters in word:\n",
    "    list4.append(characters)\n",
    "for i in list:\n",
    "    list2.append(i)\n",
    "for x in list1:\n",
    "    if x % 2 == 0:\n",
    "        list3.append(x)\n",
    "    else:\n",
    "        y = x - 1\n",
    "        print(y)\n",
    "print(list4)\n",
    "print(list2)\n",
    "print(list3)\n",
    "\n",
    "dict[\"Roger Federer\"] = \"Tennis\"\n",
    "dict[\"Tiger Woods\"] = \"Golf\"\n",
    "print(dict)"
   ]
  },
  {
   "cell_type": "code",
   "execution_count": 59,
   "metadata": {},
   "outputs": [
    {
     "name": "stdout",
     "output_type": "stream",
     "text": [
      "Remember to wear warm clothes\n"
     ]
    }
   ],
   "source": [
    "if isCold == True:\n",
    "    if isRaining == True:\n",
    "        print(\"You should stay home or wear warm clothes with an umbrella\")\n",
    "    elif isRaining == False:\n",
    "        print(\"Remember to wear warm clothes\")\n",
    "else:\n",
    "    print(\"Go outside\")"
   ]
  },
  {
   "cell_type": "code",
   "execution_count": 60,
   "metadata": {},
   "outputs": [
    {
     "data": {
      "text/plain": [
       "5040"
      ]
     },
     "execution_count": 60,
     "metadata": {},
     "output_type": "execute_result"
    }
   ],
   "source": [
    "def Factorial(z):\n",
    "    c = 1\n",
    "    while z > 1:\n",
    "        c = c * z\n",
    "        z = z - 1\n",
    "    return c\n",
    "\n",
    "Factorial(7)"
   ]
  }
 ],
 "metadata": {
  "kernelspec": {
   "display_name": "Python 3.8.10 64-bit",
   "language": "python",
   "name": "python3"
  },
  "language_info": {
   "codemirror_mode": {
    "name": "ipython",
    "version": 3
   },
   "file_extension": ".py",
   "mimetype": "text/x-python",
   "name": "python",
   "nbconvert_exporter": "python",
   "pygments_lexer": "ipython3",
   "version": "3.8.10"
  },
  "orig_nbformat": 4,
  "vscode": {
   "interpreter": {
    "hash": "31f2aee4e71d21fbe5cf8b01ff0e069b9275f58929596ceb00d14d90e3e16cd6"
   }
  }
 },
 "nbformat": 4,
 "nbformat_minor": 2
}
